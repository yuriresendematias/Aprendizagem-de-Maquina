{
 "cells": [
  {
   "cell_type": "markdown",
   "metadata": {},
   "source": [
    "### Utilizando a base de dados archive.ics.uci.edu/ml/datasets/Car+Evaluation:"
   ]
  },
  {
   "cell_type": "code",
   "execution_count": 39,
   "metadata": {},
   "outputs": [
    {
     "data": {
      "text/html": [
       "<div>\n",
       "<style scoped>\n",
       "    .dataframe tbody tr th:only-of-type {\n",
       "        vertical-align: middle;\n",
       "    }\n",
       "\n",
       "    .dataframe tbody tr th {\n",
       "        vertical-align: top;\n",
       "    }\n",
       "\n",
       "    .dataframe thead th {\n",
       "        text-align: right;\n",
       "    }\n",
       "</style>\n",
       "<table border=\"1\" class=\"dataframe\">\n",
       "  <thead>\n",
       "    <tr style=\"text-align: right;\">\n",
       "      <th></th>\n",
       "      <th>buying</th>\n",
       "      <th>maint</th>\n",
       "      <th>doors</th>\n",
       "      <th>persons</th>\n",
       "      <th>lug_boot</th>\n",
       "      <th>safety</th>\n",
       "      <th>class</th>\n",
       "    </tr>\n",
       "  </thead>\n",
       "  <tbody>\n",
       "    <tr>\n",
       "      <th>0</th>\n",
       "      <td>vhigh</td>\n",
       "      <td>vhigh</td>\n",
       "      <td>2</td>\n",
       "      <td>2</td>\n",
       "      <td>small</td>\n",
       "      <td>low</td>\n",
       "      <td>unacc</td>\n",
       "    </tr>\n",
       "    <tr>\n",
       "      <th>1</th>\n",
       "      <td>vhigh</td>\n",
       "      <td>vhigh</td>\n",
       "      <td>2</td>\n",
       "      <td>2</td>\n",
       "      <td>small</td>\n",
       "      <td>med</td>\n",
       "      <td>unacc</td>\n",
       "    </tr>\n",
       "    <tr>\n",
       "      <th>2</th>\n",
       "      <td>vhigh</td>\n",
       "      <td>vhigh</td>\n",
       "      <td>2</td>\n",
       "      <td>2</td>\n",
       "      <td>small</td>\n",
       "      <td>high</td>\n",
       "      <td>unacc</td>\n",
       "    </tr>\n",
       "    <tr>\n",
       "      <th>3</th>\n",
       "      <td>vhigh</td>\n",
       "      <td>vhigh</td>\n",
       "      <td>2</td>\n",
       "      <td>2</td>\n",
       "      <td>med</td>\n",
       "      <td>low</td>\n",
       "      <td>unacc</td>\n",
       "    </tr>\n",
       "    <tr>\n",
       "      <th>4</th>\n",
       "      <td>vhigh</td>\n",
       "      <td>vhigh</td>\n",
       "      <td>2</td>\n",
       "      <td>2</td>\n",
       "      <td>med</td>\n",
       "      <td>med</td>\n",
       "      <td>unacc</td>\n",
       "    </tr>\n",
       "  </tbody>\n",
       "</table>\n",
       "</div>"
      ],
      "text/plain": [
       "  buying  maint doors persons lug_boot safety  class\n",
       "0  vhigh  vhigh     2       2    small    low  unacc\n",
       "1  vhigh  vhigh     2       2    small    med  unacc\n",
       "2  vhigh  vhigh     2       2    small   high  unacc\n",
       "3  vhigh  vhigh     2       2      med    low  unacc\n",
       "4  vhigh  vhigh     2       2      med    med  unacc"
      ]
     },
     "execution_count": 39,
     "metadata": {},
     "output_type": "execute_result"
    }
   ],
   "source": [
    "import pandas as pd\n",
    "import numpy as np\n",
    "\n",
    "data = pd.read_csv('car.csv')\n",
    "data.head()"
   ]
  },
  {
   "cell_type": "markdown",
   "metadata": {},
   "source": [
    "### 1. (10 pontos) Defina o classificador cego com o menor erro de classificação possível. "
   ]
  },
  {
   "cell_type": "markdown",
   "metadata": {},
   "source": [
    "##### calcular a probabilidade a priori de cada classe"
   ]
  },
  {
   "cell_type": "code",
   "execution_count": 9,
   "metadata": {},
   "outputs": [
    {
     "data": {
      "text/plain": [
       "1728"
      ]
     },
     "execution_count": 9,
     "metadata": {},
     "output_type": "execute_result"
    }
   ],
   "source": [
    "tot  = data['class'].size\n",
    "tot"
   ]
  },
  {
   "cell_type": "code",
   "execution_count": 10,
   "metadata": {},
   "outputs": [
    {
     "data": {
      "text/plain": [
       "unacc    1210\n",
       "acc       384\n",
       "good       69\n",
       "vgood      65\n",
       "Name: class, dtype: int64"
      ]
     },
     "execution_count": 10,
     "metadata": {},
     "output_type": "execute_result"
    }
   ],
   "source": [
    "cont = data['class'].value_counts()\n",
    "cont"
   ]
  },
  {
   "cell_type": "code",
   "execution_count": 16,
   "metadata": {},
   "outputs": [
    {
     "name": "stdout",
     "output_type": "stream",
     "text": [
      "0.7002314814814815\n",
      "0.2222222222222222\n",
      "0.03993055555555555\n",
      "0.03761574074074074\n"
     ]
    },
    {
     "data": {
      "text/plain": [
       "1.0"
      ]
     },
     "execution_count": 16,
     "metadata": {},
     "output_type": "execute_result"
    }
   ],
   "source": [
    "sum = 0\n",
    "for i in cont:\n",
    "    prob = i/tot\n",
    "    print(prob)\n",
    "    sum = sum + prob\n",
    "    \n",
    "sum"
   ]
  },
  {
   "cell_type": "markdown",
   "metadata": {},
   "source": [
    "##### Erro maximo para cada classe"
   ]
  },
  {
   "cell_type": "code",
   "execution_count": 18,
   "metadata": {},
   "outputs": [
    {
     "data": {
      "text/plain": [
       "0.2997685185185185"
      ]
     },
     "execution_count": 18,
     "metadata": {},
     "output_type": "execute_result"
    }
   ],
   "source": [
    "#unacc\n",
    "1 - (cont[0]/tot)"
   ]
  },
  {
   "cell_type": "code",
   "execution_count": 21,
   "metadata": {},
   "outputs": [
    {
     "data": {
      "text/plain": [
       "0.7777777777777778"
      ]
     },
     "execution_count": 21,
     "metadata": {},
     "output_type": "execute_result"
    }
   ],
   "source": [
    "#acc\n",
    "1 - (cont[1]/tot)"
   ]
  },
  {
   "cell_type": "code",
   "execution_count": 22,
   "metadata": {},
   "outputs": [
    {
     "data": {
      "text/plain": [
       "0.9600694444444444"
      ]
     },
     "execution_count": 22,
     "metadata": {},
     "output_type": "execute_result"
    }
   ],
   "source": [
    "#good\n",
    "1 - (cont[2]/tot)"
   ]
  },
  {
   "cell_type": "code",
   "execution_count": 25,
   "metadata": {},
   "outputs": [
    {
     "data": {
      "text/plain": [
       "0.9623842592592593"
      ]
     },
     "execution_count": 25,
     "metadata": {},
     "output_type": "execute_result"
    }
   ],
   "source": [
    "#vgood\n",
    "1 - (cont[3]/tot)"
   ]
  },
  {
   "cell_type": "markdown",
   "metadata": {},
   "source": [
    "<font color=\"yellow\">Resposta: O classificador cego com o menor erro de classificação possível é unacc (Erro máximo = 0.2997685185185185)</font>"
   ]
  },
  {
   "cell_type": "markdown",
   "metadata": {},
   "source": [
    "### 2. (18 pontos) Calcule as probablidades a priori para cada variável (para cada possível valor de cada variável)."
   ]
  },
  {
   "cell_type": "code",
   "execution_count": 73,
   "metadata": {},
   "outputs": [
    {
     "name": "stdout",
     "output_type": "stream",
     "text": [
      "\n",
      "buying\n",
      "\n",
      "high 432/1728\n",
      "low 432/1728\n",
      "med 432/1728\n",
      "vhigh 432/1728\n",
      "\n",
      "maint\n",
      "\n",
      "high 432/1728\n",
      "low 432/1728\n",
      "med 432/1728\n",
      "vhigh 432/1728\n",
      "\n",
      "doors\n",
      "\n",
      "2 432/1728\n",
      "3 432/1728\n",
      "4 432/1728\n",
      "5more 432/1728\n",
      "\n",
      "persons\n",
      "\n",
      "2 576/1728\n",
      "4 576/1728\n",
      "more 576/1728\n",
      "\n",
      "lug_boot\n",
      "\n",
      "big 576/1728\n",
      "med 576/1728\n",
      "small 576/1728\n",
      "\n",
      "safety\n",
      "\n",
      "high 576/1728\n",
      "low 576/1728\n",
      "med 576/1728\n"
     ]
    }
   ],
   "source": [
    "for x in data.drop(['class'], axis=1):\n",
    "    unique_values = np.unique(data[x].values)\n",
    "    print(\"\\n\" + x + \"\\n\")\n",
    "    for y in unique_values:\n",
    "        print(y, str(data[x].value_counts()[y]) + \"/\" + str(data[x].size))"
   ]
  },
  {
   "cell_type": "markdown",
   "metadata": {},
   "source": [
    "### 3. (18 pontos) Calcule a probabilidade de cada valor de cada variável dado a classe (posteriori)."
   ]
  },
  {
   "cell_type": "code",
   "execution_count": 70,
   "metadata": {},
   "outputs": [
    {
     "name": "stdout",
     "output_type": "stream",
     "text": [
      "\n",
      "buying\n",
      "\n",
      "high | acc 108/384\n",
      "high | unacc 324/1210\n",
      "low | acc 89/384\n",
      "low | good 46/69\n",
      "low | unacc 258/1210\n",
      "low | vgood 39/65\n",
      "med | acc 115/384\n",
      "med | good 23/69\n",
      "med | unacc 268/1210\n",
      "med | vgood 26/65\n",
      "vhigh | acc 72/384\n",
      "vhigh | unacc 360/1210\n",
      "\n",
      "maint\n",
      "\n",
      "high | acc 105/384\n",
      "high | unacc 314/1210\n",
      "high | vgood 13/65\n",
      "low | acc 92/384\n",
      "low | good 46/69\n",
      "low | unacc 268/1210\n",
      "low | vgood 26/65\n",
      "med | acc 115/384\n",
      "med | good 23/69\n",
      "med | unacc 268/1210\n",
      "med | vgood 26/65\n",
      "vhigh | acc 72/384\n",
      "vhigh | unacc 360/1210\n",
      "\n",
      "doors\n",
      "\n",
      "2 | acc 81/384\n",
      "2 | good 15/69\n",
      "2 | unacc 326/1210\n",
      "2 | vgood 10/65\n",
      "3 | acc 99/384\n",
      "3 | good 18/69\n",
      "3 | unacc 300/1210\n",
      "3 | vgood 15/65\n",
      "4 | acc 102/384\n",
      "4 | good 18/69\n",
      "4 | unacc 292/1210\n",
      "4 | vgood 20/65\n",
      "5more | acc 102/384\n",
      "5more | good 18/69\n",
      "5more | unacc 292/1210\n",
      "5more | vgood 20/65\n",
      "\n",
      "persons\n",
      "\n",
      "2 | unacc 576/1210\n",
      "4 | acc 198/384\n",
      "4 | good 36/69\n",
      "4 | unacc 312/1210\n",
      "4 | vgood 30/65\n",
      "more | acc 186/384\n",
      "more | good 33/69\n",
      "more | unacc 322/1210\n",
      "more | vgood 35/65\n",
      "\n",
      "lug_boot\n",
      "\n",
      "big | acc 144/384\n",
      "big | good 24/69\n",
      "big | unacc 368/1210\n",
      "big | vgood 40/65\n",
      "med | acc 135/384\n",
      "med | good 24/69\n",
      "med | unacc 392/1210\n",
      "med | vgood 25/65\n",
      "small | acc 105/384\n",
      "small | good 21/69\n",
      "small | unacc 450/1210\n",
      "\n",
      "safety\n",
      "\n",
      "high | acc 204/384\n",
      "high | good 30/69\n",
      "high | unacc 277/1210\n",
      "high | vgood 65/65\n",
      "low | unacc 576/1210\n",
      "med | acc 180/384\n",
      "med | good 39/69\n",
      "med | unacc 357/1210\n"
     ]
    }
   ],
   "source": [
    "class_values = np.unique(data['class'].values)\n",
    "\n",
    "for x in data.drop([\"class\"], axis=1):\n",
    "    unique_values = np.unique(data[x].values)\n",
    "    print(\"\\n\" + x + \"\\n\")\n",
    "    for y in unique_values:\n",
    "        for i in class_values:\n",
    "            try:\n",
    "                print(y + \" | \" + i, str(data.groupby(x)['class'].value_counts()[y][i]) + \"/\" + str(data['class'].value_counts()[i]))\n",
    "            except:\n",
    "                next\n",
    "\n"
   ]
  },
  {
   "cell_type": "markdown",
   "metadata": {},
   "source": [
    "### 4. (18 pontos) Implemente o classificador Naive Bayes."
   ]
  },
  {
   "cell_type": "code",
   "execution_count": null,
   "metadata": {},
   "outputs": [],
   "source": []
  },
  {
   "cell_type": "markdown",
   "metadata": {},
   "source": [
    "### 5. (18 pontos) Utilizando sua implementação e metade dos exemplos de cada classe como conjunto de treino e o resante como conjunto de teste, avalie o classificador Naive Bayes."
   ]
  },
  {
   "cell_type": "code",
   "execution_count": null,
   "metadata": {},
   "outputs": [],
   "source": []
  },
  {
   "cell_type": "markdown",
   "metadata": {},
   "source": [
    "### 6. (18 pontos) Faça o mesmo da questão anterior utilizando uma implementação de biblioteca com configuração semelhente ao classificador solicitado na questão anterior."
   ]
  },
  {
   "cell_type": "code",
   "execution_count": null,
   "metadata": {},
   "outputs": [],
   "source": []
  }
 ],
 "metadata": {
  "kernelspec": {
   "display_name": "Python 3.10.2 64-bit",
   "language": "python",
   "name": "python3"
  },
  "language_info": {
   "codemirror_mode": {
    "name": "ipython",
    "version": 3
   },
   "file_extension": ".py",
   "mimetype": "text/x-python",
   "name": "python",
   "nbconvert_exporter": "python",
   "pygments_lexer": "ipython3",
   "version": "3.10.2"
  },
  "orig_nbformat": 4,
  "vscode": {
   "interpreter": {
    "hash": "b629c3126b5df0b3c19ac5f524890cb3a3a2e86c1a2f2c4b1c29287aa73e65d0"
   }
  }
 },
 "nbformat": 4,
 "nbformat_minor": 2
}
