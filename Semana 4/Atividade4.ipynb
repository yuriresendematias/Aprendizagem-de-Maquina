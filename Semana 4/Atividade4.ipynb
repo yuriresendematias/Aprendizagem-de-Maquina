{
 "cells": [
  {
   "cell_type": "markdown",
   "metadata": {},
   "source": [
    "#### 1. Utilizando a base de dados archive.ics.uci.edu/ml/datasets/iris: "
   ]
  },
  {
   "cell_type": "code",
   "execution_count": 7,
   "metadata": {},
   "outputs": [],
   "source": [
    "import pandas as pd\n",
    "import numpy as np\n",
    "import statistics\n",
    "\n",
    "data = pd.read_csv(\"iris.csv\")"
   ]
  },
  {
   "cell_type": "markdown",
   "metadata": {},
   "source": [
    "##### (a) (1,5 ponto) Mostre em uma representação tabular 2 exemplos de cada classe."
   ]
  },
  {
   "cell_type": "code",
   "execution_count": 8,
   "metadata": {},
   "outputs": [
    {
     "data": {
      "text/html": [
       "<div>\n",
       "<style scoped>\n",
       "    .dataframe tbody tr th:only-of-type {\n",
       "        vertical-align: middle;\n",
       "    }\n",
       "\n",
       "    .dataframe tbody tr th {\n",
       "        vertical-align: top;\n",
       "    }\n",
       "\n",
       "    .dataframe thead th {\n",
       "        text-align: right;\n",
       "    }\n",
       "</style>\n",
       "<table border=\"1\" class=\"dataframe\">\n",
       "  <thead>\n",
       "    <tr style=\"text-align: right;\">\n",
       "      <th></th>\n",
       "      <th>sepal.length</th>\n",
       "      <th>sepal.width</th>\n",
       "      <th>petal.length</th>\n",
       "      <th>petal.width</th>\n",
       "      <th>variety</th>\n",
       "    </tr>\n",
       "  </thead>\n",
       "  <tbody>\n",
       "    <tr>\n",
       "      <th>0</th>\n",
       "      <td>5.1</td>\n",
       "      <td>3.5</td>\n",
       "      <td>1.4</td>\n",
       "      <td>0.2</td>\n",
       "      <td>Iris-setosa</td>\n",
       "    </tr>\n",
       "    <tr>\n",
       "      <th>1</th>\n",
       "      <td>4.9</td>\n",
       "      <td>3.0</td>\n",
       "      <td>1.4</td>\n",
       "      <td>0.2</td>\n",
       "      <td>Iris-setosa</td>\n",
       "    </tr>\n",
       "    <tr>\n",
       "      <th>50</th>\n",
       "      <td>7.0</td>\n",
       "      <td>3.2</td>\n",
       "      <td>4.7</td>\n",
       "      <td>1.4</td>\n",
       "      <td>Iris-versicolor</td>\n",
       "    </tr>\n",
       "    <tr>\n",
       "      <th>51</th>\n",
       "      <td>6.4</td>\n",
       "      <td>3.2</td>\n",
       "      <td>4.5</td>\n",
       "      <td>1.5</td>\n",
       "      <td>Iris-versicolor</td>\n",
       "    </tr>\n",
       "    <tr>\n",
       "      <th>100</th>\n",
       "      <td>6.3</td>\n",
       "      <td>3.3</td>\n",
       "      <td>6.0</td>\n",
       "      <td>2.5</td>\n",
       "      <td>Iris-virginica</td>\n",
       "    </tr>\n",
       "    <tr>\n",
       "      <th>101</th>\n",
       "      <td>5.8</td>\n",
       "      <td>2.7</td>\n",
       "      <td>5.1</td>\n",
       "      <td>1.9</td>\n",
       "      <td>Iris-virginica</td>\n",
       "    </tr>\n",
       "  </tbody>\n",
       "</table>\n",
       "</div>"
      ],
      "text/plain": [
       "     sepal.length  sepal.width  petal.length  petal.width          variety\n",
       "0             5.1          3.5           1.4          0.2      Iris-setosa\n",
       "1             4.9          3.0           1.4          0.2      Iris-setosa\n",
       "50            7.0          3.2           4.7          1.4  Iris-versicolor\n",
       "51            6.4          3.2           4.5          1.5  Iris-versicolor\n",
       "100           6.3          3.3           6.0          2.5   Iris-virginica\n",
       "101           5.8          2.7           5.1          1.9   Iris-virginica"
      ]
     },
     "execution_count": 8,
     "metadata": {},
     "output_type": "execute_result"
    }
   ],
   "source": [
    "setosa = data.iloc[:2]\n",
    "versic = data.iloc[50:52]\n",
    "virgin = data.iloc[100:102]\n",
    "\n",
    "x = pd.concat([setosa, versic, virgin])\n",
    "x"
   ]
  },
  {
   "cell_type": "markdown",
   "metadata": {},
   "source": [
    "#####  (b) (1,5 ponto) Mostre a média de cada variável numérica."
   ]
  },
  {
   "cell_type": "code",
   "execution_count": 44,
   "metadata": {},
   "outputs": [
    {
     "name": "stdout",
     "output_type": "stream",
     "text": [
      "média de sepal.length:\n",
      "5.843\n",
      "média de sepal.width:\n",
      "3.054\n",
      "média de petal.length:\n",
      "3.759\n",
      "média de petal.width:\n",
      "1.199\n"
     ]
    }
   ],
   "source": [
    "sepal_l_mean = data[\"sepal.length\"].mean()\n",
    "sepal_w_mean = data[\"sepal.width\"].mean()\n",
    "petal_l_mean = data[\"petal.length\"].mean()\n",
    "petal_w_mean = data[\"petal.width\"].mean()\n",
    "print(\"média de sepal.length:\")\n",
    "print(\"{:.3f}\".format(sepal_l_mean))\n",
    "print(\"média de sepal.width:\")\n",
    "print(\"{:.3f}\".format(sepal_w_mean))\n",
    "print(\"média de petal.length:\")\n",
    "print(\"{:.3f}\".format(petal_l_mean))\n",
    "print(\"média de petal.width:\")\n",
    "print(\"{:.3f}\".format(petal_w_mean))"
   ]
  },
  {
   "cell_type": "markdown",
   "metadata": {},
   "source": [
    "##### (c) (1,5 ponto) Mostre a mediana de cada variável numérica"
   ]
  },
  {
   "cell_type": "code",
   "execution_count": 45,
   "metadata": {},
   "outputs": [
    {
     "name": "stdout",
     "output_type": "stream",
     "text": [
      "mediana de sepal.length:\n",
      "5.800\n",
      "mediana de sepal.width:\n",
      "3.000\n",
      "mediana de petal.length:\n",
      "4.350\n",
      "mediana de petal.width:\n",
      "1.300\n"
     ]
    }
   ],
   "source": [
    "sepal_l_median = statistics.median(data[\"sepal.length\"].to_numpy())\n",
    "sepal_w_median = statistics.median(data[\"sepal.width\"].to_numpy())\n",
    "petal_l_median = statistics.median(data[\"petal.length\"].to_numpy())\n",
    "petal_w_median = statistics.median(data[\"petal.width\"].to_numpy())\n",
    "print(\"mediana de sepal.length:\")\n",
    "print(\"{:.3f}\".format(sepal_l_median))\n",
    "print(\"mediana de sepal.width:\")\n",
    "print(\"{:.3f}\".format(sepal_w_median))\n",
    "print(\"mediana de petal.length:\")\n",
    "print(\"{:.3f}\".format(petal_l_median))\n",
    "print(\"mediana de petal.width:\")\n",
    "print(\"{:.3f}\".format(petal_w_median))"
   ]
  },
  {
   "cell_type": "markdown",
   "metadata": {},
   "source": [
    "##### (d) (1,5 ponto) Mostre a média aparada de cada variável numérica. "
   ]
  },
  {
   "cell_type": "code",
   "execution_count": 49,
   "metadata": {},
   "outputs": [
    {
     "name": "stdout",
     "output_type": "stream",
     "text": [
      "média aparada de sepal.length:\n",
      "5.8083333333333345\n",
      "média aparada de sepal.width:\n",
      "3.0391666666666666\n",
      "média aparada de petal.length:\n",
      "3.7608333333333333\n",
      "média aparada de petal.width:\n",
      "1.1841666666666668\n"
     ]
    }
   ],
   "source": [
    "from scipy import stats\n",
    "\n",
    "print(\"média aparada de sepal.length:\")\n",
    "print(stats.trim_mean(data[\"sepal.length\"], 0.1))\n",
    "print(\"média aparada de sepal.width:\")\n",
    "print(stats.trim_mean(data[\"sepal.width\"], 0.1))\n",
    "print(\"média aparada de petal.length:\")\n",
    "print(stats.trim_mean(data[\"petal.length\"], 0.1))\n",
    "print(\"média aparada de petal.width:\")\n",
    "print(stats.trim_mean(data[\"petal.width\"], 0.1))\n",
    "\n"
   ]
  },
  {
   "cell_type": "markdown",
   "metadata": {},
   "source": [
    "##### (e) (1,5 ponto) Mostre o desvio absoluto médio de cada variável numérica."
   ]
  },
  {
   "cell_type": "code",
   "execution_count": 50,
   "metadata": {},
   "outputs": [
    {
     "name": "stdout",
     "output_type": "stream",
     "text": [
      "desvio absoluto médio de sepal.length:\n",
      "0.688\n",
      "desvio absoluto médio de sepal.width:\n",
      "0.333\n",
      "desvio absoluto médio de petal.length:\n",
      "1.562\n",
      "desvio absoluto médio de petal.width:\n",
      "0.659\n"
     ]
    }
   ],
   "source": [
    "sepal_l_dam = data[\"sepal.length\"].mad()\n",
    "sepal_w_dam = data[\"sepal.width\"].mad()\n",
    "petal_l_dam = data[\"petal.length\"].mad()\n",
    "petal_w_dam = data[\"petal.width\"].mad()\n",
    "print(\"desvio absoluto médio de sepal.length:\")\n",
    "print(\"{:.3f}\".format(sepal_l_dam))\n",
    "print(\"desvio absoluto médio de sepal.width:\")\n",
    "print(\"{:.3f}\".format(sepal_w_dam))\n",
    "print(\"desvio absoluto médio de petal.length:\")\n",
    "print(\"{:.3f}\".format(petal_l_dam))\n",
    "print(\"desvio absoluto médio de petal.width:\")\n",
    "print(\"{:.3f}\".format(petal_w_dam))"
   ]
  },
  {
   "cell_type": "markdown",
   "metadata": {},
   "source": [
    "##### (f) (1,5 ponto) Mostre a variância de cada variável numérica. "
   ]
  },
  {
   "cell_type": "code",
   "execution_count": 51,
   "metadata": {},
   "outputs": [
    {
     "name": "stdout",
     "output_type": "stream",
     "text": [
      "variância de sepal.length:\n",
      "0.686\n",
      "variância de sepal.width:\n",
      "0.188\n",
      "variância de petal.length:\n",
      "3.113\n",
      "variância de petal.width:\n",
      "0.582\n"
     ]
    }
   ],
   "source": [
    "sepal_l_var = data[\"sepal.length\"].var()\n",
    "sepal_w_var = data[\"sepal.width\"].var()\n",
    "petal_l_var = data[\"petal.length\"].var()\n",
    "petal_w_var = data[\"petal.width\"].var()\n",
    "print(\"variância de sepal.length:\")\n",
    "print(\"{:.3f}\".format(sepal_l_var))\n",
    "print(\"variância de sepal.width:\")\n",
    "print(\"{:.3f}\".format(sepal_w_var))\n",
    "print(\"variância de petal.length:\")\n",
    "print(\"{:.3f}\".format(petal_l_var))\n",
    "print(\"variância de petal.width:\")\n",
    "print(\"{:.3f}\".format(petal_w_var))"
   ]
  },
  {
   "cell_type": "markdown",
   "metadata": {},
   "source": [
    "##### (g) (1,5 ponto) Mostre a desvio-padrão de cada variável numérica."
   ]
  },
  {
   "cell_type": "code",
   "execution_count": 52,
   "metadata": {},
   "outputs": [
    {
     "name": "stdout",
     "output_type": "stream",
     "text": [
      "desvio padrão de sepal.length:\n",
      "0.828\n",
      "desvio padrão de sepal.width:\n",
      "0.434\n",
      "desvio padrão de petal.length:\n",
      "1.764\n",
      "desvio padrão de petal.width:\n",
      "0.763\n"
     ]
    }
   ],
   "source": [
    "sepal_l_dp = data[\"sepal.length\"].std()\n",
    "sepal_w_dp = data[\"sepal.width\"].std()\n",
    "petal_l_dp = data[\"petal.length\"].std()\n",
    "petal_w_dp = data[\"petal.width\"].std()\n",
    "print(\"desvio padrão de sepal.length:\")\n",
    "print(\"{:.3f}\".format(sepal_l_dp))\n",
    "print(\"desvio padrão de sepal.width:\")\n",
    "print(\"{:.3f}\".format(sepal_w_dp))\n",
    "print(\"desvio padrão de petal.length:\")\n",
    "print(\"{:.3f}\".format(petal_l_dp))\n",
    "print(\"desvio padrão de petal.width:\")\n",
    "print(\"{:.3f}\".format(petal_w_dp))"
   ]
  },
  {
   "cell_type": "markdown",
   "metadata": {},
   "source": [
    "##### (h) (1,5 ponto) Mostre a desvio absoluto mediano da mediana de cada variável numérica."
   ]
  },
  {
   "cell_type": "code",
   "execution_count": 54,
   "metadata": {},
   "outputs": [
    {
     "name": "stdout",
     "output_type": "stream",
     "text": [
      "desvio absoluto mediano de sepal.length:\n",
      "0.700\n",
      "desvio absoluto mediano de sepal.width:\n",
      "0.250\n",
      "desvio absoluto mediano de petal.length:\n",
      "1.250\n",
      "desvio absoluto mediano de petal.width:\n",
      "0.700\n"
     ]
    }
   ],
   "source": [
    "from scipy.stats import median_abs_deviation\n",
    "\n",
    "sepal_l_da = median_abs_deviation(data[\"sepal.length\"])\n",
    "sepal_w_da = median_abs_deviation(data[\"sepal.width\"])\n",
    "petal_l_da = median_abs_deviation(data[\"petal.length\"])\n",
    "petal_w_da = median_abs_deviation(data[\"petal.width\"])\n",
    "print(\"desvio absoluto mediano de sepal.length:\")\n",
    "print(\"{:.3f}\".format(sepal_l_da))\n",
    "print(\"desvio absoluto mediano de sepal.width:\")\n",
    "print(\"{:.3f}\".format(sepal_w_da))\n",
    "print(\"desvio absoluto mediano de petal.length:\")\n",
    "print(\"{:.3f}\".format(petal_l_da))\n",
    "print(\"desvio absoluto mediano de petal.width:\")\n",
    "print(\"{:.3f}\".format(petal_w_da))"
   ]
  },
  {
   "cell_type": "markdown",
   "metadata": {},
   "source": [
    "##### (i) (1,5 ponto) Mostre o máximo de cada variável numérica."
   ]
  },
  {
   "cell_type": "code",
   "execution_count": 16,
   "metadata": {},
   "outputs": [
    {
     "name": "stdout",
     "output_type": "stream",
     "text": [
      "máximo de sepal.length:\n",
      "7.9\n",
      "máximo de sepal.width:\n",
      "4.4\n",
      "máximo de petal.length:\n",
      "6.9\n",
      "máximo de petal.width:\n",
      "2.5\n"
     ]
    }
   ],
   "source": [
    "print(\"máximo de sepal.length:\")\n",
    "print(data[\"sepal.length\"].max())\n",
    "print(\"máximo de sepal.width:\")\n",
    "print(data[\"sepal.width\"].max())\n",
    "print(\"máximo de petal.length:\")\n",
    "print(data[\"petal.length\"].max())\n",
    "print(\"máximo de petal.width:\")\n",
    "print(data[\"petal.width\"].max())"
   ]
  },
  {
   "cell_type": "markdown",
   "metadata": {},
   "source": [
    "##### (j) (1,5 ponto) Mostre o mínimo de cada variável numérica."
   ]
  },
  {
   "cell_type": "code",
   "execution_count": 17,
   "metadata": {},
   "outputs": [
    {
     "name": "stdout",
     "output_type": "stream",
     "text": [
      "mínimo de sepal.length:\n",
      "4.3\n",
      "mínimo de sepal.width:\n",
      "2.0\n",
      "mínimo de petal.length:\n",
      "1.0\n",
      "mínimo de petal.width:\n",
      "0.1\n"
     ]
    }
   ],
   "source": [
    "print(\"mínimo de sepal.length:\")\n",
    "print(data[\"sepal.length\"].min())\n",
    "print(\"mínimo de sepal.width:\")\n",
    "print(data[\"sepal.width\"].min())\n",
    "print(\"mínimo de petal.length:\")\n",
    "print(data[\"petal.length\"].min())\n",
    "print(\"mínimo de petal.width:\")\n",
    "print(data[\"petal.width\"].min())"
   ]
  },
  {
   "cell_type": "markdown",
   "metadata": {},
   "source": [
    "##### (k) (1,5 ponto) Mostre a amplitude de cada variável numérica."
   ]
  },
  {
   "cell_type": "code",
   "execution_count": 60,
   "metadata": {},
   "outputs": [
    {
     "name": "stdout",
     "output_type": "stream",
     "text": [
      "amplitude de sepal.length:\n",
      "3.600\n",
      "amplitude de sepal.width:\n",
      "2.400\n",
      "amplitude de petal.length:\n",
      "5.9\n",
      "amplitude de petal.width:\n",
      "2.4\n"
     ]
    }
   ],
   "source": [
    "sepal_w_amp = data[\"sepal.length\"].max() - data[\"sepal.length\"].min()\n",
    "sepal_l_amp = data[\"sepal.width\"].max() - data[\"sepal.width\"].min()\n",
    "petal_w_amp = data[\"petal.length\"].max() - data[\"petal.length\"].min()\n",
    "petal_l_amp = data[\"petal.width\"].max() - data[\"petal.width\"].min() \n",
    "\n",
    "print(\"amplitude de sepal.length:\")\n",
    "print(\"{:.3f}\".format(sepal_w_amp))\n",
    "print(\"amplitude de sepal.width:\")\n",
    "print(\"{:.3f}\".format(sepal_l_amp))\n",
    "print(\"amplitude de petal.length:\")\n",
    "print(petal_w_amp)\n",
    "print(\"amplitude de petal.width:\")\n",
    "print(petal_l_amp)"
   ]
  },
  {
   "cell_type": "markdown",
   "metadata": {},
   "source": [
    "##### (l) (1,5 ponto) Mostre o 10º percentil de cada variável numérica. "
   ]
  },
  {
   "cell_type": "code",
   "execution_count": 55,
   "metadata": {},
   "outputs": [
    {
     "name": "stdout",
     "output_type": "stream",
     "text": [
      "10° percentil de sepal.length:\n",
      "4.800\n",
      "10° percentil de sepal.width:\n",
      "2.500\n",
      "10° percentil de petal.length:\n",
      "1.400\n",
      "10° percentil de petal.width:\n",
      "0.200\n"
     ]
    }
   ],
   "source": [
    "sepal_l_10 = data[\"sepal.length\"].quantile(0.1)\n",
    "sepal_w_10 = data[\"sepal.width\"].quantile(0.1)\n",
    "petal_l_10 = data[\"petal.length\"].quantile(0.1)\n",
    "petal_w_10 = data[\"petal.width\"].quantile(0.1)\n",
    "print(\"10° percentil de sepal.length:\")\n",
    "print(\"{:.3f}\".format(sepal_l_10))\n",
    "print(\"10° percentil de sepal.width:\")\n",
    "print(\"{:.3f}\".format(sepal_w_10))\n",
    "print(\"10° percentil de petal.length:\")\n",
    "print(\"{:.3f}\".format(petal_l_10))\n",
    "print(\"10° percentil de petal.width:\")\n",
    "print(\"{:.3f}\".format(petal_w_10))"
   ]
  },
  {
   "cell_type": "markdown",
   "metadata": {},
   "source": [
    "##### (m) (1,5 ponto) Mostre o 25º percentil de cada variável numérica. "
   ]
  },
  {
   "cell_type": "code",
   "execution_count": 20,
   "metadata": {},
   "outputs": [
    {
     "name": "stdout",
     "output_type": "stream",
     "text": [
      "25° percentil de sepal.length:\n",
      "5.100\n",
      "25° percentil de sepal.width:\n",
      "2.800\n",
      "25° percentil de petal.length:\n",
      "1.600\n",
      "25° percentil de petal.width:\n",
      "0.300\n"
     ]
    }
   ],
   "source": [
    "sepal_l_25 = data[\"sepal.length\"].quantile(0.25)\n",
    "sepal_w_25 = data[\"sepal.width\"].quantile(0.25)\n",
    "petal_l_25 = data[\"petal.length\"].quantile(0.25)\n",
    "petal_w_25 = data[\"petal.width\"].quantile(0.25)\n",
    "print(\"25° percentil de sepal.length:\")\n",
    "print(\"{:.3f}\".format(sepal_l_25))\n",
    "print(\"25° percentil de sepal.width:\")\n",
    "print(\"{:.3f}\".format(sepal_w_25))\n",
    "print(\"25° percentil de petal.length:\")\n",
    "print(\"{:.3f}\".format(petal_l_25))\n",
    "print(\"25° percentil de petal.width:\")\n",
    "print(\"{:.3f}\".format(petal_w_25))"
   ]
  },
  {
   "cell_type": "markdown",
   "metadata": {},
   "source": [
    "##### (n) (1,5 ponto) Mostre o 75º percentil de cada variável numérica. "
   ]
  },
  {
   "cell_type": "code",
   "execution_count": 56,
   "metadata": {},
   "outputs": [
    {
     "name": "stdout",
     "output_type": "stream",
     "text": [
      "75° percentil de sepal.length:\n",
      "6.400\n",
      "75° percentil de sepal.width:\n",
      "3.300\n",
      "75° percentil de petal.length:\n",
      "5.100\n",
      "75° percentil de petal.width:\n",
      "1.800\n"
     ]
    }
   ],
   "source": [
    "sepal_l_75 = data[\"sepal.length\"].quantile(0.75)\n",
    "sepal_w_75 = data[\"sepal.width\"].quantile(0.75)\n",
    "petal_l_75 = data[\"petal.length\"].quantile(0.75)\n",
    "petal_w_75 = data[\"petal.width\"].quantile(0.75)\n",
    "print(\"75° percentil de sepal.length:\")\n",
    "print(\"{:.3f}\".format(sepal_l_75))\n",
    "print(\"75° percentil de sepal.width:\")\n",
    "print(\"{:.3f}\".format(sepal_w_75))\n",
    "print(\"75° percentil de petal.length:\")\n",
    "print(\"{:.3f}\".format(petal_l_75))\n",
    "print(\"75° percentil de petal.width:\")\n",
    "print(\"{:.3f}\".format(petal_w_75))"
   ]
  },
  {
   "cell_type": "markdown",
   "metadata": {},
   "source": [
    "##### (o) (1,5 ponto) Mostre o 90º percentil de cada variável numérica. "
   ]
  },
  {
   "cell_type": "code",
   "execution_count": 57,
   "metadata": {},
   "outputs": [
    {
     "name": "stdout",
     "output_type": "stream",
     "text": [
      "90° percentil de sepal.length:\n",
      "6.900\n",
      "90° percentil de sepal.width:\n",
      "3.610\n",
      "90° percentil de petal.length:\n",
      "5.800\n",
      "90° percentil de petal.width:\n",
      "2.200\n"
     ]
    }
   ],
   "source": [
    "sepal_l_90 = data[\"sepal.length\"].quantile(0.90)\n",
    "sepal_w_90 = data[\"sepal.width\"].quantile(0.90)\n",
    "petal_l_90 = data[\"petal.length\"].quantile(0.90)\n",
    "petal_w_90 = data[\"petal.width\"].quantile(0.90)\n",
    "print(\"90° percentil de sepal.length:\")\n",
    "print(\"{:.3f}\".format(sepal_l_90))\n",
    "print(\"90° percentil de sepal.width:\")\n",
    "print(\"{:.3f}\".format(sepal_w_90))\n",
    "print(\"90° percentil de petal.length:\")\n",
    "print(\"{:.3f}\".format(petal_l_90))\n",
    "print(\"90° percentil de petal.width:\")\n",
    "print(\"{:.3f}\".format(petal_w_90))"
   ]
  },
  {
   "cell_type": "markdown",
   "metadata": {},
   "source": [
    "##### (p) (1,5 ponto) Mostre a amplitude interquartil de cada variável numérica."
   ]
  },
  {
   "cell_type": "code",
   "execution_count": 58,
   "metadata": {},
   "outputs": [
    {
     "name": "stdout",
     "output_type": "stream",
     "text": [
      "amplitude interquartil de sepal.length:\n",
      "1.300\n",
      "amplitude interquartil de sepal.width:\n",
      "0.500\n",
      "amplitude interquartil de petal.length:\n",
      "3.500\n",
      "amplitude interquartil de petal.width:\n",
      "1.500\n"
     ]
    }
   ],
   "source": [
    "sepal_l_ai = data[\"sepal.length\"].quantile(0.75) - data[\"sepal.length\"].quantile(0.25)\n",
    "sepal_w_ai = data[\"sepal.width\"].quantile(0.75) - data[\"sepal.width\"].quantile(0.25)\n",
    "petal_l_ai = data[\"petal.length\"].quantile(0.75) - data[\"petal.length\"].quantile(0.25)\n",
    "petal_w_ai = data[\"petal.width\"].quantile(0.75) - data[\"petal.width\"].quantile(0.25)\n",
    "print(\"amplitude interquartil de sepal.length:\")\n",
    "print(\"{:.3f}\".format(sepal_l_ai))\n",
    "print(\"amplitude interquartil de sepal.width:\")\n",
    "print(\"{:.3f}\".format(sepal_w_ai))\n",
    "print(\"amplitude interquartil de petal.length:\")\n",
    "print(\"{:.3f}\".format(petal_l_ai))\n",
    "print(\"amplitude interquartil de petal.width:\")\n",
    "print(\"{:.3f}\".format(petal_w_ai))"
   ]
  },
  {
   "cell_type": "markdown",
   "metadata": {},
   "source": [
    "##### (q) (6 pontos) Utilizando as informações calculadas anteriormente verifique a existência ou não de outliers em cada variável."
   ]
  },
  {
   "cell_type": "code",
   "execution_count": 200,
   "metadata": {},
   "outputs": [
    {
     "name": "stdout",
     "output_type": "stream",
     "text": [
      "sepal.width\n",
      "    sepal.length  sepal.width  petal.length  petal.width      variety\n",
      "15           5.7          4.4           1.5          0.4  Iris-setosa\n"
     ]
    }
   ],
   "source": [
    "for i in data.drop(['variety'], axis=1):\n",
    "    media = data[i].mean()\n",
    "    desvio = data[i].std()\n",
    "\n",
    "    for x in data[i]:\n",
    "        z = (x - media) / desvio\n",
    "        \n",
    "        if(z < -3 or z > 3):\n",
    "            print(i)\n",
    "            print(data.loc[data[i] == x])"
   ]
  },
  {
   "cell_type": "markdown",
   "metadata": {},
   "source": [
    "#### 2. (30 pontos) Faça o mesmo da questão anterior sendo que analisando separadamente os dados de cada classe (Setosa, Versicolor e Virginica). "
   ]
  },
  {
   "cell_type": "code",
   "execution_count": 108,
   "metadata": {},
   "outputs": [],
   "source": [
    "data_set = data[:50]\n",
    "data_ver = data[50:100]\n",
    "data_vir = data[100:]"
   ]
  },
  {
   "cell_type": "code",
   "execution_count": 109,
   "metadata": {},
   "outputs": [
    {
     "data": {
      "text/html": [
       "<div>\n",
       "<style scoped>\n",
       "    .dataframe tbody tr th:only-of-type {\n",
       "        vertical-align: middle;\n",
       "    }\n",
       "\n",
       "    .dataframe tbody tr th {\n",
       "        vertical-align: top;\n",
       "    }\n",
       "\n",
       "    .dataframe thead th {\n",
       "        text-align: right;\n",
       "    }\n",
       "</style>\n",
       "<table border=\"1\" class=\"dataframe\">\n",
       "  <thead>\n",
       "    <tr style=\"text-align: right;\">\n",
       "      <th></th>\n",
       "      <th>sepal.length</th>\n",
       "      <th>sepal.width</th>\n",
       "      <th>petal.length</th>\n",
       "      <th>petal.width</th>\n",
       "      <th>variety</th>\n",
       "    </tr>\n",
       "  </thead>\n",
       "  <tbody>\n",
       "    <tr>\n",
       "      <th>0</th>\n",
       "      <td>5.1</td>\n",
       "      <td>3.5</td>\n",
       "      <td>1.4</td>\n",
       "      <td>0.2</td>\n",
       "      <td>Iris-setosa</td>\n",
       "    </tr>\n",
       "    <tr>\n",
       "      <th>1</th>\n",
       "      <td>4.9</td>\n",
       "      <td>3.0</td>\n",
       "      <td>1.4</td>\n",
       "      <td>0.2</td>\n",
       "      <td>Iris-setosa</td>\n",
       "    </tr>\n",
       "    <tr>\n",
       "      <th>2</th>\n",
       "      <td>4.7</td>\n",
       "      <td>3.2</td>\n",
       "      <td>1.3</td>\n",
       "      <td>0.2</td>\n",
       "      <td>Iris-setosa</td>\n",
       "    </tr>\n",
       "    <tr>\n",
       "      <th>3</th>\n",
       "      <td>4.6</td>\n",
       "      <td>3.1</td>\n",
       "      <td>1.5</td>\n",
       "      <td>0.2</td>\n",
       "      <td>Iris-setosa</td>\n",
       "    </tr>\n",
       "    <tr>\n",
       "      <th>4</th>\n",
       "      <td>5.0</td>\n",
       "      <td>3.6</td>\n",
       "      <td>1.4</td>\n",
       "      <td>0.2</td>\n",
       "      <td>Iris-setosa</td>\n",
       "    </tr>\n",
       "    <tr>\n",
       "      <th>5</th>\n",
       "      <td>5.4</td>\n",
       "      <td>3.9</td>\n",
       "      <td>1.7</td>\n",
       "      <td>0.4</td>\n",
       "      <td>Iris-setosa</td>\n",
       "    </tr>\n",
       "    <tr>\n",
       "      <th>6</th>\n",
       "      <td>4.6</td>\n",
       "      <td>3.4</td>\n",
       "      <td>1.4</td>\n",
       "      <td>0.3</td>\n",
       "      <td>Iris-setosa</td>\n",
       "    </tr>\n",
       "    <tr>\n",
       "      <th>7</th>\n",
       "      <td>5.0</td>\n",
       "      <td>3.4</td>\n",
       "      <td>1.5</td>\n",
       "      <td>0.2</td>\n",
       "      <td>Iris-setosa</td>\n",
       "    </tr>\n",
       "    <tr>\n",
       "      <th>8</th>\n",
       "      <td>4.4</td>\n",
       "      <td>2.9</td>\n",
       "      <td>1.4</td>\n",
       "      <td>0.2</td>\n",
       "      <td>Iris-setosa</td>\n",
       "    </tr>\n",
       "    <tr>\n",
       "      <th>9</th>\n",
       "      <td>4.9</td>\n",
       "      <td>3.1</td>\n",
       "      <td>1.5</td>\n",
       "      <td>0.1</td>\n",
       "      <td>Iris-setosa</td>\n",
       "    </tr>\n",
       "    <tr>\n",
       "      <th>10</th>\n",
       "      <td>5.4</td>\n",
       "      <td>3.7</td>\n",
       "      <td>1.5</td>\n",
       "      <td>0.2</td>\n",
       "      <td>Iris-setosa</td>\n",
       "    </tr>\n",
       "    <tr>\n",
       "      <th>11</th>\n",
       "      <td>4.8</td>\n",
       "      <td>3.4</td>\n",
       "      <td>1.6</td>\n",
       "      <td>0.2</td>\n",
       "      <td>Iris-setosa</td>\n",
       "    </tr>\n",
       "    <tr>\n",
       "      <th>12</th>\n",
       "      <td>4.8</td>\n",
       "      <td>3.0</td>\n",
       "      <td>1.4</td>\n",
       "      <td>0.1</td>\n",
       "      <td>Iris-setosa</td>\n",
       "    </tr>\n",
       "    <tr>\n",
       "      <th>13</th>\n",
       "      <td>4.3</td>\n",
       "      <td>3.0</td>\n",
       "      <td>1.1</td>\n",
       "      <td>0.1</td>\n",
       "      <td>Iris-setosa</td>\n",
       "    </tr>\n",
       "    <tr>\n",
       "      <th>14</th>\n",
       "      <td>5.8</td>\n",
       "      <td>4.0</td>\n",
       "      <td>1.2</td>\n",
       "      <td>0.2</td>\n",
       "      <td>Iris-setosa</td>\n",
       "    </tr>\n",
       "    <tr>\n",
       "      <th>15</th>\n",
       "      <td>5.7</td>\n",
       "      <td>4.4</td>\n",
       "      <td>1.5</td>\n",
       "      <td>0.4</td>\n",
       "      <td>Iris-setosa</td>\n",
       "    </tr>\n",
       "    <tr>\n",
       "      <th>16</th>\n",
       "      <td>5.4</td>\n",
       "      <td>3.9</td>\n",
       "      <td>1.3</td>\n",
       "      <td>0.4</td>\n",
       "      <td>Iris-setosa</td>\n",
       "    </tr>\n",
       "    <tr>\n",
       "      <th>17</th>\n",
       "      <td>5.1</td>\n",
       "      <td>3.5</td>\n",
       "      <td>1.4</td>\n",
       "      <td>0.3</td>\n",
       "      <td>Iris-setosa</td>\n",
       "    </tr>\n",
       "    <tr>\n",
       "      <th>18</th>\n",
       "      <td>5.7</td>\n",
       "      <td>3.8</td>\n",
       "      <td>1.7</td>\n",
       "      <td>0.3</td>\n",
       "      <td>Iris-setosa</td>\n",
       "    </tr>\n",
       "    <tr>\n",
       "      <th>19</th>\n",
       "      <td>5.1</td>\n",
       "      <td>3.8</td>\n",
       "      <td>1.5</td>\n",
       "      <td>0.3</td>\n",
       "      <td>Iris-setosa</td>\n",
       "    </tr>\n",
       "    <tr>\n",
       "      <th>20</th>\n",
       "      <td>5.4</td>\n",
       "      <td>3.4</td>\n",
       "      <td>1.7</td>\n",
       "      <td>0.2</td>\n",
       "      <td>Iris-setosa</td>\n",
       "    </tr>\n",
       "    <tr>\n",
       "      <th>21</th>\n",
       "      <td>5.1</td>\n",
       "      <td>3.7</td>\n",
       "      <td>1.5</td>\n",
       "      <td>0.4</td>\n",
       "      <td>Iris-setosa</td>\n",
       "    </tr>\n",
       "    <tr>\n",
       "      <th>22</th>\n",
       "      <td>4.6</td>\n",
       "      <td>3.6</td>\n",
       "      <td>1.0</td>\n",
       "      <td>0.2</td>\n",
       "      <td>Iris-setosa</td>\n",
       "    </tr>\n",
       "    <tr>\n",
       "      <th>23</th>\n",
       "      <td>5.1</td>\n",
       "      <td>3.3</td>\n",
       "      <td>1.7</td>\n",
       "      <td>0.5</td>\n",
       "      <td>Iris-setosa</td>\n",
       "    </tr>\n",
       "    <tr>\n",
       "      <th>24</th>\n",
       "      <td>4.8</td>\n",
       "      <td>3.4</td>\n",
       "      <td>1.9</td>\n",
       "      <td>0.2</td>\n",
       "      <td>Iris-setosa</td>\n",
       "    </tr>\n",
       "    <tr>\n",
       "      <th>25</th>\n",
       "      <td>5.0</td>\n",
       "      <td>3.0</td>\n",
       "      <td>1.6</td>\n",
       "      <td>0.2</td>\n",
       "      <td>Iris-setosa</td>\n",
       "    </tr>\n",
       "    <tr>\n",
       "      <th>26</th>\n",
       "      <td>5.0</td>\n",
       "      <td>3.4</td>\n",
       "      <td>1.6</td>\n",
       "      <td>0.4</td>\n",
       "      <td>Iris-setosa</td>\n",
       "    </tr>\n",
       "    <tr>\n",
       "      <th>27</th>\n",
       "      <td>5.2</td>\n",
       "      <td>3.5</td>\n",
       "      <td>1.5</td>\n",
       "      <td>0.2</td>\n",
       "      <td>Iris-setosa</td>\n",
       "    </tr>\n",
       "    <tr>\n",
       "      <th>28</th>\n",
       "      <td>5.2</td>\n",
       "      <td>3.4</td>\n",
       "      <td>1.4</td>\n",
       "      <td>0.2</td>\n",
       "      <td>Iris-setosa</td>\n",
       "    </tr>\n",
       "    <tr>\n",
       "      <th>29</th>\n",
       "      <td>4.7</td>\n",
       "      <td>3.2</td>\n",
       "      <td>1.6</td>\n",
       "      <td>0.2</td>\n",
       "      <td>Iris-setosa</td>\n",
       "    </tr>\n",
       "    <tr>\n",
       "      <th>30</th>\n",
       "      <td>4.8</td>\n",
       "      <td>3.1</td>\n",
       "      <td>1.6</td>\n",
       "      <td>0.2</td>\n",
       "      <td>Iris-setosa</td>\n",
       "    </tr>\n",
       "    <tr>\n",
       "      <th>31</th>\n",
       "      <td>5.4</td>\n",
       "      <td>3.4</td>\n",
       "      <td>1.5</td>\n",
       "      <td>0.4</td>\n",
       "      <td>Iris-setosa</td>\n",
       "    </tr>\n",
       "    <tr>\n",
       "      <th>32</th>\n",
       "      <td>5.2</td>\n",
       "      <td>4.1</td>\n",
       "      <td>1.5</td>\n",
       "      <td>0.1</td>\n",
       "      <td>Iris-setosa</td>\n",
       "    </tr>\n",
       "    <tr>\n",
       "      <th>33</th>\n",
       "      <td>5.5</td>\n",
       "      <td>4.2</td>\n",
       "      <td>1.4</td>\n",
       "      <td>0.2</td>\n",
       "      <td>Iris-setosa</td>\n",
       "    </tr>\n",
       "    <tr>\n",
       "      <th>34</th>\n",
       "      <td>4.9</td>\n",
       "      <td>3.1</td>\n",
       "      <td>1.5</td>\n",
       "      <td>0.1</td>\n",
       "      <td>Iris-setosa</td>\n",
       "    </tr>\n",
       "    <tr>\n",
       "      <th>35</th>\n",
       "      <td>5.0</td>\n",
       "      <td>3.2</td>\n",
       "      <td>1.2</td>\n",
       "      <td>0.2</td>\n",
       "      <td>Iris-setosa</td>\n",
       "    </tr>\n",
       "    <tr>\n",
       "      <th>36</th>\n",
       "      <td>5.5</td>\n",
       "      <td>3.5</td>\n",
       "      <td>1.3</td>\n",
       "      <td>0.2</td>\n",
       "      <td>Iris-setosa</td>\n",
       "    </tr>\n",
       "    <tr>\n",
       "      <th>37</th>\n",
       "      <td>4.9</td>\n",
       "      <td>3.1</td>\n",
       "      <td>1.5</td>\n",
       "      <td>0.1</td>\n",
       "      <td>Iris-setosa</td>\n",
       "    </tr>\n",
       "    <tr>\n",
       "      <th>38</th>\n",
       "      <td>4.4</td>\n",
       "      <td>3.0</td>\n",
       "      <td>1.3</td>\n",
       "      <td>0.2</td>\n",
       "      <td>Iris-setosa</td>\n",
       "    </tr>\n",
       "    <tr>\n",
       "      <th>39</th>\n",
       "      <td>5.1</td>\n",
       "      <td>3.4</td>\n",
       "      <td>1.5</td>\n",
       "      <td>0.2</td>\n",
       "      <td>Iris-setosa</td>\n",
       "    </tr>\n",
       "    <tr>\n",
       "      <th>40</th>\n",
       "      <td>5.0</td>\n",
       "      <td>3.5</td>\n",
       "      <td>1.3</td>\n",
       "      <td>0.3</td>\n",
       "      <td>Iris-setosa</td>\n",
       "    </tr>\n",
       "    <tr>\n",
       "      <th>41</th>\n",
       "      <td>4.5</td>\n",
       "      <td>2.3</td>\n",
       "      <td>1.3</td>\n",
       "      <td>0.3</td>\n",
       "      <td>Iris-setosa</td>\n",
       "    </tr>\n",
       "    <tr>\n",
       "      <th>42</th>\n",
       "      <td>4.4</td>\n",
       "      <td>3.2</td>\n",
       "      <td>1.3</td>\n",
       "      <td>0.2</td>\n",
       "      <td>Iris-setosa</td>\n",
       "    </tr>\n",
       "    <tr>\n",
       "      <th>43</th>\n",
       "      <td>5.0</td>\n",
       "      <td>3.5</td>\n",
       "      <td>1.6</td>\n",
       "      <td>0.6</td>\n",
       "      <td>Iris-setosa</td>\n",
       "    </tr>\n",
       "    <tr>\n",
       "      <th>44</th>\n",
       "      <td>5.1</td>\n",
       "      <td>3.8</td>\n",
       "      <td>1.9</td>\n",
       "      <td>0.4</td>\n",
       "      <td>Iris-setosa</td>\n",
       "    </tr>\n",
       "    <tr>\n",
       "      <th>45</th>\n",
       "      <td>4.8</td>\n",
       "      <td>3.0</td>\n",
       "      <td>1.4</td>\n",
       "      <td>0.3</td>\n",
       "      <td>Iris-setosa</td>\n",
       "    </tr>\n",
       "    <tr>\n",
       "      <th>46</th>\n",
       "      <td>5.1</td>\n",
       "      <td>3.8</td>\n",
       "      <td>1.6</td>\n",
       "      <td>0.2</td>\n",
       "      <td>Iris-setosa</td>\n",
       "    </tr>\n",
       "    <tr>\n",
       "      <th>47</th>\n",
       "      <td>4.6</td>\n",
       "      <td>3.2</td>\n",
       "      <td>1.4</td>\n",
       "      <td>0.2</td>\n",
       "      <td>Iris-setosa</td>\n",
       "    </tr>\n",
       "    <tr>\n",
       "      <th>48</th>\n",
       "      <td>5.3</td>\n",
       "      <td>3.7</td>\n",
       "      <td>1.5</td>\n",
       "      <td>0.2</td>\n",
       "      <td>Iris-setosa</td>\n",
       "    </tr>\n",
       "    <tr>\n",
       "      <th>49</th>\n",
       "      <td>5.0</td>\n",
       "      <td>3.3</td>\n",
       "      <td>1.4</td>\n",
       "      <td>0.2</td>\n",
       "      <td>Iris-setosa</td>\n",
       "    </tr>\n",
       "  </tbody>\n",
       "</table>\n",
       "</div>"
      ],
      "text/plain": [
       "    sepal.length  sepal.width  petal.length  petal.width      variety\n",
       "0            5.1          3.5           1.4          0.2  Iris-setosa\n",
       "1            4.9          3.0           1.4          0.2  Iris-setosa\n",
       "2            4.7          3.2           1.3          0.2  Iris-setosa\n",
       "3            4.6          3.1           1.5          0.2  Iris-setosa\n",
       "4            5.0          3.6           1.4          0.2  Iris-setosa\n",
       "5            5.4          3.9           1.7          0.4  Iris-setosa\n",
       "6            4.6          3.4           1.4          0.3  Iris-setosa\n",
       "7            5.0          3.4           1.5          0.2  Iris-setosa\n",
       "8            4.4          2.9           1.4          0.2  Iris-setosa\n",
       "9            4.9          3.1           1.5          0.1  Iris-setosa\n",
       "10           5.4          3.7           1.5          0.2  Iris-setosa\n",
       "11           4.8          3.4           1.6          0.2  Iris-setosa\n",
       "12           4.8          3.0           1.4          0.1  Iris-setosa\n",
       "13           4.3          3.0           1.1          0.1  Iris-setosa\n",
       "14           5.8          4.0           1.2          0.2  Iris-setosa\n",
       "15           5.7          4.4           1.5          0.4  Iris-setosa\n",
       "16           5.4          3.9           1.3          0.4  Iris-setosa\n",
       "17           5.1          3.5           1.4          0.3  Iris-setosa\n",
       "18           5.7          3.8           1.7          0.3  Iris-setosa\n",
       "19           5.1          3.8           1.5          0.3  Iris-setosa\n",
       "20           5.4          3.4           1.7          0.2  Iris-setosa\n",
       "21           5.1          3.7           1.5          0.4  Iris-setosa\n",
       "22           4.6          3.6           1.0          0.2  Iris-setosa\n",
       "23           5.1          3.3           1.7          0.5  Iris-setosa\n",
       "24           4.8          3.4           1.9          0.2  Iris-setosa\n",
       "25           5.0          3.0           1.6          0.2  Iris-setosa\n",
       "26           5.0          3.4           1.6          0.4  Iris-setosa\n",
       "27           5.2          3.5           1.5          0.2  Iris-setosa\n",
       "28           5.2          3.4           1.4          0.2  Iris-setosa\n",
       "29           4.7          3.2           1.6          0.2  Iris-setosa\n",
       "30           4.8          3.1           1.6          0.2  Iris-setosa\n",
       "31           5.4          3.4           1.5          0.4  Iris-setosa\n",
       "32           5.2          4.1           1.5          0.1  Iris-setosa\n",
       "33           5.5          4.2           1.4          0.2  Iris-setosa\n",
       "34           4.9          3.1           1.5          0.1  Iris-setosa\n",
       "35           5.0          3.2           1.2          0.2  Iris-setosa\n",
       "36           5.5          3.5           1.3          0.2  Iris-setosa\n",
       "37           4.9          3.1           1.5          0.1  Iris-setosa\n",
       "38           4.4          3.0           1.3          0.2  Iris-setosa\n",
       "39           5.1          3.4           1.5          0.2  Iris-setosa\n",
       "40           5.0          3.5           1.3          0.3  Iris-setosa\n",
       "41           4.5          2.3           1.3          0.3  Iris-setosa\n",
       "42           4.4          3.2           1.3          0.2  Iris-setosa\n",
       "43           5.0          3.5           1.6          0.6  Iris-setosa\n",
       "44           5.1          3.8           1.9          0.4  Iris-setosa\n",
       "45           4.8          3.0           1.4          0.3  Iris-setosa\n",
       "46           5.1          3.8           1.6          0.2  Iris-setosa\n",
       "47           4.6          3.2           1.4          0.2  Iris-setosa\n",
       "48           5.3          3.7           1.5          0.2  Iris-setosa\n",
       "49           5.0          3.3           1.4          0.2  Iris-setosa"
      ]
     },
     "execution_count": 109,
     "metadata": {},
     "output_type": "execute_result"
    }
   ],
   "source": [
    "data_set"
   ]
  },
  {
   "cell_type": "code",
   "execution_count": 110,
   "metadata": {},
   "outputs": [
    {
     "data": {
      "text/html": [
       "<div>\n",
       "<style scoped>\n",
       "    .dataframe tbody tr th:only-of-type {\n",
       "        vertical-align: middle;\n",
       "    }\n",
       "\n",
       "    .dataframe tbody tr th {\n",
       "        vertical-align: top;\n",
       "    }\n",
       "\n",
       "    .dataframe thead th {\n",
       "        text-align: right;\n",
       "    }\n",
       "</style>\n",
       "<table border=\"1\" class=\"dataframe\">\n",
       "  <thead>\n",
       "    <tr style=\"text-align: right;\">\n",
       "      <th></th>\n",
       "      <th>sepal.length</th>\n",
       "      <th>sepal.width</th>\n",
       "      <th>petal.length</th>\n",
       "      <th>petal.width</th>\n",
       "      <th>variety</th>\n",
       "    </tr>\n",
       "  </thead>\n",
       "  <tbody>\n",
       "    <tr>\n",
       "      <th>50</th>\n",
       "      <td>7.0</td>\n",
       "      <td>3.2</td>\n",
       "      <td>4.7</td>\n",
       "      <td>1.4</td>\n",
       "      <td>Iris-versicolor</td>\n",
       "    </tr>\n",
       "    <tr>\n",
       "      <th>51</th>\n",
       "      <td>6.4</td>\n",
       "      <td>3.2</td>\n",
       "      <td>4.5</td>\n",
       "      <td>1.5</td>\n",
       "      <td>Iris-versicolor</td>\n",
       "    </tr>\n",
       "    <tr>\n",
       "      <th>52</th>\n",
       "      <td>6.9</td>\n",
       "      <td>3.1</td>\n",
       "      <td>4.9</td>\n",
       "      <td>1.5</td>\n",
       "      <td>Iris-versicolor</td>\n",
       "    </tr>\n",
       "    <tr>\n",
       "      <th>53</th>\n",
       "      <td>5.5</td>\n",
       "      <td>2.3</td>\n",
       "      <td>4.0</td>\n",
       "      <td>1.3</td>\n",
       "      <td>Iris-versicolor</td>\n",
       "    </tr>\n",
       "    <tr>\n",
       "      <th>54</th>\n",
       "      <td>6.5</td>\n",
       "      <td>2.8</td>\n",
       "      <td>4.6</td>\n",
       "      <td>1.5</td>\n",
       "      <td>Iris-versicolor</td>\n",
       "    </tr>\n",
       "    <tr>\n",
       "      <th>55</th>\n",
       "      <td>5.7</td>\n",
       "      <td>2.8</td>\n",
       "      <td>4.5</td>\n",
       "      <td>1.3</td>\n",
       "      <td>Iris-versicolor</td>\n",
       "    </tr>\n",
       "    <tr>\n",
       "      <th>56</th>\n",
       "      <td>6.3</td>\n",
       "      <td>3.3</td>\n",
       "      <td>4.7</td>\n",
       "      <td>1.6</td>\n",
       "      <td>Iris-versicolor</td>\n",
       "    </tr>\n",
       "    <tr>\n",
       "      <th>57</th>\n",
       "      <td>4.9</td>\n",
       "      <td>2.4</td>\n",
       "      <td>3.3</td>\n",
       "      <td>1.0</td>\n",
       "      <td>Iris-versicolor</td>\n",
       "    </tr>\n",
       "    <tr>\n",
       "      <th>58</th>\n",
       "      <td>6.6</td>\n",
       "      <td>2.9</td>\n",
       "      <td>4.6</td>\n",
       "      <td>1.3</td>\n",
       "      <td>Iris-versicolor</td>\n",
       "    </tr>\n",
       "    <tr>\n",
       "      <th>59</th>\n",
       "      <td>5.2</td>\n",
       "      <td>2.7</td>\n",
       "      <td>3.9</td>\n",
       "      <td>1.4</td>\n",
       "      <td>Iris-versicolor</td>\n",
       "    </tr>\n",
       "    <tr>\n",
       "      <th>60</th>\n",
       "      <td>5.0</td>\n",
       "      <td>2.0</td>\n",
       "      <td>3.5</td>\n",
       "      <td>1.0</td>\n",
       "      <td>Iris-versicolor</td>\n",
       "    </tr>\n",
       "    <tr>\n",
       "      <th>61</th>\n",
       "      <td>5.9</td>\n",
       "      <td>3.0</td>\n",
       "      <td>4.2</td>\n",
       "      <td>1.5</td>\n",
       "      <td>Iris-versicolor</td>\n",
       "    </tr>\n",
       "    <tr>\n",
       "      <th>62</th>\n",
       "      <td>6.0</td>\n",
       "      <td>2.2</td>\n",
       "      <td>4.0</td>\n",
       "      <td>1.0</td>\n",
       "      <td>Iris-versicolor</td>\n",
       "    </tr>\n",
       "    <tr>\n",
       "      <th>63</th>\n",
       "      <td>6.1</td>\n",
       "      <td>2.9</td>\n",
       "      <td>4.7</td>\n",
       "      <td>1.4</td>\n",
       "      <td>Iris-versicolor</td>\n",
       "    </tr>\n",
       "    <tr>\n",
       "      <th>64</th>\n",
       "      <td>5.6</td>\n",
       "      <td>2.9</td>\n",
       "      <td>3.6</td>\n",
       "      <td>1.3</td>\n",
       "      <td>Iris-versicolor</td>\n",
       "    </tr>\n",
       "    <tr>\n",
       "      <th>65</th>\n",
       "      <td>6.7</td>\n",
       "      <td>3.1</td>\n",
       "      <td>4.4</td>\n",
       "      <td>1.4</td>\n",
       "      <td>Iris-versicolor</td>\n",
       "    </tr>\n",
       "    <tr>\n",
       "      <th>66</th>\n",
       "      <td>5.6</td>\n",
       "      <td>3.0</td>\n",
       "      <td>4.5</td>\n",
       "      <td>1.5</td>\n",
       "      <td>Iris-versicolor</td>\n",
       "    </tr>\n",
       "    <tr>\n",
       "      <th>67</th>\n",
       "      <td>5.8</td>\n",
       "      <td>2.7</td>\n",
       "      <td>4.1</td>\n",
       "      <td>1.0</td>\n",
       "      <td>Iris-versicolor</td>\n",
       "    </tr>\n",
       "    <tr>\n",
       "      <th>68</th>\n",
       "      <td>6.2</td>\n",
       "      <td>2.2</td>\n",
       "      <td>4.5</td>\n",
       "      <td>1.5</td>\n",
       "      <td>Iris-versicolor</td>\n",
       "    </tr>\n",
       "    <tr>\n",
       "      <th>69</th>\n",
       "      <td>5.6</td>\n",
       "      <td>2.5</td>\n",
       "      <td>3.9</td>\n",
       "      <td>1.1</td>\n",
       "      <td>Iris-versicolor</td>\n",
       "    </tr>\n",
       "    <tr>\n",
       "      <th>70</th>\n",
       "      <td>5.9</td>\n",
       "      <td>3.2</td>\n",
       "      <td>4.8</td>\n",
       "      <td>1.8</td>\n",
       "      <td>Iris-versicolor</td>\n",
       "    </tr>\n",
       "    <tr>\n",
       "      <th>71</th>\n",
       "      <td>6.1</td>\n",
       "      <td>2.8</td>\n",
       "      <td>4.0</td>\n",
       "      <td>1.3</td>\n",
       "      <td>Iris-versicolor</td>\n",
       "    </tr>\n",
       "    <tr>\n",
       "      <th>72</th>\n",
       "      <td>6.3</td>\n",
       "      <td>2.5</td>\n",
       "      <td>4.9</td>\n",
       "      <td>1.5</td>\n",
       "      <td>Iris-versicolor</td>\n",
       "    </tr>\n",
       "    <tr>\n",
       "      <th>73</th>\n",
       "      <td>6.1</td>\n",
       "      <td>2.8</td>\n",
       "      <td>4.7</td>\n",
       "      <td>1.2</td>\n",
       "      <td>Iris-versicolor</td>\n",
       "    </tr>\n",
       "    <tr>\n",
       "      <th>74</th>\n",
       "      <td>6.4</td>\n",
       "      <td>2.9</td>\n",
       "      <td>4.3</td>\n",
       "      <td>1.3</td>\n",
       "      <td>Iris-versicolor</td>\n",
       "    </tr>\n",
       "    <tr>\n",
       "      <th>75</th>\n",
       "      <td>6.6</td>\n",
       "      <td>3.0</td>\n",
       "      <td>4.4</td>\n",
       "      <td>1.4</td>\n",
       "      <td>Iris-versicolor</td>\n",
       "    </tr>\n",
       "    <tr>\n",
       "      <th>76</th>\n",
       "      <td>6.8</td>\n",
       "      <td>2.8</td>\n",
       "      <td>4.8</td>\n",
       "      <td>1.4</td>\n",
       "      <td>Iris-versicolor</td>\n",
       "    </tr>\n",
       "    <tr>\n",
       "      <th>77</th>\n",
       "      <td>6.7</td>\n",
       "      <td>3.0</td>\n",
       "      <td>5.0</td>\n",
       "      <td>1.7</td>\n",
       "      <td>Iris-versicolor</td>\n",
       "    </tr>\n",
       "    <tr>\n",
       "      <th>78</th>\n",
       "      <td>6.0</td>\n",
       "      <td>2.9</td>\n",
       "      <td>4.5</td>\n",
       "      <td>1.5</td>\n",
       "      <td>Iris-versicolor</td>\n",
       "    </tr>\n",
       "    <tr>\n",
       "      <th>79</th>\n",
       "      <td>5.7</td>\n",
       "      <td>2.6</td>\n",
       "      <td>3.5</td>\n",
       "      <td>1.0</td>\n",
       "      <td>Iris-versicolor</td>\n",
       "    </tr>\n",
       "    <tr>\n",
       "      <th>80</th>\n",
       "      <td>5.5</td>\n",
       "      <td>2.4</td>\n",
       "      <td>3.8</td>\n",
       "      <td>1.1</td>\n",
       "      <td>Iris-versicolor</td>\n",
       "    </tr>\n",
       "    <tr>\n",
       "      <th>81</th>\n",
       "      <td>5.5</td>\n",
       "      <td>2.4</td>\n",
       "      <td>3.7</td>\n",
       "      <td>1.0</td>\n",
       "      <td>Iris-versicolor</td>\n",
       "    </tr>\n",
       "    <tr>\n",
       "      <th>82</th>\n",
       "      <td>5.8</td>\n",
       "      <td>2.7</td>\n",
       "      <td>3.9</td>\n",
       "      <td>1.2</td>\n",
       "      <td>Iris-versicolor</td>\n",
       "    </tr>\n",
       "    <tr>\n",
       "      <th>83</th>\n",
       "      <td>6.0</td>\n",
       "      <td>2.7</td>\n",
       "      <td>5.1</td>\n",
       "      <td>1.6</td>\n",
       "      <td>Iris-versicolor</td>\n",
       "    </tr>\n",
       "    <tr>\n",
       "      <th>84</th>\n",
       "      <td>5.4</td>\n",
       "      <td>3.0</td>\n",
       "      <td>4.5</td>\n",
       "      <td>1.5</td>\n",
       "      <td>Iris-versicolor</td>\n",
       "    </tr>\n",
       "    <tr>\n",
       "      <th>85</th>\n",
       "      <td>6.0</td>\n",
       "      <td>3.4</td>\n",
       "      <td>4.5</td>\n",
       "      <td>1.6</td>\n",
       "      <td>Iris-versicolor</td>\n",
       "    </tr>\n",
       "    <tr>\n",
       "      <th>86</th>\n",
       "      <td>6.7</td>\n",
       "      <td>3.1</td>\n",
       "      <td>4.7</td>\n",
       "      <td>1.5</td>\n",
       "      <td>Iris-versicolor</td>\n",
       "    </tr>\n",
       "    <tr>\n",
       "      <th>87</th>\n",
       "      <td>6.3</td>\n",
       "      <td>2.3</td>\n",
       "      <td>4.4</td>\n",
       "      <td>1.3</td>\n",
       "      <td>Iris-versicolor</td>\n",
       "    </tr>\n",
       "    <tr>\n",
       "      <th>88</th>\n",
       "      <td>5.6</td>\n",
       "      <td>3.0</td>\n",
       "      <td>4.1</td>\n",
       "      <td>1.3</td>\n",
       "      <td>Iris-versicolor</td>\n",
       "    </tr>\n",
       "    <tr>\n",
       "      <th>89</th>\n",
       "      <td>5.5</td>\n",
       "      <td>2.5</td>\n",
       "      <td>4.0</td>\n",
       "      <td>1.3</td>\n",
       "      <td>Iris-versicolor</td>\n",
       "    </tr>\n",
       "    <tr>\n",
       "      <th>90</th>\n",
       "      <td>5.5</td>\n",
       "      <td>2.6</td>\n",
       "      <td>4.4</td>\n",
       "      <td>1.2</td>\n",
       "      <td>Iris-versicolor</td>\n",
       "    </tr>\n",
       "    <tr>\n",
       "      <th>91</th>\n",
       "      <td>6.1</td>\n",
       "      <td>3.0</td>\n",
       "      <td>4.6</td>\n",
       "      <td>1.4</td>\n",
       "      <td>Iris-versicolor</td>\n",
       "    </tr>\n",
       "    <tr>\n",
       "      <th>92</th>\n",
       "      <td>5.8</td>\n",
       "      <td>2.6</td>\n",
       "      <td>4.0</td>\n",
       "      <td>1.2</td>\n",
       "      <td>Iris-versicolor</td>\n",
       "    </tr>\n",
       "    <tr>\n",
       "      <th>93</th>\n",
       "      <td>5.0</td>\n",
       "      <td>2.3</td>\n",
       "      <td>3.3</td>\n",
       "      <td>1.0</td>\n",
       "      <td>Iris-versicolor</td>\n",
       "    </tr>\n",
       "    <tr>\n",
       "      <th>94</th>\n",
       "      <td>5.6</td>\n",
       "      <td>2.7</td>\n",
       "      <td>4.2</td>\n",
       "      <td>1.3</td>\n",
       "      <td>Iris-versicolor</td>\n",
       "    </tr>\n",
       "    <tr>\n",
       "      <th>95</th>\n",
       "      <td>5.7</td>\n",
       "      <td>3.0</td>\n",
       "      <td>4.2</td>\n",
       "      <td>1.2</td>\n",
       "      <td>Iris-versicolor</td>\n",
       "    </tr>\n",
       "    <tr>\n",
       "      <th>96</th>\n",
       "      <td>5.7</td>\n",
       "      <td>2.9</td>\n",
       "      <td>4.2</td>\n",
       "      <td>1.3</td>\n",
       "      <td>Iris-versicolor</td>\n",
       "    </tr>\n",
       "    <tr>\n",
       "      <th>97</th>\n",
       "      <td>6.2</td>\n",
       "      <td>2.9</td>\n",
       "      <td>4.3</td>\n",
       "      <td>1.3</td>\n",
       "      <td>Iris-versicolor</td>\n",
       "    </tr>\n",
       "    <tr>\n",
       "      <th>98</th>\n",
       "      <td>5.1</td>\n",
       "      <td>2.5</td>\n",
       "      <td>3.0</td>\n",
       "      <td>1.1</td>\n",
       "      <td>Iris-versicolor</td>\n",
       "    </tr>\n",
       "    <tr>\n",
       "      <th>99</th>\n",
       "      <td>5.7</td>\n",
       "      <td>2.8</td>\n",
       "      <td>4.1</td>\n",
       "      <td>1.3</td>\n",
       "      <td>Iris-versicolor</td>\n",
       "    </tr>\n",
       "  </tbody>\n",
       "</table>\n",
       "</div>"
      ],
      "text/plain": [
       "    sepal.length  sepal.width  petal.length  petal.width          variety\n",
       "50           7.0          3.2           4.7          1.4  Iris-versicolor\n",
       "51           6.4          3.2           4.5          1.5  Iris-versicolor\n",
       "52           6.9          3.1           4.9          1.5  Iris-versicolor\n",
       "53           5.5          2.3           4.0          1.3  Iris-versicolor\n",
       "54           6.5          2.8           4.6          1.5  Iris-versicolor\n",
       "55           5.7          2.8           4.5          1.3  Iris-versicolor\n",
       "56           6.3          3.3           4.7          1.6  Iris-versicolor\n",
       "57           4.9          2.4           3.3          1.0  Iris-versicolor\n",
       "58           6.6          2.9           4.6          1.3  Iris-versicolor\n",
       "59           5.2          2.7           3.9          1.4  Iris-versicolor\n",
       "60           5.0          2.0           3.5          1.0  Iris-versicolor\n",
       "61           5.9          3.0           4.2          1.5  Iris-versicolor\n",
       "62           6.0          2.2           4.0          1.0  Iris-versicolor\n",
       "63           6.1          2.9           4.7          1.4  Iris-versicolor\n",
       "64           5.6          2.9           3.6          1.3  Iris-versicolor\n",
       "65           6.7          3.1           4.4          1.4  Iris-versicolor\n",
       "66           5.6          3.0           4.5          1.5  Iris-versicolor\n",
       "67           5.8          2.7           4.1          1.0  Iris-versicolor\n",
       "68           6.2          2.2           4.5          1.5  Iris-versicolor\n",
       "69           5.6          2.5           3.9          1.1  Iris-versicolor\n",
       "70           5.9          3.2           4.8          1.8  Iris-versicolor\n",
       "71           6.1          2.8           4.0          1.3  Iris-versicolor\n",
       "72           6.3          2.5           4.9          1.5  Iris-versicolor\n",
       "73           6.1          2.8           4.7          1.2  Iris-versicolor\n",
       "74           6.4          2.9           4.3          1.3  Iris-versicolor\n",
       "75           6.6          3.0           4.4          1.4  Iris-versicolor\n",
       "76           6.8          2.8           4.8          1.4  Iris-versicolor\n",
       "77           6.7          3.0           5.0          1.7  Iris-versicolor\n",
       "78           6.0          2.9           4.5          1.5  Iris-versicolor\n",
       "79           5.7          2.6           3.5          1.0  Iris-versicolor\n",
       "80           5.5          2.4           3.8          1.1  Iris-versicolor\n",
       "81           5.5          2.4           3.7          1.0  Iris-versicolor\n",
       "82           5.8          2.7           3.9          1.2  Iris-versicolor\n",
       "83           6.0          2.7           5.1          1.6  Iris-versicolor\n",
       "84           5.4          3.0           4.5          1.5  Iris-versicolor\n",
       "85           6.0          3.4           4.5          1.6  Iris-versicolor\n",
       "86           6.7          3.1           4.7          1.5  Iris-versicolor\n",
       "87           6.3          2.3           4.4          1.3  Iris-versicolor\n",
       "88           5.6          3.0           4.1          1.3  Iris-versicolor\n",
       "89           5.5          2.5           4.0          1.3  Iris-versicolor\n",
       "90           5.5          2.6           4.4          1.2  Iris-versicolor\n",
       "91           6.1          3.0           4.6          1.4  Iris-versicolor\n",
       "92           5.8          2.6           4.0          1.2  Iris-versicolor\n",
       "93           5.0          2.3           3.3          1.0  Iris-versicolor\n",
       "94           5.6          2.7           4.2          1.3  Iris-versicolor\n",
       "95           5.7          3.0           4.2          1.2  Iris-versicolor\n",
       "96           5.7          2.9           4.2          1.3  Iris-versicolor\n",
       "97           6.2          2.9           4.3          1.3  Iris-versicolor\n",
       "98           5.1          2.5           3.0          1.1  Iris-versicolor\n",
       "99           5.7          2.8           4.1          1.3  Iris-versicolor"
      ]
     },
     "execution_count": 110,
     "metadata": {},
     "output_type": "execute_result"
    }
   ],
   "source": [
    "data_ver"
   ]
  },
  {
   "cell_type": "code",
   "execution_count": 111,
   "metadata": {},
   "outputs": [
    {
     "data": {
      "text/html": [
       "<div>\n",
       "<style scoped>\n",
       "    .dataframe tbody tr th:only-of-type {\n",
       "        vertical-align: middle;\n",
       "    }\n",
       "\n",
       "    .dataframe tbody tr th {\n",
       "        vertical-align: top;\n",
       "    }\n",
       "\n",
       "    .dataframe thead th {\n",
       "        text-align: right;\n",
       "    }\n",
       "</style>\n",
       "<table border=\"1\" class=\"dataframe\">\n",
       "  <thead>\n",
       "    <tr style=\"text-align: right;\">\n",
       "      <th></th>\n",
       "      <th>sepal.length</th>\n",
       "      <th>sepal.width</th>\n",
       "      <th>petal.length</th>\n",
       "      <th>petal.width</th>\n",
       "      <th>variety</th>\n",
       "    </tr>\n",
       "  </thead>\n",
       "  <tbody>\n",
       "    <tr>\n",
       "      <th>100</th>\n",
       "      <td>6.3</td>\n",
       "      <td>3.3</td>\n",
       "      <td>6.0</td>\n",
       "      <td>2.5</td>\n",
       "      <td>Iris-virginica</td>\n",
       "    </tr>\n",
       "    <tr>\n",
       "      <th>101</th>\n",
       "      <td>5.8</td>\n",
       "      <td>2.7</td>\n",
       "      <td>5.1</td>\n",
       "      <td>1.9</td>\n",
       "      <td>Iris-virginica</td>\n",
       "    </tr>\n",
       "    <tr>\n",
       "      <th>102</th>\n",
       "      <td>7.1</td>\n",
       "      <td>3.0</td>\n",
       "      <td>5.9</td>\n",
       "      <td>2.1</td>\n",
       "      <td>Iris-virginica</td>\n",
       "    </tr>\n",
       "    <tr>\n",
       "      <th>103</th>\n",
       "      <td>6.3</td>\n",
       "      <td>2.9</td>\n",
       "      <td>5.6</td>\n",
       "      <td>1.8</td>\n",
       "      <td>Iris-virginica</td>\n",
       "    </tr>\n",
       "    <tr>\n",
       "      <th>104</th>\n",
       "      <td>6.5</td>\n",
       "      <td>3.0</td>\n",
       "      <td>5.8</td>\n",
       "      <td>2.2</td>\n",
       "      <td>Iris-virginica</td>\n",
       "    </tr>\n",
       "    <tr>\n",
       "      <th>105</th>\n",
       "      <td>7.6</td>\n",
       "      <td>3.0</td>\n",
       "      <td>6.6</td>\n",
       "      <td>2.1</td>\n",
       "      <td>Iris-virginica</td>\n",
       "    </tr>\n",
       "    <tr>\n",
       "      <th>106</th>\n",
       "      <td>4.9</td>\n",
       "      <td>2.5</td>\n",
       "      <td>4.5</td>\n",
       "      <td>1.7</td>\n",
       "      <td>Iris-virginica</td>\n",
       "    </tr>\n",
       "    <tr>\n",
       "      <th>107</th>\n",
       "      <td>7.3</td>\n",
       "      <td>2.9</td>\n",
       "      <td>6.3</td>\n",
       "      <td>1.8</td>\n",
       "      <td>Iris-virginica</td>\n",
       "    </tr>\n",
       "    <tr>\n",
       "      <th>108</th>\n",
       "      <td>6.7</td>\n",
       "      <td>2.5</td>\n",
       "      <td>5.8</td>\n",
       "      <td>1.8</td>\n",
       "      <td>Iris-virginica</td>\n",
       "    </tr>\n",
       "    <tr>\n",
       "      <th>109</th>\n",
       "      <td>7.2</td>\n",
       "      <td>3.6</td>\n",
       "      <td>6.1</td>\n",
       "      <td>2.5</td>\n",
       "      <td>Iris-virginica</td>\n",
       "    </tr>\n",
       "    <tr>\n",
       "      <th>110</th>\n",
       "      <td>6.5</td>\n",
       "      <td>3.2</td>\n",
       "      <td>5.1</td>\n",
       "      <td>2.0</td>\n",
       "      <td>Iris-virginica</td>\n",
       "    </tr>\n",
       "    <tr>\n",
       "      <th>111</th>\n",
       "      <td>6.4</td>\n",
       "      <td>2.7</td>\n",
       "      <td>5.3</td>\n",
       "      <td>1.9</td>\n",
       "      <td>Iris-virginica</td>\n",
       "    </tr>\n",
       "    <tr>\n",
       "      <th>112</th>\n",
       "      <td>6.8</td>\n",
       "      <td>3.0</td>\n",
       "      <td>5.5</td>\n",
       "      <td>2.1</td>\n",
       "      <td>Iris-virginica</td>\n",
       "    </tr>\n",
       "    <tr>\n",
       "      <th>113</th>\n",
       "      <td>5.7</td>\n",
       "      <td>2.5</td>\n",
       "      <td>5.0</td>\n",
       "      <td>2.0</td>\n",
       "      <td>Iris-virginica</td>\n",
       "    </tr>\n",
       "    <tr>\n",
       "      <th>114</th>\n",
       "      <td>5.8</td>\n",
       "      <td>2.8</td>\n",
       "      <td>5.1</td>\n",
       "      <td>2.4</td>\n",
       "      <td>Iris-virginica</td>\n",
       "    </tr>\n",
       "    <tr>\n",
       "      <th>115</th>\n",
       "      <td>6.4</td>\n",
       "      <td>3.2</td>\n",
       "      <td>5.3</td>\n",
       "      <td>2.3</td>\n",
       "      <td>Iris-virginica</td>\n",
       "    </tr>\n",
       "    <tr>\n",
       "      <th>116</th>\n",
       "      <td>6.5</td>\n",
       "      <td>3.0</td>\n",
       "      <td>5.5</td>\n",
       "      <td>1.8</td>\n",
       "      <td>Iris-virginica</td>\n",
       "    </tr>\n",
       "    <tr>\n",
       "      <th>117</th>\n",
       "      <td>7.7</td>\n",
       "      <td>3.8</td>\n",
       "      <td>6.7</td>\n",
       "      <td>2.2</td>\n",
       "      <td>Iris-virginica</td>\n",
       "    </tr>\n",
       "    <tr>\n",
       "      <th>118</th>\n",
       "      <td>7.7</td>\n",
       "      <td>2.6</td>\n",
       "      <td>6.9</td>\n",
       "      <td>2.3</td>\n",
       "      <td>Iris-virginica</td>\n",
       "    </tr>\n",
       "    <tr>\n",
       "      <th>119</th>\n",
       "      <td>6.0</td>\n",
       "      <td>2.2</td>\n",
       "      <td>5.0</td>\n",
       "      <td>1.5</td>\n",
       "      <td>Iris-virginica</td>\n",
       "    </tr>\n",
       "    <tr>\n",
       "      <th>120</th>\n",
       "      <td>6.9</td>\n",
       "      <td>3.2</td>\n",
       "      <td>5.7</td>\n",
       "      <td>2.3</td>\n",
       "      <td>Iris-virginica</td>\n",
       "    </tr>\n",
       "    <tr>\n",
       "      <th>121</th>\n",
       "      <td>5.6</td>\n",
       "      <td>2.8</td>\n",
       "      <td>4.9</td>\n",
       "      <td>2.0</td>\n",
       "      <td>Iris-virginica</td>\n",
       "    </tr>\n",
       "    <tr>\n",
       "      <th>122</th>\n",
       "      <td>7.7</td>\n",
       "      <td>2.8</td>\n",
       "      <td>6.7</td>\n",
       "      <td>2.0</td>\n",
       "      <td>Iris-virginica</td>\n",
       "    </tr>\n",
       "    <tr>\n",
       "      <th>123</th>\n",
       "      <td>6.3</td>\n",
       "      <td>2.7</td>\n",
       "      <td>4.9</td>\n",
       "      <td>1.8</td>\n",
       "      <td>Iris-virginica</td>\n",
       "    </tr>\n",
       "    <tr>\n",
       "      <th>124</th>\n",
       "      <td>6.7</td>\n",
       "      <td>3.3</td>\n",
       "      <td>5.7</td>\n",
       "      <td>2.1</td>\n",
       "      <td>Iris-virginica</td>\n",
       "    </tr>\n",
       "    <tr>\n",
       "      <th>125</th>\n",
       "      <td>7.2</td>\n",
       "      <td>3.2</td>\n",
       "      <td>6.0</td>\n",
       "      <td>1.8</td>\n",
       "      <td>Iris-virginica</td>\n",
       "    </tr>\n",
       "    <tr>\n",
       "      <th>126</th>\n",
       "      <td>6.2</td>\n",
       "      <td>2.8</td>\n",
       "      <td>4.8</td>\n",
       "      <td>1.8</td>\n",
       "      <td>Iris-virginica</td>\n",
       "    </tr>\n",
       "    <tr>\n",
       "      <th>127</th>\n",
       "      <td>6.1</td>\n",
       "      <td>3.0</td>\n",
       "      <td>4.9</td>\n",
       "      <td>1.8</td>\n",
       "      <td>Iris-virginica</td>\n",
       "    </tr>\n",
       "    <tr>\n",
       "      <th>128</th>\n",
       "      <td>6.4</td>\n",
       "      <td>2.8</td>\n",
       "      <td>5.6</td>\n",
       "      <td>2.1</td>\n",
       "      <td>Iris-virginica</td>\n",
       "    </tr>\n",
       "    <tr>\n",
       "      <th>129</th>\n",
       "      <td>7.2</td>\n",
       "      <td>3.0</td>\n",
       "      <td>5.8</td>\n",
       "      <td>1.6</td>\n",
       "      <td>Iris-virginica</td>\n",
       "    </tr>\n",
       "    <tr>\n",
       "      <th>130</th>\n",
       "      <td>7.4</td>\n",
       "      <td>2.8</td>\n",
       "      <td>6.1</td>\n",
       "      <td>1.9</td>\n",
       "      <td>Iris-virginica</td>\n",
       "    </tr>\n",
       "    <tr>\n",
       "      <th>131</th>\n",
       "      <td>7.9</td>\n",
       "      <td>3.8</td>\n",
       "      <td>6.4</td>\n",
       "      <td>2.0</td>\n",
       "      <td>Iris-virginica</td>\n",
       "    </tr>\n",
       "    <tr>\n",
       "      <th>132</th>\n",
       "      <td>6.4</td>\n",
       "      <td>2.8</td>\n",
       "      <td>5.6</td>\n",
       "      <td>2.2</td>\n",
       "      <td>Iris-virginica</td>\n",
       "    </tr>\n",
       "    <tr>\n",
       "      <th>133</th>\n",
       "      <td>6.3</td>\n",
       "      <td>2.8</td>\n",
       "      <td>5.1</td>\n",
       "      <td>1.5</td>\n",
       "      <td>Iris-virginica</td>\n",
       "    </tr>\n",
       "    <tr>\n",
       "      <th>134</th>\n",
       "      <td>6.1</td>\n",
       "      <td>2.6</td>\n",
       "      <td>5.6</td>\n",
       "      <td>1.4</td>\n",
       "      <td>Iris-virginica</td>\n",
       "    </tr>\n",
       "    <tr>\n",
       "      <th>135</th>\n",
       "      <td>7.7</td>\n",
       "      <td>3.0</td>\n",
       "      <td>6.1</td>\n",
       "      <td>2.3</td>\n",
       "      <td>Iris-virginica</td>\n",
       "    </tr>\n",
       "    <tr>\n",
       "      <th>136</th>\n",
       "      <td>6.3</td>\n",
       "      <td>3.4</td>\n",
       "      <td>5.6</td>\n",
       "      <td>2.4</td>\n",
       "      <td>Iris-virginica</td>\n",
       "    </tr>\n",
       "    <tr>\n",
       "      <th>137</th>\n",
       "      <td>6.4</td>\n",
       "      <td>3.1</td>\n",
       "      <td>5.5</td>\n",
       "      <td>1.8</td>\n",
       "      <td>Iris-virginica</td>\n",
       "    </tr>\n",
       "    <tr>\n",
       "      <th>138</th>\n",
       "      <td>6.0</td>\n",
       "      <td>3.0</td>\n",
       "      <td>4.8</td>\n",
       "      <td>1.8</td>\n",
       "      <td>Iris-virginica</td>\n",
       "    </tr>\n",
       "    <tr>\n",
       "      <th>139</th>\n",
       "      <td>6.9</td>\n",
       "      <td>3.1</td>\n",
       "      <td>5.4</td>\n",
       "      <td>2.1</td>\n",
       "      <td>Iris-virginica</td>\n",
       "    </tr>\n",
       "    <tr>\n",
       "      <th>140</th>\n",
       "      <td>6.7</td>\n",
       "      <td>3.1</td>\n",
       "      <td>5.6</td>\n",
       "      <td>2.4</td>\n",
       "      <td>Iris-virginica</td>\n",
       "    </tr>\n",
       "    <tr>\n",
       "      <th>141</th>\n",
       "      <td>6.9</td>\n",
       "      <td>3.1</td>\n",
       "      <td>5.1</td>\n",
       "      <td>2.3</td>\n",
       "      <td>Iris-virginica</td>\n",
       "    </tr>\n",
       "    <tr>\n",
       "      <th>142</th>\n",
       "      <td>5.8</td>\n",
       "      <td>2.7</td>\n",
       "      <td>5.1</td>\n",
       "      <td>1.9</td>\n",
       "      <td>Iris-virginica</td>\n",
       "    </tr>\n",
       "    <tr>\n",
       "      <th>143</th>\n",
       "      <td>6.8</td>\n",
       "      <td>3.2</td>\n",
       "      <td>5.9</td>\n",
       "      <td>2.3</td>\n",
       "      <td>Iris-virginica</td>\n",
       "    </tr>\n",
       "    <tr>\n",
       "      <th>144</th>\n",
       "      <td>6.7</td>\n",
       "      <td>3.3</td>\n",
       "      <td>5.7</td>\n",
       "      <td>2.5</td>\n",
       "      <td>Iris-virginica</td>\n",
       "    </tr>\n",
       "    <tr>\n",
       "      <th>145</th>\n",
       "      <td>6.7</td>\n",
       "      <td>3.0</td>\n",
       "      <td>5.2</td>\n",
       "      <td>2.3</td>\n",
       "      <td>Iris-virginica</td>\n",
       "    </tr>\n",
       "    <tr>\n",
       "      <th>146</th>\n",
       "      <td>6.3</td>\n",
       "      <td>2.5</td>\n",
       "      <td>5.0</td>\n",
       "      <td>1.9</td>\n",
       "      <td>Iris-virginica</td>\n",
       "    </tr>\n",
       "    <tr>\n",
       "      <th>147</th>\n",
       "      <td>6.5</td>\n",
       "      <td>3.0</td>\n",
       "      <td>5.2</td>\n",
       "      <td>2.0</td>\n",
       "      <td>Iris-virginica</td>\n",
       "    </tr>\n",
       "    <tr>\n",
       "      <th>148</th>\n",
       "      <td>6.2</td>\n",
       "      <td>3.4</td>\n",
       "      <td>5.4</td>\n",
       "      <td>2.3</td>\n",
       "      <td>Iris-virginica</td>\n",
       "    </tr>\n",
       "    <tr>\n",
       "      <th>149</th>\n",
       "      <td>5.9</td>\n",
       "      <td>3.0</td>\n",
       "      <td>5.1</td>\n",
       "      <td>1.8</td>\n",
       "      <td>Iris-virginica</td>\n",
       "    </tr>\n",
       "  </tbody>\n",
       "</table>\n",
       "</div>"
      ],
      "text/plain": [
       "     sepal.length  sepal.width  petal.length  petal.width         variety\n",
       "100           6.3          3.3           6.0          2.5  Iris-virginica\n",
       "101           5.8          2.7           5.1          1.9  Iris-virginica\n",
       "102           7.1          3.0           5.9          2.1  Iris-virginica\n",
       "103           6.3          2.9           5.6          1.8  Iris-virginica\n",
       "104           6.5          3.0           5.8          2.2  Iris-virginica\n",
       "105           7.6          3.0           6.6          2.1  Iris-virginica\n",
       "106           4.9          2.5           4.5          1.7  Iris-virginica\n",
       "107           7.3          2.9           6.3          1.8  Iris-virginica\n",
       "108           6.7          2.5           5.8          1.8  Iris-virginica\n",
       "109           7.2          3.6           6.1          2.5  Iris-virginica\n",
       "110           6.5          3.2           5.1          2.0  Iris-virginica\n",
       "111           6.4          2.7           5.3          1.9  Iris-virginica\n",
       "112           6.8          3.0           5.5          2.1  Iris-virginica\n",
       "113           5.7          2.5           5.0          2.0  Iris-virginica\n",
       "114           5.8          2.8           5.1          2.4  Iris-virginica\n",
       "115           6.4          3.2           5.3          2.3  Iris-virginica\n",
       "116           6.5          3.0           5.5          1.8  Iris-virginica\n",
       "117           7.7          3.8           6.7          2.2  Iris-virginica\n",
       "118           7.7          2.6           6.9          2.3  Iris-virginica\n",
       "119           6.0          2.2           5.0          1.5  Iris-virginica\n",
       "120           6.9          3.2           5.7          2.3  Iris-virginica\n",
       "121           5.6          2.8           4.9          2.0  Iris-virginica\n",
       "122           7.7          2.8           6.7          2.0  Iris-virginica\n",
       "123           6.3          2.7           4.9          1.8  Iris-virginica\n",
       "124           6.7          3.3           5.7          2.1  Iris-virginica\n",
       "125           7.2          3.2           6.0          1.8  Iris-virginica\n",
       "126           6.2          2.8           4.8          1.8  Iris-virginica\n",
       "127           6.1          3.0           4.9          1.8  Iris-virginica\n",
       "128           6.4          2.8           5.6          2.1  Iris-virginica\n",
       "129           7.2          3.0           5.8          1.6  Iris-virginica\n",
       "130           7.4          2.8           6.1          1.9  Iris-virginica\n",
       "131           7.9          3.8           6.4          2.0  Iris-virginica\n",
       "132           6.4          2.8           5.6          2.2  Iris-virginica\n",
       "133           6.3          2.8           5.1          1.5  Iris-virginica\n",
       "134           6.1          2.6           5.6          1.4  Iris-virginica\n",
       "135           7.7          3.0           6.1          2.3  Iris-virginica\n",
       "136           6.3          3.4           5.6          2.4  Iris-virginica\n",
       "137           6.4          3.1           5.5          1.8  Iris-virginica\n",
       "138           6.0          3.0           4.8          1.8  Iris-virginica\n",
       "139           6.9          3.1           5.4          2.1  Iris-virginica\n",
       "140           6.7          3.1           5.6          2.4  Iris-virginica\n",
       "141           6.9          3.1           5.1          2.3  Iris-virginica\n",
       "142           5.8          2.7           5.1          1.9  Iris-virginica\n",
       "143           6.8          3.2           5.9          2.3  Iris-virginica\n",
       "144           6.7          3.3           5.7          2.5  Iris-virginica\n",
       "145           6.7          3.0           5.2          2.3  Iris-virginica\n",
       "146           6.3          2.5           5.0          1.9  Iris-virginica\n",
       "147           6.5          3.0           5.2          2.0  Iris-virginica\n",
       "148           6.2          3.4           5.4          2.3  Iris-virginica\n",
       "149           5.9          3.0           5.1          1.8  Iris-virginica"
      ]
     },
     "execution_count": 111,
     "metadata": {},
     "output_type": "execute_result"
    }
   ],
   "source": [
    "data_vir"
   ]
  },
  {
   "cell_type": "code",
   "execution_count": 112,
   "metadata": {},
   "outputs": [],
   "source": [
    "data_set = data_set.drop(['variety'], axis=1)\n",
    "data_ver = data_ver.drop(['variety'], axis=1)\n",
    "data_vir = data_vir.drop(['variety'], axis=1)"
   ]
  },
  {
   "cell_type": "markdown",
   "metadata": {},
   "source": [
    "#### (a)Mostre em uma representação tabular 2 exemplos de cada classe."
   ]
  },
  {
   "cell_type": "code",
   "execution_count": 113,
   "metadata": {},
   "outputs": [
    {
     "data": {
      "text/html": [
       "<div>\n",
       "<style scoped>\n",
       "    .dataframe tbody tr th:only-of-type {\n",
       "        vertical-align: middle;\n",
       "    }\n",
       "\n",
       "    .dataframe tbody tr th {\n",
       "        vertical-align: top;\n",
       "    }\n",
       "\n",
       "    .dataframe thead th {\n",
       "        text-align: right;\n",
       "    }\n",
       "</style>\n",
       "<table border=\"1\" class=\"dataframe\">\n",
       "  <thead>\n",
       "    <tr style=\"text-align: right;\">\n",
       "      <th></th>\n",
       "      <th>sepal.length</th>\n",
       "      <th>sepal.width</th>\n",
       "      <th>petal.length</th>\n",
       "      <th>petal.width</th>\n",
       "    </tr>\n",
       "  </thead>\n",
       "  <tbody>\n",
       "    <tr>\n",
       "      <th>0</th>\n",
       "      <td>5.1</td>\n",
       "      <td>3.5</td>\n",
       "      <td>1.4</td>\n",
       "      <td>0.2</td>\n",
       "    </tr>\n",
       "    <tr>\n",
       "      <th>1</th>\n",
       "      <td>4.9</td>\n",
       "      <td>3.0</td>\n",
       "      <td>1.4</td>\n",
       "      <td>0.2</td>\n",
       "    </tr>\n",
       "  </tbody>\n",
       "</table>\n",
       "</div>"
      ],
      "text/plain": [
       "   sepal.length  sepal.width  petal.length  petal.width\n",
       "0           5.1          3.5           1.4          0.2\n",
       "1           4.9          3.0           1.4          0.2"
      ]
     },
     "execution_count": 113,
     "metadata": {},
     "output_type": "execute_result"
    }
   ],
   "source": [
    "data_set[:2]"
   ]
  },
  {
   "cell_type": "code",
   "execution_count": 114,
   "metadata": {},
   "outputs": [
    {
     "data": {
      "text/html": [
       "<div>\n",
       "<style scoped>\n",
       "    .dataframe tbody tr th:only-of-type {\n",
       "        vertical-align: middle;\n",
       "    }\n",
       "\n",
       "    .dataframe tbody tr th {\n",
       "        vertical-align: top;\n",
       "    }\n",
       "\n",
       "    .dataframe thead th {\n",
       "        text-align: right;\n",
       "    }\n",
       "</style>\n",
       "<table border=\"1\" class=\"dataframe\">\n",
       "  <thead>\n",
       "    <tr style=\"text-align: right;\">\n",
       "      <th></th>\n",
       "      <th>sepal.length</th>\n",
       "      <th>sepal.width</th>\n",
       "      <th>petal.length</th>\n",
       "      <th>petal.width</th>\n",
       "    </tr>\n",
       "  </thead>\n",
       "  <tbody>\n",
       "    <tr>\n",
       "      <th>50</th>\n",
       "      <td>7.0</td>\n",
       "      <td>3.2</td>\n",
       "      <td>4.7</td>\n",
       "      <td>1.4</td>\n",
       "    </tr>\n",
       "    <tr>\n",
       "      <th>51</th>\n",
       "      <td>6.4</td>\n",
       "      <td>3.2</td>\n",
       "      <td>4.5</td>\n",
       "      <td>1.5</td>\n",
       "    </tr>\n",
       "  </tbody>\n",
       "</table>\n",
       "</div>"
      ],
      "text/plain": [
       "    sepal.length  sepal.width  petal.length  petal.width\n",
       "50           7.0          3.2           4.7          1.4\n",
       "51           6.4          3.2           4.5          1.5"
      ]
     },
     "execution_count": 114,
     "metadata": {},
     "output_type": "execute_result"
    }
   ],
   "source": [
    "data_ver[:2]"
   ]
  },
  {
   "cell_type": "code",
   "execution_count": 115,
   "metadata": {},
   "outputs": [
    {
     "data": {
      "text/html": [
       "<div>\n",
       "<style scoped>\n",
       "    .dataframe tbody tr th:only-of-type {\n",
       "        vertical-align: middle;\n",
       "    }\n",
       "\n",
       "    .dataframe tbody tr th {\n",
       "        vertical-align: top;\n",
       "    }\n",
       "\n",
       "    .dataframe thead th {\n",
       "        text-align: right;\n",
       "    }\n",
       "</style>\n",
       "<table border=\"1\" class=\"dataframe\">\n",
       "  <thead>\n",
       "    <tr style=\"text-align: right;\">\n",
       "      <th></th>\n",
       "      <th>sepal.length</th>\n",
       "      <th>sepal.width</th>\n",
       "      <th>petal.length</th>\n",
       "      <th>petal.width</th>\n",
       "    </tr>\n",
       "  </thead>\n",
       "  <tbody>\n",
       "    <tr>\n",
       "      <th>100</th>\n",
       "      <td>6.3</td>\n",
       "      <td>3.3</td>\n",
       "      <td>6.0</td>\n",
       "      <td>2.5</td>\n",
       "    </tr>\n",
       "    <tr>\n",
       "      <th>101</th>\n",
       "      <td>5.8</td>\n",
       "      <td>2.7</td>\n",
       "      <td>5.1</td>\n",
       "      <td>1.9</td>\n",
       "    </tr>\n",
       "  </tbody>\n",
       "</table>\n",
       "</div>"
      ],
      "text/plain": [
       "     sepal.length  sepal.width  petal.length  petal.width\n",
       "100           6.3          3.3           6.0          2.5\n",
       "101           5.8          2.7           5.1          1.9"
      ]
     },
     "execution_count": 115,
     "metadata": {},
     "output_type": "execute_result"
    }
   ],
   "source": [
    "data_vir[:2]"
   ]
  },
  {
   "cell_type": "markdown",
   "metadata": {},
   "source": [
    "#### (b)Mostre a média de cada variável numérica"
   ]
  },
  {
   "cell_type": "code",
   "execution_count": 129,
   "metadata": {},
   "outputs": [
    {
     "name": "stdout",
     "output_type": "stream",
     "text": [
      "\t\tSetosa\n",
      "\n",
      "Media da caracteristica sepal.length = 5.006\n",
      "Media da caracteristica sepal.width = 3.418\n",
      "Media da caracteristica petal.length = 1.464\n",
      "Media da caracteristica petal.width = 0.244\n"
     ]
    }
   ],
   "source": [
    "print(\"\\t\\tSetosa\\n\")\n",
    "for i in data_set:\n",
    "    print(\"Media da caracteristica\", i, '=', data_set[i].mean())"
   ]
  },
  {
   "cell_type": "code",
   "execution_count": 130,
   "metadata": {},
   "outputs": [
    {
     "name": "stdout",
     "output_type": "stream",
     "text": [
      "\t\tVersicolor\n",
      "\n",
      "Media da caracteristica sepal.length = 5.936\n",
      "Media da caracteristica sepal.width = 2.7700000000000005\n",
      "Media da caracteristica petal.length = 4.26\n",
      "Media da caracteristica petal.width = 1.3259999999999998\n"
     ]
    }
   ],
   "source": [
    "print(\"\\t\\tVersicolor\\n\")\n",
    "for i in data_ver:\n",
    "    print(\"Media da caracteristica\", i, '=', data_ver[i].mean())"
   ]
  },
  {
   "cell_type": "code",
   "execution_count": 131,
   "metadata": {},
   "outputs": [
    {
     "name": "stdout",
     "output_type": "stream",
     "text": [
      "\t\tVirginica\n",
      "\n",
      "Media da caracteristica sepal.length = 6.587999999999998\n",
      "Media da caracteristica sepal.width = 2.974\n",
      "Media da caracteristica petal.length = 5.5520000000000005\n",
      "Media da caracteristica petal.width = 2.0260000000000002\n"
     ]
    }
   ],
   "source": [
    "print(\"\\t\\tVirginica\\n\")\n",
    "for i in data_vir:\n",
    "    print(\"Media da caracteristica\", i, '=', data_vir[i].mean())"
   ]
  },
  {
   "cell_type": "markdown",
   "metadata": {},
   "source": [
    "#### (c) Mostre a mediana de cada variável numérica."
   ]
  },
  {
   "cell_type": "code",
   "execution_count": 132,
   "metadata": {},
   "outputs": [
    {
     "name": "stdout",
     "output_type": "stream",
     "text": [
      "\t\tSetosa\n",
      "\n",
      "Mediana da caracteristica sepal.length = 5.0\n",
      "Mediana da caracteristica sepal.width = 3.4\n",
      "Mediana da caracteristica petal.length = 1.5\n",
      "Mediana da caracteristica petal.width = 0.2\n"
     ]
    }
   ],
   "source": [
    "print(\"\\t\\tSetosa\\n\")\n",
    "for i in data_set:\n",
    "    print(\"Mediana da caracteristica\", i, '=', statistics.median(data_set[i].to_numpy()))"
   ]
  },
  {
   "cell_type": "code",
   "execution_count": 133,
   "metadata": {},
   "outputs": [
    {
     "name": "stdout",
     "output_type": "stream",
     "text": [
      "\t\tVersicolor\n",
      "\n",
      "Mediana da caracteristica sepal.length = 5.9\n",
      "Mediana da caracteristica sepal.width = 2.8\n",
      "Mediana da caracteristica petal.length = 4.35\n",
      "Mediana da caracteristica petal.width = 1.3\n"
     ]
    }
   ],
   "source": [
    "print(\"\\t\\tVersicolor\\n\")\n",
    "for i in data_ver:\n",
    "    print(\"Mediana da caracteristica\", i, '=', statistics.median(data_ver[i].to_numpy()))"
   ]
  },
  {
   "cell_type": "code",
   "execution_count": 134,
   "metadata": {},
   "outputs": [
    {
     "name": "stdout",
     "output_type": "stream",
     "text": [
      "\t\tVirginica\n",
      "\n",
      "Mediana da caracteristica sepal.length = 6.5\n",
      "Mediana da caracteristica sepal.width = 3.0\n",
      "Mediana da caracteristica petal.length = 5.55\n",
      "Mediana da caracteristica petal.width = 2.0\n"
     ]
    }
   ],
   "source": [
    "print(\"\\t\\tVirginica\\n\")\n",
    "for i in data_vir:\n",
    "    print(\"Mediana da caracteristica\", i, '=', statistics.median(data_vir[i].to_numpy()))"
   ]
  },
  {
   "cell_type": "markdown",
   "metadata": {},
   "source": [
    "#### (d)Mostre a média aparada de cada variável numérica."
   ]
  },
  {
   "cell_type": "code",
   "execution_count": 138,
   "metadata": {},
   "outputs": [
    {
     "name": "stdout",
     "output_type": "stream",
     "text": [
      "\t\tSetosa\n",
      "\n",
      "Media aparada da caracteristica sepal.length = 5.0024999999999995\n",
      "Media aparada da caracteristica sepal.width = 3.4025000000000007\n",
      "Media aparada da caracteristica petal.length = 1.4625\n",
      "Media aparada da caracteristica petal.width = 0.23500000000000004\n"
     ]
    }
   ],
   "source": [
    "print(\"\\t\\tSetosa\\n\")\n",
    "for i in data_set:\n",
    "    print(\"Media aparada da caracteristica\", i, '=', stats.trim_mean(data_set[i], 0.1))"
   ]
  },
  {
   "cell_type": "code",
   "execution_count": 139,
   "metadata": {},
   "outputs": [
    {
     "name": "stdout",
     "output_type": "stream",
     "text": [
      "\t\tVersicolor\n",
      "\n",
      "Media aparada da caracteristica sepal.length = 5.9375\n",
      "Media aparada da caracteristica sepal.width = 2.78\n",
      "Media aparada da caracteristica petal.length = 4.2924999999999995\n",
      "Media aparada da caracteristica petal.width = 1.325\n"
     ]
    }
   ],
   "source": [
    "print(\"\\t\\tVersicolor\\n\")\n",
    "for i in data_ver:\n",
    "    print(\"Media aparada da caracteristica\", i, '=', stats.trim_mean(data_ver[i], 0.1))"
   ]
  },
  {
   "cell_type": "code",
   "execution_count": 140,
   "metadata": {},
   "outputs": [
    {
     "name": "stdout",
     "output_type": "stream",
     "text": [
      "\t\tVirginica\n",
      "\n",
      "Media aparada da caracteristica sepal.length = 6.5725\n",
      "Media aparada da caracteristica sepal.width = 2.9625\n",
      "Media aparada da caracteristica petal.length = 5.51\n",
      "Media aparada da caracteristica petal.width = 2.0325\n"
     ]
    }
   ],
   "source": [
    "print(\"\\t\\tVirginica\\n\")\n",
    "for i in data_vir:\n",
    "    print(\"Media aparada da caracteristica\", i, '=', stats.trim_mean(data_vir[i], 0.1))"
   ]
  },
  {
   "cell_type": "markdown",
   "metadata": {},
   "source": [
    "#### (e)Mostre o desvio absoluto médio de cada variável numérica."
   ]
  },
  {
   "cell_type": "code",
   "execution_count": 142,
   "metadata": {},
   "outputs": [
    {
     "name": "stdout",
     "output_type": "stream",
     "text": [
      "\t\tSetosa\n",
      "\n",
      "Desvio absoluto médio da caracteristica sepal.length = 0.27072\n",
      "Desvio absoluto médio da caracteristica sepal.width = 0.28888\n",
      "Desvio absoluto médio da caracteristica petal.length = 0.13088\n",
      "Desvio absoluto médio da caracteristica petal.width = 0.08383999999999998\n"
     ]
    }
   ],
   "source": [
    "print(\"\\t\\tSetosa\\n\")\n",
    "for i in data_set:\n",
    "    print(\"Desvio absoluto médio da caracteristica\", i, '=', data_set[i].mad())"
   ]
  },
  {
   "cell_type": "code",
   "execution_count": 144,
   "metadata": {},
   "outputs": [
    {
     "name": "stdout",
     "output_type": "stream",
     "text": [
      "\t\tVersicolor\n",
      "\n",
      "Desvio absoluto médio da caracteristica sepal.length = 0.42144\n",
      "Desvio absoluto médio da caracteristica sepal.width = 0.25479999999999986\n",
      "Desvio absoluto médio da caracteristica petal.length = 0.3792000000000001\n",
      "Desvio absoluto médio da caracteristica petal.width = 0.15711999999999998\n"
     ]
    }
   ],
   "source": [
    "print(\"\\t\\tVersicolor\\n\")\n",
    "for i in data_ver:\n",
    "    print(\"Desvio absoluto médio da caracteristica\", i, '=', data_ver[i].mad())"
   ]
  },
  {
   "cell_type": "code",
   "execution_count": 145,
   "metadata": {},
   "outputs": [
    {
     "name": "stdout",
     "output_type": "stream",
     "text": [
      "\t\tVirginica\n",
      "\n",
      "Desvio absoluto médio da caracteristica sepal.length = 0.5025599999999999\n",
      "Desvio absoluto médio da caracteristica sepal.width = 0.24216\n",
      "Desvio absoluto médio da caracteristica petal.length = 0.44\n",
      "Desvio absoluto médio da caracteristica petal.width = 0.22808\n"
     ]
    }
   ],
   "source": [
    "print(\"\\t\\tVirginica\\n\")\n",
    "for i in data_vir:\n",
    "    print(\"Desvio absoluto médio da caracteristica\", i, '=', data_vir[i].mad())"
   ]
  },
  {
   "cell_type": "markdown",
   "metadata": {},
   "source": [
    "#### (f)Mostre a variância de cada variável numérica"
   ]
  },
  {
   "cell_type": "code",
   "execution_count": 147,
   "metadata": {},
   "outputs": [
    {
     "name": "stdout",
     "output_type": "stream",
     "text": [
      "\t\tSetosa\n",
      "\n",
      "Variancia da caracteristica sepal.length = 0.12424897959183677\n",
      "Variancia da caracteristica sepal.width = 0.1451795918367347\n",
      "Variancia da caracteristica petal.length = 0.030106122448979592\n",
      "Variancia da caracteristica petal.width = 0.011493877551020411\n"
     ]
    }
   ],
   "source": [
    "print(\"\\t\\tSetosa\\n\")\n",
    "for i in data_set:\n",
    "    print(\"Variancia da caracteristica\", i, '=', data_set[i].var())"
   ]
  },
  {
   "cell_type": "code",
   "execution_count": 148,
   "metadata": {},
   "outputs": [
    {
     "name": "stdout",
     "output_type": "stream",
     "text": [
      "\t\tVersicolor\n",
      "\n",
      "Variancia da caracteristica sepal.length = 0.2664326530612245\n",
      "Variancia da caracteristica sepal.width = 0.09846938775510206\n",
      "Variancia da caracteristica petal.length = 0.22081632653061228\n",
      "Variancia da caracteristica petal.width = 0.03910612244897959\n"
     ]
    }
   ],
   "source": [
    "print(\"\\t\\tVersicolor\\n\")\n",
    "for i in data_ver:\n",
    "    print(\"Variancia da caracteristica\", i, '=', data_ver[i].var())"
   ]
  },
  {
   "cell_type": "code",
   "execution_count": 149,
   "metadata": {},
   "outputs": [
    {
     "name": "stdout",
     "output_type": "stream",
     "text": [
      "\t\tVirginica\n",
      "\n",
      "Varianciao da caracteristica sepal.length = 0.4043428571428573\n",
      "Varianciao da caracteristica sepal.width = 0.10400408163265305\n",
      "Varianciao da caracteristica petal.length = 0.30458775510204084\n",
      "Varianciao da caracteristica petal.width = 0.07543265306122449\n"
     ]
    }
   ],
   "source": [
    "print(\"\\t\\tVirginica\\n\")\n",
    "for i in data_vir:\n",
    "    print(\"Varianciao da caracteristica\", i, '=', data_vir[i].var())"
   ]
  },
  {
   "cell_type": "markdown",
   "metadata": {},
   "source": [
    "#### (g)Mostre a desvio-padrão de cada variável numérica."
   ]
  },
  {
   "cell_type": "code",
   "execution_count": 157,
   "metadata": {},
   "outputs": [
    {
     "name": "stdout",
     "output_type": "stream",
     "text": [
      "\t\tSetosa\n",
      "\n",
      "Desvio padrão da caracteristica sepal.length = 0.35248968721345136\n",
      "Desvio padrão da caracteristica sepal.width = 0.38102439795469095\n",
      "Desvio padrão da caracteristica petal.length = 0.17351115943644546\n",
      "Desvio padrão da caracteristica petal.width = 0.1072095030816784\n"
     ]
    }
   ],
   "source": [
    "print(\"\\t\\tSetosa\\n\")\n",
    "for i in data_set:\n",
    "    print(\"Desvio padrão da caracteristica\", i, '=', data_set[i].std())"
   ]
  },
  {
   "cell_type": "code",
   "execution_count": 159,
   "metadata": {},
   "outputs": [
    {
     "name": "stdout",
     "output_type": "stream",
     "text": [
      "\t\tVersicolor\n",
      "\n",
      "Desvio padrão da caracteristica sepal.length = 0.5161711470638634\n",
      "Desvio padrão da caracteristica sepal.width = 0.3137983233784114\n",
      "Desvio padrão da caracteristica petal.length = 0.46991097723995795\n",
      "Desvio padrão da caracteristica petal.width = 0.19775268000454405\n"
     ]
    }
   ],
   "source": [
    "print(\"\\t\\tVersicolor\\n\")\n",
    "for i in data_ver:\n",
    "    print(\"Desvio padrão da caracteristica\", i, '=', data_ver[i].std())"
   ]
  },
  {
   "cell_type": "code",
   "execution_count": 160,
   "metadata": {},
   "outputs": [
    {
     "name": "stdout",
     "output_type": "stream",
     "text": [
      "\t\tVirginica\n",
      "\n",
      "Desvio padrão da caracteristica sepal.length = 0.6358795932744322\n",
      "Desvio padrão da caracteristica sepal.width = 0.32249663817263746\n",
      "Desvio padrão da caracteristica petal.length = 0.5518946956639834\n",
      "Desvio padrão da caracteristica petal.width = 0.2746500556366674\n"
     ]
    }
   ],
   "source": [
    "print(\"\\t\\tVirginica\\n\")\n",
    "for i in data_vir:\n",
    "    print(\"Desvio padrão da caracteristica\", i, '=', data_vir[i].std())"
   ]
  },
  {
   "cell_type": "markdown",
   "metadata": {},
   "source": [
    "#### (h)Mostre a desvio absoluto mediano da mediana de cada variável numérica."
   ]
  },
  {
   "cell_type": "code",
   "execution_count": 161,
   "metadata": {},
   "outputs": [
    {
     "name": "stdout",
     "output_type": "stream",
     "text": [
      "\t\tSetosa\n",
      "\n",
      "Desvio absoluto mediano da caracteristica sepal.length = 0.20000000000000018\n",
      "Desvio absoluto mediano da caracteristica sepal.width = 0.2999999999999998\n",
      "Desvio absoluto mediano da caracteristica petal.length = 0.10000000000000009\n",
      "Desvio absoluto mediano da caracteristica petal.width = 0.0\n"
     ]
    }
   ],
   "source": [
    "print(\"\\t\\tSetosa\\n\")\n",
    "for i in data_set:\n",
    "    print(\"Desvio absoluto mediano da caracteristica\", i, '=', median_abs_deviation(data_set[i]))"
   ]
  },
  {
   "cell_type": "code",
   "execution_count": 162,
   "metadata": {},
   "outputs": [
    {
     "name": "stdout",
     "output_type": "stream",
     "text": [
      "\t\tVersicolor\n",
      "\n",
      "Desvio absoluto mediano da caracteristica sepal.length = 0.3500000000000001\n",
      "Desvio absoluto mediano da caracteristica sepal.width = 0.20000000000000018\n",
      "Desvio absoluto mediano da caracteristica petal.length = 0.34999999999999964\n",
      "Desvio absoluto mediano da caracteristica petal.width = 0.15000000000000002\n"
     ]
    }
   ],
   "source": [
    "print(\"\\t\\tVersicolor\\n\")\n",
    "for i in data_ver:\n",
    "    print(\"Desvio absoluto mediano da caracteristica\", i, '=', median_abs_deviation(data_ver[i]))"
   ]
  },
  {
   "cell_type": "code",
   "execution_count": 163,
   "metadata": {},
   "outputs": [
    {
     "name": "stdout",
     "output_type": "stream",
     "text": [
      "\t\tVirginica\n",
      "\n",
      "Desvio absoluto mediano da caracteristica sepal.length = 0.40000000000000036\n",
      "Desvio absoluto mediano da caracteristica sepal.width = 0.20000000000000018\n",
      "Desvio absoluto mediano da caracteristica petal.length = 0.4500000000000002\n",
      "Desvio absoluto mediano da caracteristica petal.width = 0.19999999999999996\n"
     ]
    }
   ],
   "source": [
    "print(\"\\t\\tVirginica\\n\")\n",
    "for i in data_vir:\n",
    "    print(\"Desvio absoluto mediano da caracteristica\", i, '=', median_abs_deviation(data_vir[i]))"
   ]
  },
  {
   "cell_type": "markdown",
   "metadata": {},
   "source": [
    "#### (i)Mostre o máximo de cada variável numérica."
   ]
  },
  {
   "cell_type": "code",
   "execution_count": 171,
   "metadata": {},
   "outputs": [
    {
     "name": "stdout",
     "output_type": "stream",
     "text": [
      "\t\tSetosa\n",
      "\n",
      "Máximo da caracteristica sepal.length = 5.8\n",
      "Máximo da caracteristica sepal.width = 4.4\n",
      "Máximo da caracteristica petal.length = 1.9\n",
      "Máximo da caracteristica petal.width = 0.6\n"
     ]
    }
   ],
   "source": [
    "print(\"\\t\\tSetosa\\n\")\n",
    "for i in data_set:\n",
    "    print(\"Máximo da caracteristica\", i, '=', data_set[i].max())"
   ]
  },
  {
   "cell_type": "code",
   "execution_count": 172,
   "metadata": {},
   "outputs": [
    {
     "name": "stdout",
     "output_type": "stream",
     "text": [
      "\t\tVersicolor\n",
      "\n",
      "Máximo da caracteristica sepal.length = 7.0\n",
      "Máximo da caracteristica sepal.width = 3.4\n",
      "Máximo da caracteristica petal.length = 5.1\n",
      "Máximo da caracteristica petal.width = 1.8\n"
     ]
    }
   ],
   "source": [
    "print(\"\\t\\tVersicolor\\n\")\n",
    "for i in data_ver:\n",
    "    print(\"Máximo da caracteristica\", i, '=', data_ver[i].max())"
   ]
  },
  {
   "cell_type": "code",
   "execution_count": 173,
   "metadata": {},
   "outputs": [
    {
     "name": "stdout",
     "output_type": "stream",
     "text": [
      "\t\tVirginica\n",
      "\n",
      "Máximo da caracteristica sepal.length = 7.9\n",
      "Máximo da caracteristica sepal.width = 3.8\n",
      "Máximo da caracteristica petal.length = 6.9\n",
      "Máximo da caracteristica petal.width = 2.5\n"
     ]
    }
   ],
   "source": [
    "print(\"\\t\\tVirginica\\n\")\n",
    "for i in data_vir:\n",
    "    print(\"Máximo da caracteristica\", i, '=', data_vir[i].max())"
   ]
  },
  {
   "cell_type": "markdown",
   "metadata": {},
   "source": [
    "#### (j) Mostre o mínimo de cada variável numérica."
   ]
  },
  {
   "cell_type": "code",
   "execution_count": 174,
   "metadata": {},
   "outputs": [
    {
     "name": "stdout",
     "output_type": "stream",
     "text": [
      "\t\tSetosa\n",
      "\n",
      "Mínimo da caracteristica sepal.length = 4.3\n",
      "Mínimo da caracteristica sepal.width = 2.3\n",
      "Mínimo da caracteristica petal.length = 1.0\n",
      "Mínimo da caracteristica petal.width = 0.1\n"
     ]
    }
   ],
   "source": [
    "print(\"\\t\\tSetosa\\n\")\n",
    "for i in data_set:\n",
    "    print(\"Mínimo da caracteristica\", i, '=', data_set[i].min())"
   ]
  },
  {
   "cell_type": "code",
   "execution_count": 175,
   "metadata": {},
   "outputs": [
    {
     "name": "stdout",
     "output_type": "stream",
     "text": [
      "\t\tVersicolor\n",
      "\n",
      "Mínimo da caracteristica sepal.length = 4.9\n",
      "Mínimo da caracteristica sepal.width = 2.0\n",
      "Mínimo da caracteristica petal.length = 3.0\n",
      "Mínimo da caracteristica petal.width = 1.0\n"
     ]
    }
   ],
   "source": [
    "print(\"\\t\\tVersicolor\\n\")\n",
    "for i in data_ver:\n",
    "    print(\"Mínimo da caracteristica\", i, '=', data_ver[i].min())"
   ]
  },
  {
   "cell_type": "code",
   "execution_count": 176,
   "metadata": {},
   "outputs": [
    {
     "name": "stdout",
     "output_type": "stream",
     "text": [
      "\t\tVirginica\n",
      "\n",
      "Mínimo da caracteristica sepal.length = 4.9\n",
      "Mínimo da caracteristica sepal.width = 2.2\n",
      "Mínimo da caracteristica petal.length = 4.5\n",
      "Mínimo da caracteristica petal.width = 1.4\n"
     ]
    }
   ],
   "source": [
    "print(\"\\t\\tVirginica\\n\")\n",
    "for i in data_vir:\n",
    "    print(\"Mínimo da caracteristica\", i, '=', data_vir[i].min())"
   ]
  },
  {
   "cell_type": "markdown",
   "metadata": {},
   "source": [
    "#### (k)Mostre a amplitude de cada variável numérica."
   ]
  },
  {
   "cell_type": "code",
   "execution_count": 177,
   "metadata": {},
   "outputs": [
    {
     "name": "stdout",
     "output_type": "stream",
     "text": [
      "\t\tSetosa\n",
      "\n",
      "Amplitude da caracteristica sepal.length = 1.5\n",
      "Amplitude da caracteristica sepal.width = 2.1000000000000005\n",
      "Amplitude da caracteristica petal.length = 0.8999999999999999\n",
      "Amplitude da caracteristica petal.width = 0.5\n"
     ]
    }
   ],
   "source": [
    "print(\"\\t\\tSetosa\\n\")\n",
    "for i in data_set:\n",
    "    print(\"Amplitude da caracteristica\", i, '=', data_set[i].max() - data_set[i].min())"
   ]
  },
  {
   "cell_type": "code",
   "execution_count": 178,
   "metadata": {},
   "outputs": [
    {
     "name": "stdout",
     "output_type": "stream",
     "text": [
      "\t\tVersicolor\n",
      "\n",
      "Amplitude da caracteristica sepal.length = 2.0999999999999996\n",
      "Amplitude da caracteristica sepal.width = 1.4\n",
      "Amplitude da caracteristica petal.length = 2.0999999999999996\n",
      "Amplitude da caracteristica petal.width = 0.8\n"
     ]
    }
   ],
   "source": [
    "print(\"\\t\\tVersicolor\\n\")\n",
    "for i in data_ver:\n",
    "    print(\"Amplitude da caracteristica\", i, '=', data_ver[i].max() - data_ver[i].min())"
   ]
  },
  {
   "cell_type": "code",
   "execution_count": 179,
   "metadata": {},
   "outputs": [
    {
     "name": "stdout",
     "output_type": "stream",
     "text": [
      "\t\tVirginica\n",
      "\n",
      "Amplitude mediano da caracteristica sepal.length = 3.0\n",
      "Amplitude mediano da caracteristica sepal.width = 1.5999999999999996\n",
      "Amplitude mediano da caracteristica petal.length = 2.4000000000000004\n",
      "Amplitude mediano da caracteristica petal.width = 1.1\n"
     ]
    }
   ],
   "source": [
    "print(\"\\t\\tVirginica\\n\")\n",
    "for i in data_vir:\n",
    "    print(\"Amplitude mediano da caracteristica\", i, '=', data_vir[i].max() - data_vir[i].min())"
   ]
  },
  {
   "cell_type": "markdown",
   "metadata": {},
   "source": [
    "#### (l)Mostre o 10º percentil de cada variável numérica."
   ]
  },
  {
   "cell_type": "code",
   "execution_count": 180,
   "metadata": {},
   "outputs": [
    {
     "name": "stdout",
     "output_type": "stream",
     "text": [
      "\t\tSetosa\n",
      "\n",
      "10º percentil da caracteristica sepal.length = 4.59\n",
      "10º percentil da caracteristica sepal.width = 3.0\n",
      "10º percentil da caracteristica petal.length = 1.3\n",
      "10º percentil da caracteristica petal.width = 0.1\n"
     ]
    }
   ],
   "source": [
    "print(\"\\t\\tSetosa\\n\")\n",
    "for i in data_set:\n",
    "    print(\"10º percentil da caracteristica\", i, '=', data_set[i].quantile(0.1))\n"
   ]
  },
  {
   "cell_type": "code",
   "execution_count": 181,
   "metadata": {},
   "outputs": [
    {
     "name": "stdout",
     "output_type": "stream",
     "text": [
      "\t\tVersicolor\n",
      "\n",
      "10º percentil da caracteristica sepal.length = 5.380000000000001\n",
      "10º percentil da caracteristica sepal.width = 2.3\n",
      "10º percentil da caracteristica petal.length = 3.5900000000000003\n",
      "10º percentil da caracteristica petal.width = 1.0\n"
     ]
    }
   ],
   "source": [
    "\n",
    "print(\"\\t\\tVersicolor\\n\")\n",
    "for i in data_ver:\n",
    "    print(\"10º percentil da caracteristica\", i, '=', data_ver[i].quantile(0.1))\n"
   ]
  },
  {
   "cell_type": "code",
   "execution_count": 183,
   "metadata": {},
   "outputs": [
    {
     "name": "stdout",
     "output_type": "stream",
     "text": [
      "\t\tVirginica\n",
      "\n",
      "10º percentil da caracteristica sepal.length = 5.8\n",
      "10º percentil da caracteristica sepal.width = 2.5900000000000003\n",
      "10º percentil da caracteristica petal.length = 4.9\n",
      "10º percentil da caracteristica petal.width = 1.79\n"
     ]
    }
   ],
   "source": [
    "\n",
    "print(\"\\t\\tVirginica\\n\")\n",
    "for i in data_vir:\n",
    "    print(\"10º percentil da caracteristica\", i, '=', data_vir[i].quantile(0.1))"
   ]
  },
  {
   "cell_type": "markdown",
   "metadata": {},
   "source": [
    "#### (m) Mostre o 25º percentil de cada variável numérica."
   ]
  },
  {
   "cell_type": "code",
   "execution_count": 185,
   "metadata": {},
   "outputs": [
    {
     "name": "stdout",
     "output_type": "stream",
     "text": [
      "\t\tSetosa\n",
      "\n",
      "25º percentil da caracteristica sepal.length = 4.8\n",
      "25º percentil da caracteristica sepal.width = 3.125\n",
      "25º percentil da caracteristica petal.length = 1.4\n",
      "25º percentil da caracteristica petal.width = 0.2\n"
     ]
    }
   ],
   "source": [
    "print(\"\\t\\tSetosa\\n\")\n",
    "for i in data_set:\n",
    "    print(\"25º percentil da caracteristica\", i, '=', data_set[i].quantile(0.25))\n"
   ]
  },
  {
   "cell_type": "code",
   "execution_count": 186,
   "metadata": {},
   "outputs": [
    {
     "name": "stdout",
     "output_type": "stream",
     "text": [
      "\t\tVersicolor\n",
      "\n",
      "25º percentil da caracteristica sepal.length = 5.6\n",
      "25º percentil da caracteristica sepal.width = 2.525\n",
      "25º percentil da caracteristica petal.length = 4.0\n",
      "25º percentil da caracteristica petal.width = 1.2\n"
     ]
    }
   ],
   "source": [
    "\n",
    "print(\"\\t\\tVersicolor\\n\")\n",
    "for i in data_ver:\n",
    "    print(\"25º percentil da caracteristica\", i, '=', data_ver[i].quantile(0.25))\n"
   ]
  },
  {
   "cell_type": "code",
   "execution_count": 187,
   "metadata": {},
   "outputs": [
    {
     "name": "stdout",
     "output_type": "stream",
     "text": [
      "\t\tVirginica\n",
      "\n",
      "25º percentil da caracteristica sepal.length = 6.225\n",
      "25º percentil da caracteristica sepal.width = 2.8\n",
      "25º percentil da caracteristica petal.length = 5.1\n",
      "25º percentil da caracteristica petal.width = 1.8\n"
     ]
    }
   ],
   "source": [
    "\n",
    "print(\"\\t\\tVirginica\\n\")\n",
    "for i in data_vir:\n",
    "    print(\"25º percentil da caracteristica\", i, '=', data_vir[i].quantile(0.25))"
   ]
  },
  {
   "cell_type": "markdown",
   "metadata": {},
   "source": [
    "#### (n)Mostre o 75º percentil de cada variável numérica."
   ]
  },
  {
   "cell_type": "code",
   "execution_count": 188,
   "metadata": {},
   "outputs": [
    {
     "name": "stdout",
     "output_type": "stream",
     "text": [
      "\t\tSetosa\n",
      "\n",
      "75º percentil da caracteristica sepal.length = 5.2\n",
      "75º percentil da caracteristica sepal.width = 3.6750000000000003\n",
      "75º percentil da caracteristica petal.length = 1.5750000000000002\n",
      "75º percentil da caracteristica petal.width = 0.3\n"
     ]
    }
   ],
   "source": [
    "print(\"\\t\\tSetosa\\n\")\n",
    "for i in data_set:\n",
    "    print(\"75º percentil da caracteristica\", i, '=', data_set[i].quantile(0.75))\n"
   ]
  },
  {
   "cell_type": "code",
   "execution_count": 189,
   "metadata": {},
   "outputs": [
    {
     "name": "stdout",
     "output_type": "stream",
     "text": [
      "\t\tVersicolor\n",
      "\n",
      "75º percentil da caracteristica sepal.length = 6.3\n",
      "75º percentil da caracteristica sepal.width = 3.0\n",
      "75º percentil da caracteristica petal.length = 4.6\n",
      "75º percentil da caracteristica petal.width = 1.5\n"
     ]
    }
   ],
   "source": [
    "\n",
    "print(\"\\t\\tVersicolor\\n\")\n",
    "for i in data_ver:\n",
    "    print(\"75º percentil da caracteristica\", i, '=', data_ver[i].quantile(0.75))\n"
   ]
  },
  {
   "cell_type": "code",
   "execution_count": 190,
   "metadata": {},
   "outputs": [
    {
     "name": "stdout",
     "output_type": "stream",
     "text": [
      "\t\tVirginica\n",
      "\n",
      "75º percentil da caracteristica sepal.length = 6.9\n",
      "75º percentil da caracteristica sepal.width = 3.1750000000000003\n",
      "75º percentil da caracteristica petal.length = 5.875\n",
      "75º percentil da caracteristica petal.width = 2.3\n"
     ]
    }
   ],
   "source": [
    "\n",
    "print(\"\\t\\tVirginica\\n\")\n",
    "for i in data_vir:\n",
    "    print(\"75º percentil da caracteristica\", i, '=', data_vir[i].quantile(0.75))"
   ]
  },
  {
   "cell_type": "markdown",
   "metadata": {},
   "source": [
    "#### (o)Mostre o 90º percentil de cada variável numérica."
   ]
  },
  {
   "cell_type": "code",
   "execution_count": 192,
   "metadata": {},
   "outputs": [
    {
     "name": "stdout",
     "output_type": "stream",
     "text": [
      "\t\tSetosa\n",
      "\n",
      "90º percentil da caracteristica sepal.length = 5.41\n",
      "90º percentil da caracteristica sepal.width = 3.9\n",
      "90º percentil da caracteristica petal.length = 1.7\n",
      "90º percentil da caracteristica petal.width = 0.4\n"
     ]
    }
   ],
   "source": [
    "print(\"\\t\\tSetosa\\n\")\n",
    "for i in data_set:\n",
    "    print(\"90º percentil da caracteristica\", i, '=', data_set[i].quantile(0.9))"
   ]
  },
  {
   "cell_type": "code",
   "execution_count": 193,
   "metadata": {},
   "outputs": [
    {
     "name": "stdout",
     "output_type": "stream",
     "text": [
      "\t\tVersicolor\n",
      "\n",
      "90º percentil da caracteristica sepal.length = 6.7\n",
      "90º percentil da caracteristica sepal.width = 3.1100000000000003\n",
      "90º percentil da caracteristica petal.length = 4.8\n",
      "90º percentil da caracteristica petal.width = 1.5100000000000002\n"
     ]
    }
   ],
   "source": [
    "print(\"\\t\\tVersicolor\\n\")\n",
    "for i in data_ver:\n",
    "    print(\"90º percentil da caracteristica\", i, '=', data_ver[i].quantile(0.9))"
   ]
  },
  {
   "cell_type": "code",
   "execution_count": 194,
   "metadata": {},
   "outputs": [
    {
     "name": "stdout",
     "output_type": "stream",
     "text": [
      "\t\tVirginica\n",
      "\n",
      "90º percentil da caracteristica sepal.length = 7.609999999999999\n",
      "90º percentil da caracteristica sepal.width = 3.31\n",
      "90º percentil da caracteristica petal.length = 6.31\n",
      "90º percentil da caracteristica petal.width = 2.4\n"
     ]
    }
   ],
   "source": [
    "print(\"\\t\\tVirginica\\n\")\n",
    "for i in data_vir:\n",
    "    print(\"90º percentil da caracteristica\", i, '=', data_vir[i].quantile(0.9))"
   ]
  },
  {
   "cell_type": "markdown",
   "metadata": {},
   "source": [
    " #### (p)Mostre a amplitude interquartil de cada variável numérica."
   ]
  },
  {
   "cell_type": "code",
   "execution_count": 196,
   "metadata": {},
   "outputs": [
    {
     "name": "stdout",
     "output_type": "stream",
     "text": [
      "\t\tSetosa\n",
      "\n",
      "Amplitude iunterquartil da caracteristica sepal.length = 0.40000000000000036\n",
      "Amplitude iunterquartil da caracteristica sepal.width = 0.5500000000000003\n",
      "Amplitude iunterquartil da caracteristica petal.length = 0.17500000000000027\n",
      "Amplitude iunterquartil da caracteristica petal.width = 0.09999999999999998\n"
     ]
    }
   ],
   "source": [
    "print(\"\\t\\tSetosa\\n\")\n",
    "for i in data_set:\n",
    "    print(\"Amplitude iunterquartil da caracteristica\", i, '=', data_set[i].quantile(0.75) - data_set[i].quantile(0.25))"
   ]
  },
  {
   "cell_type": "code",
   "execution_count": 197,
   "metadata": {},
   "outputs": [
    {
     "name": "stdout",
     "output_type": "stream",
     "text": [
      "\t\tVersicolor\n",
      "\n",
      "Amplitude iunterquartil da caracteristica sepal.length = 0.7000000000000002\n",
      "Amplitude iunterquartil da caracteristica sepal.width = 0.4750000000000001\n",
      "Amplitude iunterquartil da caracteristica petal.length = 0.5999999999999996\n",
      "Amplitude iunterquartil da caracteristica petal.width = 0.30000000000000004\n"
     ]
    }
   ],
   "source": [
    "print(\"\\t\\tVersicolor\\n\")\n",
    "for i in data_ver:\n",
    "    print(\"Amplitude iunterquartil da caracteristica\", i, '=', data_ver[i].quantile(0.75) - data_ver[i].quantile(0.25))"
   ]
  },
  {
   "cell_type": "code",
   "execution_count": 198,
   "metadata": {},
   "outputs": [
    {
     "name": "stdout",
     "output_type": "stream",
     "text": [
      "\t\tVirginica\n",
      "\n",
      "Amplitude iunterquartil da caracteristica sepal.length = 0.6750000000000007\n",
      "Amplitude iunterquartil da caracteristica sepal.width = 0.37500000000000044\n",
      "Amplitude iunterquartil da caracteristica petal.length = 0.7750000000000004\n",
      "Amplitude iunterquartil da caracteristica petal.width = 0.4999999999999998\n"
     ]
    }
   ],
   "source": [
    "print(\"\\t\\tVirginica\\n\")\n",
    "for i in data_vir:\n",
    "    print(\"Amplitude iunterquartil da caracteristica\", i, '=', data_vir[i].quantile(0.75) - data_vir[i].quantile(0.25))"
   ]
  },
  {
   "cell_type": "markdown",
   "metadata": {},
   "source": [
    "#### (q)Utilizando as informações calculadas anteriormente verifique a existência ou não de outliers em cada variável."
   ]
  },
  {
   "cell_type": "code",
   "execution_count": 204,
   "metadata": {},
   "outputs": [
    {
     "name": "stdout",
     "output_type": "stream",
     "text": [
      "\t\tSetosa\n",
      "\n",
      "petal.width\n",
      "    sepal.length  sepal.width  petal.length  petal.width\n",
      "43           5.0          3.5           1.6          0.6\n"
     ]
    }
   ],
   "source": [
    "print(\"\\t\\tSetosa\\n\")\n",
    "for i in data_set:\n",
    "    media = data_set[i].mean()\n",
    "    desvio = data_set[i].std()\n",
    "\n",
    "    for x in data_set[i]:\n",
    "        z = (x - media) / desvio\n",
    "        \n",
    "        if(z < -3 or z > 3):\n",
    "            print(i)\n",
    "            print(data_set.loc[data_set[i] == x])"
   ]
  },
  {
   "cell_type": "code",
   "execution_count": 205,
   "metadata": {},
   "outputs": [
    {
     "name": "stdout",
     "output_type": "stream",
     "text": [
      "\t\tVersicolor\n",
      "\n"
     ]
    }
   ],
   "source": [
    "print(\"\\t\\tVersicolor\\n\")\n",
    "for i in data_ver:\n",
    "    media = data_ver[i].mean()\n",
    "    desvio = data_ver[i].std()\n",
    "\n",
    "    for x in data_ver[i]:\n",
    "        z = (x - media) / desvio\n",
    "        \n",
    "        if(z < -3 or z > 3):\n",
    "            print(i)\n",
    "            print(data_ver.loc[data_ver[i] == x])"
   ]
  },
  {
   "cell_type": "code",
   "execution_count": 206,
   "metadata": {},
   "outputs": [
    {
     "name": "stdout",
     "output_type": "stream",
     "text": [
      "\t\tVirginica\n",
      "\n"
     ]
    }
   ],
   "source": [
    "print(\"\\t\\tVirginica\\n\")\n",
    "for i in data_vir:\n",
    "    media = data_vir[i].mean()\n",
    "    desvio = data_vir[i].std()\n",
    "\n",
    "    for x in data_vir[i]:\n",
    "        z = (x - media) / desvio\n",
    "        \n",
    "        if(z < -3 or z > 3):\n",
    "            print(i)\n",
    "            print(data_vir.loc[data_vir[i] == x])"
   ]
  },
  {
   "cell_type": "markdown",
   "metadata": {},
   "source": [
    "#### 3. (40 pontos) Faça o mesmo da Questão 1 para a base Wine archive.ics.uci.edu/ml/datasets/ Wine. "
   ]
  },
  {
   "cell_type": "code",
   "execution_count": 256,
   "metadata": {},
   "outputs": [
    {
     "data": {
      "text/html": [
       "<div>\n",
       "<style scoped>\n",
       "    .dataframe tbody tr th:only-of-type {\n",
       "        vertical-align: middle;\n",
       "    }\n",
       "\n",
       "    .dataframe tbody tr th {\n",
       "        vertical-align: top;\n",
       "    }\n",
       "\n",
       "    .dataframe thead th {\n",
       "        text-align: right;\n",
       "    }\n",
       "</style>\n",
       "<table border=\"1\" class=\"dataframe\">\n",
       "  <thead>\n",
       "    <tr style=\"text-align: right;\">\n",
       "      <th></th>\n",
       "      <th>Alcohol</th>\n",
       "      <th>Malic acid</th>\n",
       "      <th>Ash</th>\n",
       "      <th>Alcalinity of ash</th>\n",
       "      <th>Magnesium</th>\n",
       "      <th>Total phenols</th>\n",
       "      <th>Flavanoids</th>\n",
       "      <th>Nonflavanoid phenols</th>\n",
       "      <th>Proanthocyanins</th>\n",
       "      <th>Color intensity</th>\n",
       "      <th>Hue</th>\n",
       "      <th>OD280/OD315 of diluted wines</th>\n",
       "      <th>Proline</th>\n",
       "    </tr>\n",
       "  </thead>\n",
       "  <tbody>\n",
       "    <tr>\n",
       "      <th>0</th>\n",
       "      <td>14.23</td>\n",
       "      <td>1.71</td>\n",
       "      <td>2.43</td>\n",
       "      <td>15.6</td>\n",
       "      <td>127.0</td>\n",
       "      <td>2.80</td>\n",
       "      <td>3.06</td>\n",
       "      <td>0.28</td>\n",
       "      <td>2.29</td>\n",
       "      <td>5.64</td>\n",
       "      <td>1.04</td>\n",
       "      <td>3.92</td>\n",
       "      <td>1065.0</td>\n",
       "    </tr>\n",
       "    <tr>\n",
       "      <th>1</th>\n",
       "      <td>13.20</td>\n",
       "      <td>1.78</td>\n",
       "      <td>2.14</td>\n",
       "      <td>11.2</td>\n",
       "      <td>100.0</td>\n",
       "      <td>2.65</td>\n",
       "      <td>2.76</td>\n",
       "      <td>0.26</td>\n",
       "      <td>1.28</td>\n",
       "      <td>4.38</td>\n",
       "      <td>1.05</td>\n",
       "      <td>3.40</td>\n",
       "      <td>1050.0</td>\n",
       "    </tr>\n",
       "    <tr>\n",
       "      <th>2</th>\n",
       "      <td>13.16</td>\n",
       "      <td>2.36</td>\n",
       "      <td>2.67</td>\n",
       "      <td>18.6</td>\n",
       "      <td>101.0</td>\n",
       "      <td>2.80</td>\n",
       "      <td>3.24</td>\n",
       "      <td>0.30</td>\n",
       "      <td>2.81</td>\n",
       "      <td>5.68</td>\n",
       "      <td>1.03</td>\n",
       "      <td>3.17</td>\n",
       "      <td>1185.0</td>\n",
       "    </tr>\n",
       "    <tr>\n",
       "      <th>3</th>\n",
       "      <td>14.37</td>\n",
       "      <td>1.95</td>\n",
       "      <td>2.50</td>\n",
       "      <td>16.8</td>\n",
       "      <td>113.0</td>\n",
       "      <td>3.85</td>\n",
       "      <td>3.49</td>\n",
       "      <td>0.24</td>\n",
       "      <td>2.18</td>\n",
       "      <td>7.80</td>\n",
       "      <td>0.86</td>\n",
       "      <td>3.45</td>\n",
       "      <td>1480.0</td>\n",
       "    </tr>\n",
       "    <tr>\n",
       "      <th>4</th>\n",
       "      <td>13.24</td>\n",
       "      <td>2.59</td>\n",
       "      <td>2.87</td>\n",
       "      <td>21.0</td>\n",
       "      <td>118.0</td>\n",
       "      <td>2.80</td>\n",
       "      <td>2.69</td>\n",
       "      <td>0.39</td>\n",
       "      <td>1.82</td>\n",
       "      <td>4.32</td>\n",
       "      <td>1.04</td>\n",
       "      <td>2.93</td>\n",
       "      <td>735.0</td>\n",
       "    </tr>\n",
       "    <tr>\n",
       "      <th>...</th>\n",
       "      <td>...</td>\n",
       "      <td>...</td>\n",
       "      <td>...</td>\n",
       "      <td>...</td>\n",
       "      <td>...</td>\n",
       "      <td>...</td>\n",
       "      <td>...</td>\n",
       "      <td>...</td>\n",
       "      <td>...</td>\n",
       "      <td>...</td>\n",
       "      <td>...</td>\n",
       "      <td>...</td>\n",
       "      <td>...</td>\n",
       "    </tr>\n",
       "    <tr>\n",
       "      <th>173</th>\n",
       "      <td>13.71</td>\n",
       "      <td>5.65</td>\n",
       "      <td>2.45</td>\n",
       "      <td>20.5</td>\n",
       "      <td>95.0</td>\n",
       "      <td>1.68</td>\n",
       "      <td>0.61</td>\n",
       "      <td>0.52</td>\n",
       "      <td>1.06</td>\n",
       "      <td>7.70</td>\n",
       "      <td>0.64</td>\n",
       "      <td>1.74</td>\n",
       "      <td>740.0</td>\n",
       "    </tr>\n",
       "    <tr>\n",
       "      <th>174</th>\n",
       "      <td>13.40</td>\n",
       "      <td>3.91</td>\n",
       "      <td>2.48</td>\n",
       "      <td>23.0</td>\n",
       "      <td>102.0</td>\n",
       "      <td>1.80</td>\n",
       "      <td>0.75</td>\n",
       "      <td>0.43</td>\n",
       "      <td>1.41</td>\n",
       "      <td>7.30</td>\n",
       "      <td>0.70</td>\n",
       "      <td>1.56</td>\n",
       "      <td>750.0</td>\n",
       "    </tr>\n",
       "    <tr>\n",
       "      <th>175</th>\n",
       "      <td>13.27</td>\n",
       "      <td>4.28</td>\n",
       "      <td>2.26</td>\n",
       "      <td>20.0</td>\n",
       "      <td>120.0</td>\n",
       "      <td>1.59</td>\n",
       "      <td>0.69</td>\n",
       "      <td>0.43</td>\n",
       "      <td>1.35</td>\n",
       "      <td>10.20</td>\n",
       "      <td>0.59</td>\n",
       "      <td>1.56</td>\n",
       "      <td>835.0</td>\n",
       "    </tr>\n",
       "    <tr>\n",
       "      <th>176</th>\n",
       "      <td>13.17</td>\n",
       "      <td>2.59</td>\n",
       "      <td>2.37</td>\n",
       "      <td>20.0</td>\n",
       "      <td>120.0</td>\n",
       "      <td>1.65</td>\n",
       "      <td>0.68</td>\n",
       "      <td>0.53</td>\n",
       "      <td>1.46</td>\n",
       "      <td>9.30</td>\n",
       "      <td>0.60</td>\n",
       "      <td>1.62</td>\n",
       "      <td>840.0</td>\n",
       "    </tr>\n",
       "    <tr>\n",
       "      <th>177</th>\n",
       "      <td>14.13</td>\n",
       "      <td>4.10</td>\n",
       "      <td>2.74</td>\n",
       "      <td>24.5</td>\n",
       "      <td>96.0</td>\n",
       "      <td>2.05</td>\n",
       "      <td>0.76</td>\n",
       "      <td>0.56</td>\n",
       "      <td>1.35</td>\n",
       "      <td>9.20</td>\n",
       "      <td>0.61</td>\n",
       "      <td>1.60</td>\n",
       "      <td>560.0</td>\n",
       "    </tr>\n",
       "  </tbody>\n",
       "</table>\n",
       "<p>178 rows × 13 columns</p>\n",
       "</div>"
      ],
      "text/plain": [
       "     Alcohol  Malic acid   Ash  Alcalinity of ash  Magnesium  Total phenols  \\\n",
       "0      14.23        1.71  2.43               15.6      127.0           2.80   \n",
       "1      13.20        1.78  2.14               11.2      100.0           2.65   \n",
       "2      13.16        2.36  2.67               18.6      101.0           2.80   \n",
       "3      14.37        1.95  2.50               16.8      113.0           3.85   \n",
       "4      13.24        2.59  2.87               21.0      118.0           2.80   \n",
       "..       ...         ...   ...                ...        ...            ...   \n",
       "173    13.71        5.65  2.45               20.5       95.0           1.68   \n",
       "174    13.40        3.91  2.48               23.0      102.0           1.80   \n",
       "175    13.27        4.28  2.26               20.0      120.0           1.59   \n",
       "176    13.17        2.59  2.37               20.0      120.0           1.65   \n",
       "177    14.13        4.10  2.74               24.5       96.0           2.05   \n",
       "\n",
       "     Flavanoids  Nonflavanoid phenols  Proanthocyanins  Color intensity   Hue  \\\n",
       "0          3.06                  0.28             2.29             5.64  1.04   \n",
       "1          2.76                  0.26             1.28             4.38  1.05   \n",
       "2          3.24                  0.30             2.81             5.68  1.03   \n",
       "3          3.49                  0.24             2.18             7.80  0.86   \n",
       "4          2.69                  0.39             1.82             4.32  1.04   \n",
       "..          ...                   ...              ...              ...   ...   \n",
       "173        0.61                  0.52             1.06             7.70  0.64   \n",
       "174        0.75                  0.43             1.41             7.30  0.70   \n",
       "175        0.69                  0.43             1.35            10.20  0.59   \n",
       "176        0.68                  0.53             1.46             9.30  0.60   \n",
       "177        0.76                  0.56             1.35             9.20  0.61   \n",
       "\n",
       "     OD280/OD315 of diluted wines  Proline  \n",
       "0                            3.92   1065.0  \n",
       "1                            3.40   1050.0  \n",
       "2                            3.17   1185.0  \n",
       "3                            3.45   1480.0  \n",
       "4                            2.93    735.0  \n",
       "..                            ...      ...  \n",
       "173                          1.74    740.0  \n",
       "174                          1.56    750.0  \n",
       "175                          1.56    835.0  \n",
       "176                          1.62    840.0  \n",
       "177                          1.60    560.0  \n",
       "\n",
       "[178 rows x 13 columns]"
      ]
     },
     "execution_count": 256,
     "metadata": {},
     "output_type": "execute_result"
    }
   ],
   "source": [
    "from sklearn import datasets\n",
    "\n",
    "columns = ['Alcohol','Malic acid', 'Ash','Alcalinity of ash', 'Magnesium', 'Total phenols', 'Flavanoids', 'Nonflavanoid phenols', \n",
    "           'Proanthocyanins', 'Color intensity', 'Hue', 'OD280/OD315 of diluted wines', 'Proline']  \n",
    "\n",
    "wine = datasets.load_wine()\n",
    "data = pd.DataFrame(wine.data, columns=columns)\n",
    "target = pd.DataFrame(wine.target, columns=['Classe'])\n",
    "data"
   ]
  },
  {
   "cell_type": "markdown",
   "metadata": {},
   "source": [
    "#### (a)Mostre em uma representação tabular 2 exemplos de cada classe."
   ]
  },
  {
   "cell_type": "code",
   "execution_count": 257,
   "metadata": {},
   "outputs": [
    {
     "data": {
      "text/html": [
       "<div>\n",
       "<style scoped>\n",
       "    .dataframe tbody tr th:only-of-type {\n",
       "        vertical-align: middle;\n",
       "    }\n",
       "\n",
       "    .dataframe tbody tr th {\n",
       "        vertical-align: top;\n",
       "    }\n",
       "\n",
       "    .dataframe thead th {\n",
       "        text-align: right;\n",
       "    }\n",
       "</style>\n",
       "<table border=\"1\" class=\"dataframe\">\n",
       "  <thead>\n",
       "    <tr style=\"text-align: right;\">\n",
       "      <th></th>\n",
       "      <th>Alcohol</th>\n",
       "      <th>Malic acid</th>\n",
       "      <th>Ash</th>\n",
       "      <th>Alcalinity of ash</th>\n",
       "      <th>Magnesium</th>\n",
       "      <th>Total phenols</th>\n",
       "      <th>Flavanoids</th>\n",
       "      <th>Nonflavanoid phenols</th>\n",
       "      <th>Proanthocyanins</th>\n",
       "      <th>Color intensity</th>\n",
       "      <th>Hue</th>\n",
       "      <th>OD280/OD315 of diluted wines</th>\n",
       "      <th>Proline</th>\n",
       "      <th>class</th>\n",
       "    </tr>\n",
       "  </thead>\n",
       "  <tbody>\n",
       "    <tr>\n",
       "      <th>0</th>\n",
       "      <td>14.23</td>\n",
       "      <td>1.71</td>\n",
       "      <td>2.43</td>\n",
       "      <td>15.6</td>\n",
       "      <td>127.0</td>\n",
       "      <td>2.80</td>\n",
       "      <td>3.06</td>\n",
       "      <td>0.28</td>\n",
       "      <td>2.29</td>\n",
       "      <td>5.64</td>\n",
       "      <td>1.04</td>\n",
       "      <td>3.92</td>\n",
       "      <td>1065.0</td>\n",
       "      <td>0</td>\n",
       "    </tr>\n",
       "    <tr>\n",
       "      <th>1</th>\n",
       "      <td>13.20</td>\n",
       "      <td>1.78</td>\n",
       "      <td>2.14</td>\n",
       "      <td>11.2</td>\n",
       "      <td>100.0</td>\n",
       "      <td>2.65</td>\n",
       "      <td>2.76</td>\n",
       "      <td>0.26</td>\n",
       "      <td>1.28</td>\n",
       "      <td>4.38</td>\n",
       "      <td>1.05</td>\n",
       "      <td>3.40</td>\n",
       "      <td>1050.0</td>\n",
       "      <td>0</td>\n",
       "    </tr>\n",
       "    <tr>\n",
       "      <th>59</th>\n",
       "      <td>12.37</td>\n",
       "      <td>0.94</td>\n",
       "      <td>1.36</td>\n",
       "      <td>10.6</td>\n",
       "      <td>88.0</td>\n",
       "      <td>1.98</td>\n",
       "      <td>0.57</td>\n",
       "      <td>0.28</td>\n",
       "      <td>0.42</td>\n",
       "      <td>1.95</td>\n",
       "      <td>1.05</td>\n",
       "      <td>1.82</td>\n",
       "      <td>520.0</td>\n",
       "      <td>1</td>\n",
       "    </tr>\n",
       "    <tr>\n",
       "      <th>60</th>\n",
       "      <td>12.33</td>\n",
       "      <td>1.10</td>\n",
       "      <td>2.28</td>\n",
       "      <td>16.0</td>\n",
       "      <td>101.0</td>\n",
       "      <td>2.05</td>\n",
       "      <td>1.09</td>\n",
       "      <td>0.63</td>\n",
       "      <td>0.41</td>\n",
       "      <td>3.27</td>\n",
       "      <td>1.25</td>\n",
       "      <td>1.67</td>\n",
       "      <td>680.0</td>\n",
       "      <td>1</td>\n",
       "    </tr>\n",
       "    <tr>\n",
       "      <th>130</th>\n",
       "      <td>12.86</td>\n",
       "      <td>1.35</td>\n",
       "      <td>2.32</td>\n",
       "      <td>18.0</td>\n",
       "      <td>122.0</td>\n",
       "      <td>1.51</td>\n",
       "      <td>1.25</td>\n",
       "      <td>0.21</td>\n",
       "      <td>0.94</td>\n",
       "      <td>4.10</td>\n",
       "      <td>0.76</td>\n",
       "      <td>1.29</td>\n",
       "      <td>630.0</td>\n",
       "      <td>2</td>\n",
       "    </tr>\n",
       "    <tr>\n",
       "      <th>131</th>\n",
       "      <td>12.88</td>\n",
       "      <td>2.99</td>\n",
       "      <td>2.40</td>\n",
       "      <td>20.0</td>\n",
       "      <td>104.0</td>\n",
       "      <td>1.30</td>\n",
       "      <td>1.22</td>\n",
       "      <td>0.24</td>\n",
       "      <td>0.83</td>\n",
       "      <td>5.40</td>\n",
       "      <td>0.74</td>\n",
       "      <td>1.42</td>\n",
       "      <td>530.0</td>\n",
       "      <td>2</td>\n",
       "    </tr>\n",
       "  </tbody>\n",
       "</table>\n",
       "</div>"
      ],
      "text/plain": [
       "     Alcohol  Malic acid   Ash  Alcalinity of ash  Magnesium  Total phenols  \\\n",
       "0      14.23        1.71  2.43               15.6      127.0           2.80   \n",
       "1      13.20        1.78  2.14               11.2      100.0           2.65   \n",
       "59     12.37        0.94  1.36               10.6       88.0           1.98   \n",
       "60     12.33        1.10  2.28               16.0      101.0           2.05   \n",
       "130    12.86        1.35  2.32               18.0      122.0           1.51   \n",
       "131    12.88        2.99  2.40               20.0      104.0           1.30   \n",
       "\n",
       "     Flavanoids  Nonflavanoid phenols  Proanthocyanins  Color intensity   Hue  \\\n",
       "0          3.06                  0.28             2.29             5.64  1.04   \n",
       "1          2.76                  0.26             1.28             4.38  1.05   \n",
       "59         0.57                  0.28             0.42             1.95  1.05   \n",
       "60         1.09                  0.63             0.41             3.27  1.25   \n",
       "130        1.25                  0.21             0.94             4.10  0.76   \n",
       "131        1.22                  0.24             0.83             5.40  0.74   \n",
       "\n",
       "     OD280/OD315 of diluted wines  Proline  class  \n",
       "0                            3.92   1065.0      0  \n",
       "1                            3.40   1050.0      0  \n",
       "59                           1.82    520.0      1  \n",
       "60                           1.67    680.0      1  \n",
       "130                          1.29    630.0      2  \n",
       "131                          1.42    530.0      2  "
      ]
     },
     "execution_count": 257,
     "metadata": {},
     "output_type": "execute_result"
    }
   ],
   "source": [
    "data[\"class\"] = target\n",
    "\n",
    "result = pd.concat([data.iloc[:2], data.iloc[59:61], data.iloc[130:132]])\n",
    "result"
   ]
  },
  {
   "cell_type": "markdown",
   "metadata": {},
   "source": [
    "#### (b) Mostre a média de cada variável numérica."
   ]
  },
  {
   "cell_type": "code",
   "execution_count": 258,
   "metadata": {},
   "outputs": [],
   "source": [
    "data = data.drop([\"class\"], axis=1)"
   ]
  },
  {
   "cell_type": "code",
   "execution_count": 260,
   "metadata": {},
   "outputs": [
    {
     "name": "stdout",
     "output_type": "stream",
     "text": [
      "Media da caracteristica Alcohol = 13.00061797752809\n",
      "Media da caracteristica Malic acid = 2.3363483146067416\n",
      "Media da caracteristica Ash = 2.3665168539325845\n",
      "Media da caracteristica Alcalinity of ash = 19.49494382022472\n",
      "Media da caracteristica Magnesium = 99.74157303370787\n",
      "Media da caracteristica Total phenols = 2.295112359550562\n",
      "Media da caracteristica Flavanoids = 2.0292696629213487\n",
      "Media da caracteristica Nonflavanoid phenols = 0.3618539325842696\n",
      "Media da caracteristica Proanthocyanins = 1.5908988764044945\n",
      "Media da caracteristica Color intensity = 5.058089882022472\n",
      "Media da caracteristica Hue = 0.9574494382022471\n",
      "Media da caracteristica OD280/OD315 of diluted wines = 2.6116853932584267\n",
      "Media da caracteristica Proline = 746.8932584269663\n"
     ]
    }
   ],
   "source": [
    "for i in data:\n",
    "    print(\"Media da caracteristica\", i, '=', data[i].mean())"
   ]
  },
  {
   "cell_type": "markdown",
   "metadata": {},
   "source": [
    "#### (c) Mostre a mediana de cada variável numérica."
   ]
  },
  {
   "cell_type": "code",
   "execution_count": 261,
   "metadata": {},
   "outputs": [
    {
     "name": "stdout",
     "output_type": "stream",
     "text": [
      "Mediana da caracteristica Alcohol = 13.05\n",
      "Mediana da caracteristica Malic acid = 1.8650000000000002\n",
      "Mediana da caracteristica Ash = 2.36\n",
      "Mediana da caracteristica Alcalinity of ash = 19.5\n",
      "Mediana da caracteristica Magnesium = 98.0\n",
      "Mediana da caracteristica Total phenols = 2.355\n",
      "Mediana da caracteristica Flavanoids = 2.135\n",
      "Mediana da caracteristica Nonflavanoid phenols = 0.34\n",
      "Mediana da caracteristica Proanthocyanins = 1.5550000000000002\n",
      "Mediana da caracteristica Color intensity = 4.6899999999999995\n",
      "Mediana da caracteristica Hue = 0.965\n",
      "Mediana da caracteristica OD280/OD315 of diluted wines = 2.78\n",
      "Mediana da caracteristica Proline = 673.5\n"
     ]
    }
   ],
   "source": [
    "for i in data:\n",
    "    print(\"Mediana da caracteristica\", i, '=', statistics.median(data[i].to_numpy()))"
   ]
  },
  {
   "cell_type": "markdown",
   "metadata": {},
   "source": [
    "#### (d) Mostre a média aparada de cada variável numérica."
   ]
  },
  {
   "cell_type": "code",
   "execution_count": 262,
   "metadata": {},
   "outputs": [
    {
     "name": "stdout",
     "output_type": "stream",
     "text": [
      "Media aparada da caracteristica Alcohol = 13.006388888888889\n",
      "Media aparada da caracteristica Malic acid = 2.211527777777778\n",
      "Media aparada da caracteristica Ash = 2.37375\n",
      "Media aparada da caracteristica Alcalinity of ash = 19.419444444444444\n",
      "Media aparada da caracteristica Magnesium = 98.44444444444444\n",
      "Media aparada da caracteristica Total phenols = 2.285763888888889\n",
      "Media aparada da caracteristica Flavanoids = 2.0202083333333336\n",
      "Media aparada da caracteristica Nonflavanoid phenols = 0.35506944444444444\n",
      "Media aparada da caracteristica Proanthocyanins = 1.5640972222222222\n",
      "Media aparada da caracteristica Color intensity = 4.827708333333334\n",
      "Media aparada da caracteristica Hue = 0.9585833333333333\n",
      "Media aparada da caracteristica OD280/OD315 of diluted wines = 2.6311805555555554\n",
      "Media aparada da caracteristica Proline = 719.2986111111111\n"
     ]
    }
   ],
   "source": [
    "for i in data:\n",
    "    print(\"Media aparada da caracteristica\", i, '=', stats.trim_mean(data[i], 0.1))"
   ]
  },
  {
   "cell_type": "markdown",
   "metadata": {},
   "source": [
    "#### (e) Mostre o desvio absoluto médio de cada variável numérica."
   ]
  },
  {
   "cell_type": "code",
   "execution_count": 264,
   "metadata": {},
   "outputs": [
    {
     "name": "stdout",
     "output_type": "stream",
     "text": [
      "Desvio absoluto médio da caracteristica Alcohol = 0.6884623153642218\n",
      "Desvio absoluto médio da caracteristica Malic acid = 0.9202771114758238\n",
      "Desvio absoluto médio da caracteristica Ash = 0.20920843327862645\n",
      "Desvio absoluto médio da caracteristica Alcalinity of ash = 2.59500063123343\n",
      "Desvio absoluto médio da caracteristica Magnesium = 10.999242519883854\n",
      "Desvio absoluto médio da caracteristica Total phenols = 0.5362883474308799\n",
      "Desvio absoluto médio da caracteristica Flavanoids = 0.8588776669612423\n",
      "Desvio absoluto médio da caracteristica Nonflavanoid phenols = 0.10469637672011109\n",
      "Desvio absoluto médio da caracteristica Proanthocyanins = 0.44589319530362326\n",
      "Desvio absoluto médio da caracteristica Color intensity = 1.8358313281151366\n",
      "Desvio absoluto médio da caracteristica Hue = 0.18685115515717715\n",
      "Desvio absoluto médio da caracteristica OD280/OD315 of diluted wines = 0.6117384168665573\n",
      "Desvio absoluto médio da caracteristica Proline = 259.33234440095947\n"
     ]
    }
   ],
   "source": [
    "for i in data:\n",
    "    print(\"Desvio absoluto médio da caracteristica\", i, '=', data[i].mad())"
   ]
  },
  {
   "cell_type": "markdown",
   "metadata": {},
   "source": [
    "#### (f) Mostre a variância de cada variável numérica."
   ]
  },
  {
   "cell_type": "code",
   "execution_count": 266,
   "metadata": {},
   "outputs": [
    {
     "name": "stdout",
     "output_type": "stream",
     "text": [
      "Variancia da caracteristica Alcohol = 0.6590623278105759\n",
      "Variancia da caracteristica Malic acid = 1.2480154034152224\n",
      "Variancia da caracteristica Ash = 0.07526463530756046\n",
      "Variancia da caracteristica Alcalinity of ash = 11.152686155018092\n",
      "Variancia da caracteristica Magnesium = 203.98933536469244\n",
      "Variancia da caracteristica Total phenols = 0.39168953532660455\n",
      "Variancia da caracteristica Flavanoids = 0.997718672633784\n",
      "Variancia da caracteristica Nonflavanoid phenols = 0.015488633911001078\n",
      "Variancia da caracteristica Proanthocyanins = 0.32759466768234624\n",
      "Variancia da caracteristica Color intensity = 5.374449383491404\n",
      "Variancia da caracteristica Hue = 0.052244960705897285\n",
      "Variancia da caracteristica OD280/OD315 of diluted wines = 0.5040864089379801\n",
      "Variancia da caracteristica Proline = 99166.71735542436\n"
     ]
    }
   ],
   "source": [
    "for i in data:\n",
    "    print(\"Variancia da caracteristica\", i, '=', data[i].var())"
   ]
  },
  {
   "cell_type": "markdown",
   "metadata": {},
   "source": [
    "#### (g) Mostre a desvio-padrão de cada variável numérica."
   ]
  },
  {
   "cell_type": "code",
   "execution_count": 267,
   "metadata": {},
   "outputs": [
    {
     "name": "stdout",
     "output_type": "stream",
     "text": [
      "Desvio padrão da caracteristica Alcohol = 0.8118265380058575\n",
      "Desvio padrão da caracteristica Malic acid = 1.1171460976144627\n",
      "Desvio padrão da caracteristica Ash = 0.27434400906081485\n",
      "Desvio padrão da caracteristica Alcalinity of ash = 3.339563767173505\n",
      "Desvio padrão da caracteristica Magnesium = 14.282483515295665\n",
      "Desvio padrão da caracteristica Total phenols = 0.6258510488339893\n",
      "Desvio padrão da caracteristica Flavanoids = 0.9988586850169467\n",
      "Desvio padrão da caracteristica Nonflavanoid phenols = 0.12445334029667937\n",
      "Desvio padrão da caracteristica Proanthocyanins = 0.5723588626747613\n",
      "Desvio padrão da caracteristica Color intensity = 2.318285871822413\n",
      "Desvio padrão da caracteristica Hue = 0.22857156582982338\n",
      "Desvio padrão da caracteristica OD280/OD315 of diluted wines = 0.7099904287650504\n",
      "Desvio padrão da caracteristica Proline = 314.9074742768491\n"
     ]
    }
   ],
   "source": [
    "for i in data:\n",
    "    print(\"Desvio padrão da caracteristica\", i, '=', data[i].std())"
   ]
  },
  {
   "cell_type": "markdown",
   "metadata": {},
   "source": [
    "#### (h) Mostre a desvio absoluto mediano da mediana de cada variável numérica."
   ]
  },
  {
   "cell_type": "code",
   "execution_count": 269,
   "metadata": {},
   "outputs": [
    {
     "name": "stdout",
     "output_type": "stream",
     "text": [
      "Desvio absoluto mediano da caracteristica Alcohol = 0.6800000000000006\n",
      "Desvio absoluto mediano da caracteristica Malic acid = 0.52\n",
      "Desvio absoluto mediano da caracteristica Ash = 0.1599999999999997\n",
      "Desvio absoluto mediano da caracteristica Alcalinity of ash = 2.0500000000000007\n",
      "Desvio absoluto mediano da caracteristica Magnesium = 10.0\n",
      "Desvio absoluto mediano da caracteristica Total phenols = 0.5049999999999999\n",
      "Desvio absoluto mediano da caracteristica Flavanoids = 0.8350000000000001\n",
      "Desvio absoluto mediano da caracteristica Nonflavanoid phenols = 0.08499999999999999\n",
      "Desvio absoluto mediano da caracteristica Proanthocyanins = 0.3799999999999998\n",
      "Desvio absoluto mediano da caracteristica Color intensity = 1.5100000000000007\n",
      "Desvio absoluto mediano da caracteristica Hue = 0.16499999999999992\n",
      "Desvio absoluto mediano da caracteristica OD280/OD315 of diluted wines = 0.52\n",
      "Desvio absoluto mediano da caracteristica Proline = 202.5\n"
     ]
    }
   ],
   "source": [
    "for i in data:\n",
    "    print(\"Desvio absoluto mediano da caracteristica\", i, '=', median_abs_deviation(data[i]))"
   ]
  },
  {
   "cell_type": "markdown",
   "metadata": {},
   "source": [
    "#### (i) Mostre o máximo de cada variável numérica."
   ]
  },
  {
   "cell_type": "code",
   "execution_count": 270,
   "metadata": {},
   "outputs": [
    {
     "name": "stdout",
     "output_type": "stream",
     "text": [
      "Máximo da caracteristica Alcohol = 14.83\n",
      "Máximo da caracteristica Malic acid = 5.8\n",
      "Máximo da caracteristica Ash = 3.23\n",
      "Máximo da caracteristica Alcalinity of ash = 30.0\n",
      "Máximo da caracteristica Magnesium = 162.0\n",
      "Máximo da caracteristica Total phenols = 3.88\n",
      "Máximo da caracteristica Flavanoids = 5.08\n",
      "Máximo da caracteristica Nonflavanoid phenols = 0.66\n",
      "Máximo da caracteristica Proanthocyanins = 3.58\n",
      "Máximo da caracteristica Color intensity = 13.0\n",
      "Máximo da caracteristica Hue = 1.71\n",
      "Máximo da caracteristica OD280/OD315 of diluted wines = 4.0\n",
      "Máximo da caracteristica Proline = 1680.0\n"
     ]
    }
   ],
   "source": [
    "for i in data:\n",
    "    print(\"Máximo da caracteristica\", i, '=', data[i].max())"
   ]
  },
  {
   "cell_type": "markdown",
   "metadata": {},
   "source": [
    "#### (j) Mostre o mínimo de cada variável numérica."
   ]
  },
  {
   "cell_type": "code",
   "execution_count": 272,
   "metadata": {},
   "outputs": [
    {
     "name": "stdout",
     "output_type": "stream",
     "text": [
      "Mínimo da caracteristica Alcohol = 11.03\n",
      "Mínimo da caracteristica Malic acid = 0.74\n",
      "Mínimo da caracteristica Ash = 1.36\n",
      "Mínimo da caracteristica Alcalinity of ash = 10.6\n",
      "Mínimo da caracteristica Magnesium = 70.0\n",
      "Mínimo da caracteristica Total phenols = 0.98\n",
      "Mínimo da caracteristica Flavanoids = 0.34\n",
      "Mínimo da caracteristica Nonflavanoid phenols = 0.13\n",
      "Mínimo da caracteristica Proanthocyanins = 0.41\n",
      "Mínimo da caracteristica Color intensity = 1.28\n",
      "Mínimo da caracteristica Hue = 0.48\n",
      "Mínimo da caracteristica OD280/OD315 of diluted wines = 1.27\n",
      "Mínimo da caracteristica Proline = 278.0\n"
     ]
    }
   ],
   "source": [
    "for i in data:\n",
    "    print(\"Mínimo da caracteristica\", i, '=', data[i].min())"
   ]
  },
  {
   "cell_type": "markdown",
   "metadata": {},
   "source": [
    "#### (k) Mostre a amplitude de cada variável numérica."
   ]
  },
  {
   "cell_type": "code",
   "execution_count": 273,
   "metadata": {},
   "outputs": [
    {
     "name": "stdout",
     "output_type": "stream",
     "text": [
      "Amplitude da caracteristica Alcohol = 3.8000000000000007\n",
      "Amplitude da caracteristica Malic acid = 5.06\n",
      "Amplitude da caracteristica Ash = 1.8699999999999999\n",
      "Amplitude da caracteristica Alcalinity of ash = 19.4\n",
      "Amplitude da caracteristica Magnesium = 92.0\n",
      "Amplitude da caracteristica Total phenols = 2.9\n",
      "Amplitude da caracteristica Flavanoids = 4.74\n",
      "Amplitude da caracteristica Nonflavanoid phenols = 0.53\n",
      "Amplitude da caracteristica Proanthocyanins = 3.17\n",
      "Amplitude da caracteristica Color intensity = 11.72\n",
      "Amplitude da caracteristica Hue = 1.23\n",
      "Amplitude da caracteristica OD280/OD315 of diluted wines = 2.73\n",
      "Amplitude da caracteristica Proline = 1402.0\n"
     ]
    }
   ],
   "source": [
    "for i in data:\n",
    "    print(\"Amplitude da caracteristica\", i, '=', data[i].max() - data[i].min())"
   ]
  },
  {
   "cell_type": "markdown",
   "metadata": {},
   "source": [
    "#### (l) Mostre o 10º percentil de cada variável numérica."
   ]
  },
  {
   "cell_type": "code",
   "execution_count": 274,
   "metadata": {},
   "outputs": [
    {
     "name": "stdout",
     "output_type": "stream",
     "text": [
      "10º percentil da caracteristica Alcohol = 11.933\n",
      "10º percentil da caracteristica Malic acid = 1.2469999999999999\n",
      "10º percentil da caracteristica Ash = 2.0\n",
      "10º percentil da caracteristica Alcalinity of ash = 16.0\n",
      "10º percentil da caracteristica Magnesium = 85.0\n",
      "10º percentil da caracteristica Total phenols = 1.4709999999999999\n",
      "10º percentil da caracteristica Flavanoids = 0.607\n",
      "10º percentil da caracteristica Nonflavanoid phenols = 0.217\n",
      "10º percentil da caracteristica Proanthocyanins = 0.854\n",
      "10º percentil da caracteristica Color intensity = 2.549\n",
      "10º percentil da caracteristica Hue = 0.61\n",
      "10º percentil da caracteristica OD280/OD315 of diluted wines = 1.58\n",
      "10º percentil da caracteristica Proline = 406.7\n"
     ]
    }
   ],
   "source": [
    "for i in data:\n",
    "    print(\"10º percentil da caracteristica\", i, '=', data[i].quantile(0.1))"
   ]
  },
  {
   "cell_type": "markdown",
   "metadata": {},
   "source": [
    "#### (m) Mostre o 25º percentil de cada variável numérica."
   ]
  },
  {
   "cell_type": "code",
   "execution_count": 275,
   "metadata": {},
   "outputs": [
    {
     "name": "stdout",
     "output_type": "stream",
     "text": [
      "25º percentil da caracteristica Alcohol = 12.362499999999999\n",
      "25º percentil da caracteristica Malic acid = 1.6025\n",
      "25º percentil da caracteristica Ash = 2.21\n",
      "25º percentil da caracteristica Alcalinity of ash = 17.2\n",
      "25º percentil da caracteristica Magnesium = 88.0\n",
      "25º percentil da caracteristica Total phenols = 1.7425\n",
      "25º percentil da caracteristica Flavanoids = 1.205\n",
      "25º percentil da caracteristica Nonflavanoid phenols = 0.27\n",
      "25º percentil da caracteristica Proanthocyanins = 1.25\n",
      "25º percentil da caracteristica Color intensity = 3.2199999999999998\n",
      "25º percentil da caracteristica Hue = 0.7825\n",
      "25º percentil da caracteristica OD280/OD315 of diluted wines = 1.9375\n",
      "25º percentil da caracteristica Proline = 500.5\n"
     ]
    }
   ],
   "source": [
    "for i in data:\n",
    "    print(\"25º percentil da caracteristica\", i, '=', data[i].quantile(0.25))"
   ]
  },
  {
   "cell_type": "markdown",
   "metadata": {},
   "source": [
    "#### (n) Mostre o 75º percentil de cada variável numérica."
   ]
  },
  {
   "cell_type": "code",
   "execution_count": 276,
   "metadata": {},
   "outputs": [
    {
     "name": "stdout",
     "output_type": "stream",
     "text": [
      "75º percentil da caracteristica Alcohol = 13.6775\n",
      "75º percentil da caracteristica Malic acid = 3.0825\n",
      "75º percentil da caracteristica Ash = 2.5575\n",
      "75º percentil da caracteristica Alcalinity of ash = 21.5\n",
      "75º percentil da caracteristica Magnesium = 107.0\n",
      "75º percentil da caracteristica Total phenols = 2.8\n",
      "75º percentil da caracteristica Flavanoids = 2.875\n",
      "75º percentil da caracteristica Nonflavanoid phenols = 0.4375\n",
      "75º percentil da caracteristica Proanthocyanins = 1.95\n",
      "75º percentil da caracteristica Color intensity = 6.2\n",
      "75º percentil da caracteristica Hue = 1.12\n",
      "75º percentil da caracteristica OD280/OD315 of diluted wines = 3.17\n",
      "75º percentil da caracteristica Proline = 985.0\n"
     ]
    }
   ],
   "source": [
    "for i in data:\n",
    "    print(\"75º percentil da caracteristica\", i, '=', data[i].quantile(0.75))"
   ]
  },
  {
   "cell_type": "markdown",
   "metadata": {},
   "source": [
    "#### (o) Mostre o 90º percentil de cada variável numérica."
   ]
  },
  {
   "cell_type": "code",
   "execution_count": 277,
   "metadata": {},
   "outputs": [
    {
     "name": "stdout",
     "output_type": "stream",
     "text": [
      "90º percentil da caracteristica Alcohol = 14.1\n",
      "90º percentil da caracteristica Malic acid = 3.983\n",
      "90º percentil da caracteristica Ash = 2.7\n",
      "90º percentil da caracteristica Alcalinity of ash = 24.0\n",
      "90º percentil da caracteristica Magnesium = 118.0\n",
      "90º percentil da caracteristica Total phenols = 3.044000000000001\n",
      "90º percentil da caracteristica Flavanoids = 3.233\n",
      "90º percentil da caracteristica Nonflavanoid phenols = 0.53\n",
      "90º percentil da caracteristica Proanthocyanins = 2.3050000000000006\n",
      "90º percentil da caracteristica Color intensity = 8.530000000000001\n",
      "90º percentil da caracteristica Hue = 1.233\n",
      "90º percentil da caracteristica OD280/OD315 of diluted wines = 3.4560000000000004\n",
      "90º percentil da caracteristica Proline = 1261.5\n"
     ]
    }
   ],
   "source": [
    "for i in data:\n",
    "    print(\"90º percentil da caracteristica\", i, '=', data[i].quantile(0.9))"
   ]
  },
  {
   "cell_type": "markdown",
   "metadata": {},
   "source": [
    "#### (p) Mostre a amplitude interquartil de cada variável numérica."
   ]
  },
  {
   "cell_type": "code",
   "execution_count": 278,
   "metadata": {},
   "outputs": [
    {
     "name": "stdout",
     "output_type": "stream",
     "text": [
      "distancia interquartil da caracteristica Alcohol = 1.3150000000000013\n",
      "distancia interquartil da caracteristica Malic acid = 1.48\n",
      "distancia interquartil da caracteristica Ash = 0.34750000000000014\n",
      "distancia interquartil da caracteristica Alcalinity of ash = 4.300000000000001\n",
      "distancia interquartil da caracteristica Magnesium = 19.0\n",
      "distancia interquartil da caracteristica Total phenols = 1.0574999999999999\n",
      "distancia interquartil da caracteristica Flavanoids = 1.67\n",
      "distancia interquartil da caracteristica Nonflavanoid phenols = 0.16749999999999998\n",
      "distancia interquartil da caracteristica Proanthocyanins = 0.7\n",
      "distancia interquartil da caracteristica Color intensity = 2.9800000000000004\n",
      "distancia interquartil da caracteristica Hue = 0.33750000000000013\n",
      "distancia interquartil da caracteristica OD280/OD315 of diluted wines = 1.2325\n",
      "distancia interquartil da caracteristica Proline = 484.5\n"
     ]
    }
   ],
   "source": [
    "for i in data:\n",
    "    print(\"distancia interquartil da caracteristica\", i, '=', data[i].quantile(0.75) - data[i].quantile(0.25))"
   ]
  },
  {
   "cell_type": "markdown",
   "metadata": {},
   "source": [
    "#### (q) Utilizando as informações calculadas anteriormente verifique a existência ou não de outliers em cada variável."
   ]
  },
  {
   "cell_type": "code",
   "execution_count": 311,
   "metadata": {},
   "outputs": [
    {
     "name": "stdout",
     "output_type": "stream",
     "text": [
      "Exemplo 123 caracteristica Malic acid = 5.8\n",
      "Exemplo 25 caracteristica Ash = 3.22\n",
      "Exemplo 59 caracteristica Ash = 1.36\n",
      "Exemplo 121 caracteristica Ash = 3.23\n",
      "Exemplo 73 caracteristica Alcalinity of ash = 30.0\n",
      "Exemplo 69 caracteristica Magnesium = 151.0\n",
      "Exemplo 95 caracteristica Magnesium = 162.0\n",
      "Exemplo 121 caracteristica Flavanoids = 5.08\n",
      "Exemplo 110 caracteristica Proanthocyanins = 3.58\n",
      "Exemplo 158 caracteristica Color intensity = 13.0\n",
      "Exemplo 115 caracteristica Hue = 1.71\n"
     ]
    }
   ],
   "source": [
    "out = []\n",
    "\n",
    "for i in data:\n",
    "    media = data[i].mean()\n",
    "    desvio = data[i].std()\n",
    "    indice = 0\n",
    "\n",
    "    for x in data[i]:\n",
    "        z = (x - media) / desvio\n",
    "        \n",
    "        if(z < -3 or z > 3):\n",
    "            print('Exemplo', indice, 'caracteristica', i, '=', x)\n",
    "            if (not out.__contains__(indice)):\n",
    "                out.append(indice)\n",
    "\n",
    "        indice += 1"
   ]
  },
  {
   "cell_type": "code",
   "execution_count": 312,
   "metadata": {},
   "outputs": [
    {
     "data": {
      "text/html": [
       "<div>\n",
       "<style scoped>\n",
       "    .dataframe tbody tr th:only-of-type {\n",
       "        vertical-align: middle;\n",
       "    }\n",
       "\n",
       "    .dataframe tbody tr th {\n",
       "        vertical-align: top;\n",
       "    }\n",
       "\n",
       "    .dataframe thead th {\n",
       "        text-align: right;\n",
       "    }\n",
       "</style>\n",
       "<table border=\"1\" class=\"dataframe\">\n",
       "  <thead>\n",
       "    <tr style=\"text-align: right;\">\n",
       "      <th></th>\n",
       "      <th>Alcohol</th>\n",
       "      <th>Malic acid</th>\n",
       "      <th>Ash</th>\n",
       "      <th>Alcalinity of ash</th>\n",
       "      <th>Magnesium</th>\n",
       "      <th>Total phenols</th>\n",
       "      <th>Flavanoids</th>\n",
       "      <th>Nonflavanoid phenols</th>\n",
       "      <th>Proanthocyanins</th>\n",
       "      <th>Color intensity</th>\n",
       "      <th>Hue</th>\n",
       "      <th>OD280/OD315 of diluted wines</th>\n",
       "      <th>Proline</th>\n",
       "    </tr>\n",
       "  </thead>\n",
       "  <tbody>\n",
       "    <tr>\n",
       "      <th>123</th>\n",
       "      <td>13.05</td>\n",
       "      <td>5.80</td>\n",
       "      <td>2.13</td>\n",
       "      <td>21.5</td>\n",
       "      <td>86.0</td>\n",
       "      <td>2.62</td>\n",
       "      <td>2.65</td>\n",
       "      <td>0.30</td>\n",
       "      <td>2.01</td>\n",
       "      <td>2.60</td>\n",
       "      <td>0.73</td>\n",
       "      <td>3.10</td>\n",
       "      <td>380.0</td>\n",
       "    </tr>\n",
       "    <tr>\n",
       "      <th>25</th>\n",
       "      <td>13.05</td>\n",
       "      <td>2.05</td>\n",
       "      <td>3.22</td>\n",
       "      <td>25.0</td>\n",
       "      <td>124.0</td>\n",
       "      <td>2.63</td>\n",
       "      <td>2.68</td>\n",
       "      <td>0.47</td>\n",
       "      <td>1.92</td>\n",
       "      <td>3.58</td>\n",
       "      <td>1.13</td>\n",
       "      <td>3.20</td>\n",
       "      <td>830.0</td>\n",
       "    </tr>\n",
       "    <tr>\n",
       "      <th>59</th>\n",
       "      <td>12.37</td>\n",
       "      <td>0.94</td>\n",
       "      <td>1.36</td>\n",
       "      <td>10.6</td>\n",
       "      <td>88.0</td>\n",
       "      <td>1.98</td>\n",
       "      <td>0.57</td>\n",
       "      <td>0.28</td>\n",
       "      <td>0.42</td>\n",
       "      <td>1.95</td>\n",
       "      <td>1.05</td>\n",
       "      <td>1.82</td>\n",
       "      <td>520.0</td>\n",
       "    </tr>\n",
       "    <tr>\n",
       "      <th>121</th>\n",
       "      <td>11.56</td>\n",
       "      <td>2.05</td>\n",
       "      <td>3.23</td>\n",
       "      <td>28.5</td>\n",
       "      <td>119.0</td>\n",
       "      <td>3.18</td>\n",
       "      <td>5.08</td>\n",
       "      <td>0.47</td>\n",
       "      <td>1.87</td>\n",
       "      <td>6.00</td>\n",
       "      <td>0.93</td>\n",
       "      <td>3.69</td>\n",
       "      <td>465.0</td>\n",
       "    </tr>\n",
       "    <tr>\n",
       "      <th>73</th>\n",
       "      <td>12.99</td>\n",
       "      <td>1.67</td>\n",
       "      <td>2.60</td>\n",
       "      <td>30.0</td>\n",
       "      <td>139.0</td>\n",
       "      <td>3.30</td>\n",
       "      <td>2.89</td>\n",
       "      <td>0.21</td>\n",
       "      <td>1.96</td>\n",
       "      <td>3.35</td>\n",
       "      <td>1.31</td>\n",
       "      <td>3.50</td>\n",
       "      <td>985.0</td>\n",
       "    </tr>\n",
       "    <tr>\n",
       "      <th>69</th>\n",
       "      <td>12.21</td>\n",
       "      <td>1.19</td>\n",
       "      <td>1.75</td>\n",
       "      <td>16.8</td>\n",
       "      <td>151.0</td>\n",
       "      <td>1.85</td>\n",
       "      <td>1.28</td>\n",
       "      <td>0.14</td>\n",
       "      <td>2.50</td>\n",
       "      <td>2.85</td>\n",
       "      <td>1.28</td>\n",
       "      <td>3.07</td>\n",
       "      <td>718.0</td>\n",
       "    </tr>\n",
       "    <tr>\n",
       "      <th>95</th>\n",
       "      <td>12.47</td>\n",
       "      <td>1.52</td>\n",
       "      <td>2.20</td>\n",
       "      <td>19.0</td>\n",
       "      <td>162.0</td>\n",
       "      <td>2.50</td>\n",
       "      <td>2.27</td>\n",
       "      <td>0.32</td>\n",
       "      <td>3.28</td>\n",
       "      <td>2.60</td>\n",
       "      <td>1.16</td>\n",
       "      <td>2.63</td>\n",
       "      <td>937.0</td>\n",
       "    </tr>\n",
       "    <tr>\n",
       "      <th>110</th>\n",
       "      <td>11.46</td>\n",
       "      <td>3.74</td>\n",
       "      <td>1.82</td>\n",
       "      <td>19.5</td>\n",
       "      <td>107.0</td>\n",
       "      <td>3.18</td>\n",
       "      <td>2.58</td>\n",
       "      <td>0.24</td>\n",
       "      <td>3.58</td>\n",
       "      <td>2.90</td>\n",
       "      <td>0.75</td>\n",
       "      <td>2.81</td>\n",
       "      <td>562.0</td>\n",
       "    </tr>\n",
       "    <tr>\n",
       "      <th>158</th>\n",
       "      <td>14.34</td>\n",
       "      <td>1.68</td>\n",
       "      <td>2.70</td>\n",
       "      <td>25.0</td>\n",
       "      <td>98.0</td>\n",
       "      <td>2.80</td>\n",
       "      <td>1.31</td>\n",
       "      <td>0.53</td>\n",
       "      <td>2.70</td>\n",
       "      <td>13.00</td>\n",
       "      <td>0.57</td>\n",
       "      <td>1.96</td>\n",
       "      <td>660.0</td>\n",
       "    </tr>\n",
       "    <tr>\n",
       "      <th>115</th>\n",
       "      <td>11.03</td>\n",
       "      <td>1.51</td>\n",
       "      <td>2.20</td>\n",
       "      <td>21.5</td>\n",
       "      <td>85.0</td>\n",
       "      <td>2.46</td>\n",
       "      <td>2.17</td>\n",
       "      <td>0.52</td>\n",
       "      <td>2.01</td>\n",
       "      <td>1.90</td>\n",
       "      <td>1.71</td>\n",
       "      <td>2.87</td>\n",
       "      <td>407.0</td>\n",
       "    </tr>\n",
       "  </tbody>\n",
       "</table>\n",
       "</div>"
      ],
      "text/plain": [
       "     Alcohol  Malic acid   Ash  Alcalinity of ash  Magnesium  Total phenols  \\\n",
       "123    13.05        5.80  2.13               21.5       86.0           2.62   \n",
       "25     13.05        2.05  3.22               25.0      124.0           2.63   \n",
       "59     12.37        0.94  1.36               10.6       88.0           1.98   \n",
       "121    11.56        2.05  3.23               28.5      119.0           3.18   \n",
       "73     12.99        1.67  2.60               30.0      139.0           3.30   \n",
       "69     12.21        1.19  1.75               16.8      151.0           1.85   \n",
       "95     12.47        1.52  2.20               19.0      162.0           2.50   \n",
       "110    11.46        3.74  1.82               19.5      107.0           3.18   \n",
       "158    14.34        1.68  2.70               25.0       98.0           2.80   \n",
       "115    11.03        1.51  2.20               21.5       85.0           2.46   \n",
       "\n",
       "     Flavanoids  Nonflavanoid phenols  Proanthocyanins  Color intensity   Hue  \\\n",
       "123        2.65                  0.30             2.01             2.60  0.73   \n",
       "25         2.68                  0.47             1.92             3.58  1.13   \n",
       "59         0.57                  0.28             0.42             1.95  1.05   \n",
       "121        5.08                  0.47             1.87             6.00  0.93   \n",
       "73         2.89                  0.21             1.96             3.35  1.31   \n",
       "69         1.28                  0.14             2.50             2.85  1.28   \n",
       "95         2.27                  0.32             3.28             2.60  1.16   \n",
       "110        2.58                  0.24             3.58             2.90  0.75   \n",
       "158        1.31                  0.53             2.70            13.00  0.57   \n",
       "115        2.17                  0.52             2.01             1.90  1.71   \n",
       "\n",
       "     OD280/OD315 of diluted wines  Proline  \n",
       "123                          3.10    380.0  \n",
       "25                           3.20    830.0  \n",
       "59                           1.82    520.0  \n",
       "121                          3.69    465.0  \n",
       "73                           3.50    985.0  \n",
       "69                           3.07    718.0  \n",
       "95                           2.63    937.0  \n",
       "110                          2.81    562.0  \n",
       "158                          1.96    660.0  \n",
       "115                          2.87    407.0  "
      ]
     },
     "execution_count": 312,
     "metadata": {},
     "output_type": "execute_result"
    }
   ],
   "source": [
    "data.iloc[out]"
   ]
  }
 ],
 "metadata": {
  "kernelspec": {
   "display_name": "Python 3.10.2 64-bit",
   "language": "python",
   "name": "python3"
  },
  "language_info": {
   "codemirror_mode": {
    "name": "ipython",
    "version": 3
   },
   "file_extension": ".py",
   "mimetype": "text/x-python",
   "name": "python",
   "nbconvert_exporter": "python",
   "pygments_lexer": "ipython3",
   "version": "3.10.2"
  },
  "orig_nbformat": 4,
  "vscode": {
   "interpreter": {
    "hash": "b629c3126b5df0b3c19ac5f524890cb3a3a2e86c1a2f2c4b1c29287aa73e65d0"
   }
  }
 },
 "nbformat": 4,
 "nbformat_minor": 2
}
