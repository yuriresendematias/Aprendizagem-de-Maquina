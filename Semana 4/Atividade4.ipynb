{
 "cells": [
  {
   "cell_type": "markdown",
   "metadata": {},
   "source": [
    "#### 1. Utilizando a base de dados archive.ics.uci.edu/ml/datasets/iris: "
   ]
  },
  {
   "cell_type": "code",
   "execution_count": 20,
   "metadata": {},
   "outputs": [],
   "source": [
    "import pandas as pd\n",
    "import numpy as np\n",
    "import statistics\n",
    "\n",
    "data = pd.read_csv(\"iris.csv\")"
   ]
  },
  {
   "cell_type": "markdown",
   "metadata": {},
   "source": [
    "##### (a) (1,5 ponto) Mostre em uma representação tabular 2 exemplos de cada classe."
   ]
  },
  {
   "cell_type": "code",
   "execution_count": 3,
   "metadata": {},
   "outputs": [
    {
     "data": {
      "text/html": [
       "<div>\n",
       "<style scoped>\n",
       "    .dataframe tbody tr th:only-of-type {\n",
       "        vertical-align: middle;\n",
       "    }\n",
       "\n",
       "    .dataframe tbody tr th {\n",
       "        vertical-align: top;\n",
       "    }\n",
       "\n",
       "    .dataframe thead th {\n",
       "        text-align: right;\n",
       "    }\n",
       "</style>\n",
       "<table border=\"1\" class=\"dataframe\">\n",
       "  <thead>\n",
       "    <tr style=\"text-align: right;\">\n",
       "      <th></th>\n",
       "      <th>sepal.length</th>\n",
       "      <th>sepal.width</th>\n",
       "      <th>petal.length</th>\n",
       "      <th>petal.width</th>\n",
       "      <th>variety</th>\n",
       "    </tr>\n",
       "  </thead>\n",
       "  <tbody>\n",
       "    <tr>\n",
       "      <th>0</th>\n",
       "      <td>5.1</td>\n",
       "      <td>3.5</td>\n",
       "      <td>1.4</td>\n",
       "      <td>0.2</td>\n",
       "      <td>Iris-setosa</td>\n",
       "    </tr>\n",
       "    <tr>\n",
       "      <th>1</th>\n",
       "      <td>4.9</td>\n",
       "      <td>3.0</td>\n",
       "      <td>1.4</td>\n",
       "      <td>0.2</td>\n",
       "      <td>Iris-setosa</td>\n",
       "    </tr>\n",
       "    <tr>\n",
       "      <th>2</th>\n",
       "      <td>4.7</td>\n",
       "      <td>3.2</td>\n",
       "      <td>1.3</td>\n",
       "      <td>0.2</td>\n",
       "      <td>Iris-setosa</td>\n",
       "    </tr>\n",
       "    <tr>\n",
       "      <th>3</th>\n",
       "      <td>4.6</td>\n",
       "      <td>3.1</td>\n",
       "      <td>1.5</td>\n",
       "      <td>0.2</td>\n",
       "      <td>Iris-setosa</td>\n",
       "    </tr>\n",
       "    <tr>\n",
       "      <th>4</th>\n",
       "      <td>5.0</td>\n",
       "      <td>3.6</td>\n",
       "      <td>1.4</td>\n",
       "      <td>0.2</td>\n",
       "      <td>Iris-setosa</td>\n",
       "    </tr>\n",
       "    <tr>\n",
       "      <th>...</th>\n",
       "      <td>...</td>\n",
       "      <td>...</td>\n",
       "      <td>...</td>\n",
       "      <td>...</td>\n",
       "      <td>...</td>\n",
       "    </tr>\n",
       "    <tr>\n",
       "      <th>145</th>\n",
       "      <td>6.7</td>\n",
       "      <td>3.0</td>\n",
       "      <td>5.2</td>\n",
       "      <td>2.3</td>\n",
       "      <td>Iris-virginica</td>\n",
       "    </tr>\n",
       "    <tr>\n",
       "      <th>146</th>\n",
       "      <td>6.3</td>\n",
       "      <td>2.5</td>\n",
       "      <td>5.0</td>\n",
       "      <td>1.9</td>\n",
       "      <td>Iris-virginica</td>\n",
       "    </tr>\n",
       "    <tr>\n",
       "      <th>147</th>\n",
       "      <td>6.5</td>\n",
       "      <td>3.0</td>\n",
       "      <td>5.2</td>\n",
       "      <td>2.0</td>\n",
       "      <td>Iris-virginica</td>\n",
       "    </tr>\n",
       "    <tr>\n",
       "      <th>148</th>\n",
       "      <td>6.2</td>\n",
       "      <td>3.4</td>\n",
       "      <td>5.4</td>\n",
       "      <td>2.3</td>\n",
       "      <td>Iris-virginica</td>\n",
       "    </tr>\n",
       "    <tr>\n",
       "      <th>149</th>\n",
       "      <td>5.9</td>\n",
       "      <td>3.0</td>\n",
       "      <td>5.1</td>\n",
       "      <td>1.8</td>\n",
       "      <td>Iris-virginica</td>\n",
       "    </tr>\n",
       "  </tbody>\n",
       "</table>\n",
       "<p>150 rows × 5 columns</p>\n",
       "</div>"
      ],
      "text/plain": [
       "     sepal.length  sepal.width  petal.length  petal.width         variety\n",
       "0             5.1          3.5           1.4          0.2     Iris-setosa\n",
       "1             4.9          3.0           1.4          0.2     Iris-setosa\n",
       "2             4.7          3.2           1.3          0.2     Iris-setosa\n",
       "3             4.6          3.1           1.5          0.2     Iris-setosa\n",
       "4             5.0          3.6           1.4          0.2     Iris-setosa\n",
       "..            ...          ...           ...          ...             ...\n",
       "145           6.7          3.0           5.2          2.3  Iris-virginica\n",
       "146           6.3          2.5           5.0          1.9  Iris-virginica\n",
       "147           6.5          3.0           5.2          2.0  Iris-virginica\n",
       "148           6.2          3.4           5.4          2.3  Iris-virginica\n",
       "149           5.9          3.0           5.1          1.8  Iris-virginica\n",
       "\n",
       "[150 rows x 5 columns]"
      ]
     },
     "execution_count": 3,
     "metadata": {},
     "output_type": "execute_result"
    }
   ],
   "source": [
    "data"
   ]
  },
  {
   "cell_type": "markdown",
   "metadata": {},
   "source": [
    "#####  (b) (1,5 ponto) Mostre a média de cada variável numérica."
   ]
  },
  {
   "cell_type": "code",
   "execution_count": 30,
   "metadata": {},
   "outputs": [
    {
     "name": "stdout",
     "output_type": "stream",
     "text": [
      "média de sepal.length:\n",
      "5.843\n",
      "média de sepal.width:\n",
      "3.054\n",
      "média de petal.length:\n",
      "3.759\n",
      "média de petal.width:\n",
      "1.199\n"
     ]
    }
   ],
   "source": [
    "sepal_l = data[\"sepal.length\"].mean()\n",
    "sepal_w = data[\"sepal.width\"].mean()\n",
    "petal_l = data[\"petal.length\"].mean()\n",
    "petal_w = data[\"petal.width\"].mean()\n",
    "print(\"média de sepal.length:\")\n",
    "print(\"{:.3f}\".format(sepal_l))\n",
    "print(\"média de sepal.width:\")\n",
    "print(\"{:.3f}\".format(sepal_w))\n",
    "print(\"média de petal.length:\")\n",
    "print(\"{:.3f}\".format(petal_l))\n",
    "print(\"média de petal.width:\")\n",
    "print(\"{:.3f}\".format(petal_w))"
   ]
  },
  {
   "cell_type": "markdown",
   "metadata": {},
   "source": [
    "##### (c) (1,5 ponto) Mostre a mediana de cada variável numérica"
   ]
  },
  {
   "cell_type": "code",
   "execution_count": 31,
   "metadata": {},
   "outputs": [
    {
     "name": "stdout",
     "output_type": "stream",
     "text": [
      "mediana de sepal.length:\n",
      "5.800\n",
      "mediana de sepal.width:\n",
      "3.000\n",
      "mediana de petal.length:\n",
      "4.350\n",
      "mediana de petal.width:\n",
      "1.300\n"
     ]
    }
   ],
   "source": [
    "sepal_l_median = statistics.median(data[\"sepal.length\"].to_numpy())\n",
    "sepal_w_median = statistics.median(data[\"sepal.width\"].to_numpy())\n",
    "petal_l_median = statistics.median(data[\"petal.length\"].to_numpy())\n",
    "petal_w_median = statistics.median(data[\"petal.width\"].to_numpy())\n",
    "print(\"mediana de sepal.length:\")\n",
    "print(\"{:.3f}\".format(sepal_l_median))\n",
    "print(\"mediana de sepal.width:\")\n",
    "print(\"{:.3f}\".format(sepal_w_median))\n",
    "print(\"mediana de petal.length:\")\n",
    "print(\"{:.3f}\".format(petal_l_median))\n",
    "print(\"mediana de petal.width:\")\n",
    "print(\"{:.3f}\".format(petal_w_median))"
   ]
  },
  {
   "cell_type": "markdown",
   "metadata": {},
   "source": [
    "##### (d) (1,5 ponto) Mostre a média aparada de cada variável numérica. "
   ]
  },
  {
   "cell_type": "code",
   "execution_count": 47,
   "metadata": {},
   "outputs": [
    {
     "name": "stdout",
     "output_type": "stream",
     "text": [
      "média aparada de sepal.length:\n",
      "5.8399\n",
      "média aparada de sepal.width:\n",
      "3.0520\n",
      "média aparada de petal.length:\n",
      "3.7561\n",
      "média aparada de petal.width:\n",
      "1.1973\n",
      "5.8083333333333345\n"
     ]
    }
   ],
   "source": [
    "from scipy import stats\n",
    "\n",
    "print(\"média aparada de sepal.length:\")\n",
    "print(\"{:.4f}\".format((sum(data[\"sepal.length\"]) - data[\"sepal.length\"].min() - data[\"sepal.length\"].max()) / (len(data[\"sepal.length\"])-2)))\n",
    "print(\"média aparada de sepal.width:\")\n",
    "print(\"{:.4f}\".format((sum(data[\"sepal.width\"]) - data[\"sepal.width\"].min() - data[\"sepal.width\"].max()) / (len(data[\"sepal.width\"])-2))) \n",
    "print(\"média aparada de petal.length:\")\n",
    "print(\"{:.4f}\".format((sum(data[\"petal.length\"]) - data[\"petal.length\"].min() - data[\"petal.length\"].max()) / (len(data[\"petal.length\"])-2))) \n",
    "print(\"média aparada de petal.width:\")\n",
    "print(\"{:.4f}\".format((sum(data[\"petal.width\"]) - data[\"petal.width\"].min() - data[\"petal.width\"].max()) / (len(data[\"petal.width\"])-2)))\n",
    "\n",
    "\n",
    "print(stats.trim_mean(data[\"sepal.length\"], 0.1))\n"
   ]
  },
  {
   "cell_type": "markdown",
   "metadata": {},
   "source": [
    "##### (e) (1,5 ponto) Mostre o desvio absoluto médio de cada variável numérica."
   ]
  },
  {
   "cell_type": "code",
   "execution_count": 48,
   "metadata": {},
   "outputs": [
    {
     "name": "stdout",
     "output_type": "stream",
     "text": [
      "média de sepal.length:\n",
      "0.688\n",
      "média de sepal.width:\n",
      "0.333\n",
      "média de petal.length:\n",
      "1.562\n",
      "média de petal.width:\n",
      "0.659\n"
     ]
    }
   ],
   "source": [
    "sepal_l = data[\"sepal.length\"].mad()\n",
    "sepal_w = data[\"sepal.width\"].mad()\n",
    "petal_l = data[\"petal.length\"].mad()\n",
    "petal_w = data[\"petal.width\"].mad()\n",
    "print(\"desvio absoluto médio de sepal.length:\")\n",
    "print(\"{:.3f}\".format(sepal_l))\n",
    "print(\"desvio absoluto médio de sepal.width:\")\n",
    "print(\"{:.3f}\".format(sepal_w))\n",
    "print(\"desvio absoluto médio de petal.length:\")\n",
    "print(\"{:.3f}\".format(petal_l))\n",
    "print(\"desvio absoluto médio de petal.width:\")\n",
    "print(\"{:.3f}\".format(petal_w))"
   ]
  },
  {
   "cell_type": "markdown",
   "metadata": {},
   "source": [
    "##### (f) (1,5 ponto) Mostre a variância de cada variável numérica. "
   ]
  },
  {
   "cell_type": "code",
   "execution_count": 49,
   "metadata": {},
   "outputs": [
    {
     "name": "stdout",
     "output_type": "stream",
     "text": [
      "média de sepal.length:\n",
      "0.686\n",
      "média de sepal.width:\n",
      "0.188\n",
      "média de petal.length:\n",
      "3.113\n",
      "média de petal.width:\n",
      "0.582\n"
     ]
    }
   ],
   "source": [
    "sepal_l = data[\"sepal.length\"].var()\n",
    "sepal_w = data[\"sepal.width\"].var()\n",
    "petal_l = data[\"petal.length\"].var()\n",
    "petal_w = data[\"petal.width\"].var()\n",
    "print(\"variância de sepal.length:\")\n",
    "print(\"{:.3f}\".format(sepal_l))\n",
    "print(\"variância de sepal.width:\")\n",
    "print(\"{:.3f}\".format(sepal_w))\n",
    "print(\"variância de petal.length:\")\n",
    "print(\"{:.3f}\".format(petal_l))\n",
    "print(\"variância de petal.width:\")\n",
    "print(\"{:.3f}\".format(petal_w))"
   ]
  },
  {
   "cell_type": "markdown",
   "metadata": {},
   "source": [
    "##### (g) (1,5 ponto) Mostre a desvio-padrão de cada variável numérica."
   ]
  },
  {
   "cell_type": "code",
   "execution_count": 50,
   "metadata": {},
   "outputs": [
    {
     "name": "stdout",
     "output_type": "stream",
     "text": [
      "desvio padrão de sepal.length:\n",
      "0.828\n",
      "desvio padrão de sepal.width:\n",
      "0.434\n",
      "desvio padrão de petal.length:\n",
      "1.764\n",
      "desvio padrão de petal.width:\n",
      "0.763\n"
     ]
    }
   ],
   "source": [
    "sepal_l = data[\"sepal.length\"].std()\n",
    "sepal_w = data[\"sepal.width\"].std()\n",
    "petal_l = data[\"petal.length\"].std()\n",
    "petal_w = data[\"petal.width\"].std()\n",
    "print(\"desvio padrão de sepal.length:\")\n",
    "print(\"{:.3f}\".format(sepal_l))\n",
    "print(\"desvio padrão de sepal.width:\")\n",
    "print(\"{:.3f}\".format(sepal_w))\n",
    "print(\"desvio padrão de petal.length:\")\n",
    "print(\"{:.3f}\".format(petal_l))\n",
    "print(\"desvio padrão de petal.width:\")\n",
    "print(\"{:.3f}\".format(petal_w))"
   ]
  },
  {
   "cell_type": "markdown",
   "metadata": {},
   "source": [
    "##### (h) (1,5 ponto) Mostre a desvio absoluto mediano da mediana de cada variável numérica."
   ]
  },
  {
   "cell_type": "code",
   "execution_count": 51,
   "metadata": {},
   "outputs": [
    {
     "name": "stdout",
     "output_type": "stream",
     "text": [
      "variância de sepal.length:\n",
      "0.700\n",
      "variância de sepal.width:\n",
      "0.250\n",
      "variância de petal.length:\n",
      "1.250\n",
      "variância de petal.width:\n",
      "0.700\n"
     ]
    }
   ],
   "source": [
    "from scipy.stats import median_abs_deviation\n",
    "\n",
    "sepal_l = median_abs_deviation(data[\"sepal.length\"])\n",
    "sepal_w = median_abs_deviation(data[\"sepal.width\"])\n",
    "petal_l = median_abs_deviation(data[\"petal.length\"])\n",
    "petal_w = median_abs_deviation(data[\"petal.width\"])\n",
    "print(\"desvio absoluto mediano de sepal.length:\")\n",
    "print(\"{:.3f}\".format(sepal_l))\n",
    "print(\"desvio absoluto mediano de sepal.width:\")\n",
    "print(\"{:.3f}\".format(sepal_w))\n",
    "print(\"desvio absoluto mediano de petal.length:\")\n",
    "print(\"{:.3f}\".format(petal_l))\n",
    "print(\"desvio absoluto mediano de petal.width:\")\n",
    "print(\"{:.3f}\".format(petal_w))"
   ]
  },
  {
   "cell_type": "markdown",
   "metadata": {},
   "source": [
    "##### (i) (1,5 ponto) Mostre o máximo de cada variável numérica."
   ]
  },
  {
   "cell_type": "code",
   "execution_count": 54,
   "metadata": {},
   "outputs": [
    {
     "name": "stdout",
     "output_type": "stream",
     "text": [
      "máximo de sepal.length:\n",
      "7.9\n",
      "máximo de sepal.width:\n",
      "4.4\n",
      "máximo de petal.length:\n",
      "6.9\n",
      "máximo de petal.width:\n",
      "2.5\n"
     ]
    }
   ],
   "source": [
    "print(\"máximo de sepal.length:\")\n",
    "print(data[\"sepal.length\"].max())\n",
    "print(\"máximo de sepal.width:\")\n",
    "print(data[\"sepal.width\"].max())\n",
    "print(\"máximo de petal.length:\")\n",
    "print(data[\"petal.length\"].max())\n",
    "print(\"máximo de petal.width:\")\n",
    "print(data[\"petal.width\"].max())"
   ]
  },
  {
   "cell_type": "markdown",
   "metadata": {},
   "source": [
    "##### (j) (1,5 ponto) Mostre o mínimo de cada variável numérica."
   ]
  },
  {
   "cell_type": "code",
   "execution_count": 55,
   "metadata": {},
   "outputs": [
    {
     "name": "stdout",
     "output_type": "stream",
     "text": [
      "mínimo de sepal.length:\n",
      "4.3\n",
      "mínimo de sepal.width:\n",
      "2.0\n",
      "mínimo de petal.length:\n",
      "1.0\n",
      "mínimo de petal.width:\n",
      "0.1\n"
     ]
    }
   ],
   "source": [
    "print(\"mínimo de sepal.length:\")\n",
    "print(data[\"sepal.length\"].min())\n",
    "print(\"mínimo de sepal.width:\")\n",
    "print(data[\"sepal.width\"].min())\n",
    "print(\"mínimo de petal.length:\")\n",
    "print(data[\"petal.length\"].min())\n",
    "print(\"mínimo de petal.width:\")\n",
    "print(data[\"petal.width\"].min())"
   ]
  },
  {
   "cell_type": "markdown",
   "metadata": {},
   "source": [
    "##### (k) (1,5 ponto) Mostre a amplitude de cada variável numérica."
   ]
  },
  {
   "cell_type": "code",
   "execution_count": 57,
   "metadata": {},
   "outputs": [
    {
     "name": "stdout",
     "output_type": "stream",
     "text": [
      "amplitude de sepal.length:\n",
      "3.600\n",
      "amplitude de sepal.width:\n",
      "2.400\n",
      "amplitude de petal.length:\n",
      "5.9\n",
      "amplitude de petal.width:\n",
      "2.4\n"
     ]
    }
   ],
   "source": [
    "print(\"amplitude de sepal.length:\")\n",
    "print(\"{:.3f}\".format(data[\"sepal.length\"].max() - data[\"sepal.length\"].min()))\n",
    "print(\"amplitude de sepal.width:\")\n",
    "print(\"{:.3f}\".format(data[\"sepal.width\"].max() - data[\"sepal.width\"].min()))\n",
    "print(\"amplitude de petal.length:\")\n",
    "print(data[\"petal.length\"].max() - data[\"petal.length\"].min())\n",
    "print(\"amplitude de petal.width:\")\n",
    "print(data[\"petal.width\"].max() - data[\"petal.width\"].min())"
   ]
  },
  {
   "cell_type": "markdown",
   "metadata": {},
   "source": [
    "##### (l) (1,5 ponto) Mostre o 10º percentil de cada variável numérica. "
   ]
  },
  {
   "cell_type": "code",
   "execution_count": 61,
   "metadata": {},
   "outputs": [
    {
     "name": "stdout",
     "output_type": "stream",
     "text": [
      "10° percentil de sepal.length:\n",
      "4.800\n",
      "10° percentil de sepal.width:\n",
      "2.500\n",
      "10° percentil de petal.length:\n",
      "1.400\n",
      "10° percentil de petal.width:\n",
      "0.200\n"
     ]
    }
   ],
   "source": [
    "sepal_l = data[\"sepal.length\"].quantile(0.1)\n",
    "sepal_w = data[\"sepal.width\"].quantile(0.1)\n",
    "petal_l = data[\"petal.length\"].quantile(0.1)\n",
    "petal_w = data[\"petal.width\"].quantile(0.1)\n",
    "print(\"10° percentil de sepal.length:\")\n",
    "print(\"{:.3f}\".format(sepal_l))\n",
    "print(\"10° percentil de sepal.width:\")\n",
    "print(\"{:.3f}\".format(sepal_w))\n",
    "print(\"10° percentil de petal.length:\")\n",
    "print(\"{:.3f}\".format(petal_l))\n",
    "print(\"10° percentil de petal.width:\")\n",
    "print(\"{:.3f}\".format(petal_w))"
   ]
  },
  {
   "cell_type": "markdown",
   "metadata": {},
   "source": [
    "##### (m) (1,5 ponto) Mostre o 25º percentil de cada variável numérica. "
   ]
  },
  {
   "cell_type": "code",
   "execution_count": 60,
   "metadata": {},
   "outputs": [
    {
     "name": "stdout",
     "output_type": "stream",
     "text": [
      "25° percentil de sepal.length:\n",
      "5.100\n",
      "25° percentil de sepal.width:\n",
      "2.800\n",
      "25° percentil de petal.length:\n",
      "1.600\n",
      "25° percentil de petal.width:\n",
      "0.300\n"
     ]
    }
   ],
   "source": [
    "sepal_l = data[\"sepal.length\"].quantile(0.25)\n",
    "sepal_w = data[\"sepal.width\"].quantile(0.25)\n",
    "petal_l = data[\"petal.length\"].quantile(0.25)\n",
    "petal_w = data[\"petal.width\"].quantile(0.25)\n",
    "print(\"25° percentil de sepal.length:\")\n",
    "print(\"{:.3f}\".format(sepal_l))\n",
    "print(\"25° percentil de sepal.width:\")\n",
    "print(\"{:.3f}\".format(sepal_w))\n",
    "print(\"25° percentil de petal.length:\")\n",
    "print(\"{:.3f}\".format(petal_l))\n",
    "print(\"25° percentil de petal.width:\")\n",
    "print(\"{:.3f}\".format(petal_w))"
   ]
  },
  {
   "cell_type": "markdown",
   "metadata": {},
   "source": [
    "##### (n) (1,5 ponto) Mostre o 75º percentil de cada variável numérica. "
   ]
  },
  {
   "cell_type": "code",
   "execution_count": 62,
   "metadata": {},
   "outputs": [
    {
     "name": "stdout",
     "output_type": "stream",
     "text": [
      "75° percentil de sepal.length:\n",
      "6.400\n",
      "75° percentil de sepal.width:\n",
      "3.300\n",
      "75° percentil de petal.length:\n",
      "5.100\n",
      "75° percentil de petal.width:\n",
      "1.800\n"
     ]
    }
   ],
   "source": [
    "sepal_l = data[\"sepal.length\"].quantile(0.75)\n",
    "sepal_w = data[\"sepal.width\"].quantile(0.75)\n",
    "petal_l = data[\"petal.length\"].quantile(0.75)\n",
    "petal_w = data[\"petal.width\"].quantile(0.75)\n",
    "print(\"75° percentil de sepal.length:\")\n",
    "print(\"{:.3f}\".format(sepal_l))\n",
    "print(\"75° percentil de sepal.width:\")\n",
    "print(\"{:.3f}\".format(sepal_w))\n",
    "print(\"75° percentil de petal.length:\")\n",
    "print(\"{:.3f}\".format(petal_l))\n",
    "print(\"75° percentil de petal.width:\")\n",
    "print(\"{:.3f}\".format(petal_w))"
   ]
  },
  {
   "cell_type": "markdown",
   "metadata": {},
   "source": [
    "##### (o) (1,5 ponto) Mostre o 90º percentil de cada variável numérica. "
   ]
  },
  {
   "cell_type": "code",
   "execution_count": 63,
   "metadata": {},
   "outputs": [
    {
     "name": "stdout",
     "output_type": "stream",
     "text": [
      "90° percentil de sepal.length:\n",
      "6.900\n",
      "90° percentil de sepal.width:\n",
      "3.610\n",
      "90° percentil de petal.length:\n",
      "5.800\n",
      "90° percentil de petal.width:\n",
      "2.200\n"
     ]
    }
   ],
   "source": [
    "sepal_l = data[\"sepal.length\"].quantile(0.90)\n",
    "sepal_w = data[\"sepal.width\"].quantile(0.90)\n",
    "petal_l = data[\"petal.length\"].quantile(0.90)\n",
    "petal_w = data[\"petal.width\"].quantile(0.90)\n",
    "print(\"90° percentil de sepal.length:\")\n",
    "print(\"{:.3f}\".format(sepal_l))\n",
    "print(\"90° percentil de sepal.width:\")\n",
    "print(\"{:.3f}\".format(sepal_w))\n",
    "print(\"90° percentil de petal.length:\")\n",
    "print(\"{:.3f}\".format(petal_l))\n",
    "print(\"90° percentil de petal.width:\")\n",
    "print(\"{:.3f}\".format(petal_w))"
   ]
  },
  {
   "cell_type": "markdown",
   "metadata": {},
   "source": [
    "##### (p) (1,5 ponto) Mostre a amplitude interquartil de cada variável numérica."
   ]
  },
  {
   "cell_type": "code",
   "execution_count": 64,
   "metadata": {},
   "outputs": [
    {
     "name": "stdout",
     "output_type": "stream",
     "text": [
      "amplitude interquartil de sepal.length:\n",
      "1.300\n",
      "amplitude interquartil de sepal.width:\n",
      "0.500\n",
      "amplitude interquartil de petal.length:\n",
      "3.500\n",
      "amplitude interquartil de petal.width:\n",
      "1.500\n"
     ]
    }
   ],
   "source": [
    "sepal_l = data[\"sepal.length\"].quantile(0.75) - data[\"sepal.length\"].quantile(0.25)\n",
    "sepal_w = data[\"sepal.width\"].quantile(0.75) - data[\"sepal.width\"].quantile(0.25)\n",
    "petal_l = data[\"petal.length\"].quantile(0.75) - data[\"petal.length\"].quantile(0.25)\n",
    "petal_w = data[\"petal.width\"].quantile(0.75) - data[\"petal.width\"].quantile(0.25)\n",
    "print(\"amplitude interquartil de sepal.length:\")\n",
    "print(\"{:.3f}\".format(sepal_l))\n",
    "print(\"amplitude interquartil de sepal.width:\")\n",
    "print(\"{:.3f}\".format(sepal_w))\n",
    "print(\"amplitude interquartil de petal.length:\")\n",
    "print(\"{:.3f}\".format(petal_l))\n",
    "print(\"amplitude interquartil de petal.width:\")\n",
    "print(\"{:.3f}\".format(petal_w))"
   ]
  },
  {
   "cell_type": "markdown",
   "metadata": {},
   "source": [
    "##### (q) (6 pontos) Utilizando as informações calculadas anteriormente veri que a existência ou não de outliers em cada variável."
   ]
  },
  {
   "cell_type": "code",
   "execution_count": null,
   "metadata": {},
   "outputs": [],
   "source": []
  },
  {
   "cell_type": "markdown",
   "metadata": {},
   "source": [
    "#### 2. (30 pontos) Faça o mesmo da questão anterior sendo que analisando separadamente os dados de cada classe (Setosa, Versicolor e Virginica). "
   ]
  },
  {
   "cell_type": "code",
   "execution_count": null,
   "metadata": {},
   "outputs": [],
   "source": []
  },
  {
   "cell_type": "markdown",
   "metadata": {},
   "source": [
    "#### 3. (40 pontos) Faça o mesmo da Questão 1 para a base Wine archive.ics.uci.edu/ml/datasets/ Wine. "
   ]
  },
  {
   "cell_type": "code",
   "execution_count": null,
   "metadata": {},
   "outputs": [],
   "source": []
  }
 ],
 "metadata": {
  "kernelspec": {
   "display_name": "Python 3.10.2 64-bit",
   "language": "python",
   "name": "python3"
  },
  "language_info": {
   "codemirror_mode": {
    "name": "ipython",
    "version": 3
   },
   "file_extension": ".py",
   "mimetype": "text/x-python",
   "name": "python",
   "nbconvert_exporter": "python",
   "pygments_lexer": "ipython3",
   "version": "3.10.2"
  },
  "orig_nbformat": 4,
  "vscode": {
   "interpreter": {
    "hash": "b629c3126b5df0b3c19ac5f524890cb3a3a2e86c1a2f2c4b1c29287aa73e65d0"
   }
  }
 },
 "nbformat": 4,
 "nbformat_minor": 2
}
