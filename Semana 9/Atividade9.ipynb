{
 "cells": [
  {
   "cell_type": "markdown",
   "metadata": {},
   "source": [
    "Utilizando a base de dados archive.ics.uci.edu/ml/datasets/iris:"
   ]
  },
  {
   "cell_type": "code",
   "execution_count": 81,
   "metadata": {},
   "outputs": [
    {
     "data": {
      "text/html": [
       "<div>\n",
       "<style scoped>\n",
       "    .dataframe tbody tr th:only-of-type {\n",
       "        vertical-align: middle;\n",
       "    }\n",
       "\n",
       "    .dataframe tbody tr th {\n",
       "        vertical-align: top;\n",
       "    }\n",
       "\n",
       "    .dataframe thead th {\n",
       "        text-align: right;\n",
       "    }\n",
       "</style>\n",
       "<table border=\"1\" class=\"dataframe\">\n",
       "  <thead>\n",
       "    <tr style=\"text-align: right;\">\n",
       "      <th></th>\n",
       "      <th>sepal_length</th>\n",
       "      <th>sepal_width</th>\n",
       "      <th>petal_length</th>\n",
       "      <th>petal_width</th>\n",
       "      <th>variety</th>\n",
       "    </tr>\n",
       "  </thead>\n",
       "  <tbody>\n",
       "    <tr>\n",
       "      <th>0</th>\n",
       "      <td>5.1</td>\n",
       "      <td>3.5</td>\n",
       "      <td>1.4</td>\n",
       "      <td>0.2</td>\n",
       "      <td>Iris-setosa</td>\n",
       "    </tr>\n",
       "    <tr>\n",
       "      <th>1</th>\n",
       "      <td>4.9</td>\n",
       "      <td>3.0</td>\n",
       "      <td>1.4</td>\n",
       "      <td>0.2</td>\n",
       "      <td>Iris-setosa</td>\n",
       "    </tr>\n",
       "    <tr>\n",
       "      <th>2</th>\n",
       "      <td>4.7</td>\n",
       "      <td>3.2</td>\n",
       "      <td>1.3</td>\n",
       "      <td>0.2</td>\n",
       "      <td>Iris-setosa</td>\n",
       "    </tr>\n",
       "    <tr>\n",
       "      <th>3</th>\n",
       "      <td>4.6</td>\n",
       "      <td>3.1</td>\n",
       "      <td>1.5</td>\n",
       "      <td>0.2</td>\n",
       "      <td>Iris-setosa</td>\n",
       "    </tr>\n",
       "    <tr>\n",
       "      <th>4</th>\n",
       "      <td>5.0</td>\n",
       "      <td>3.6</td>\n",
       "      <td>1.4</td>\n",
       "      <td>0.2</td>\n",
       "      <td>Iris-setosa</td>\n",
       "    </tr>\n",
       "  </tbody>\n",
       "</table>\n",
       "</div>"
      ],
      "text/plain": [
       "   sepal_length  sepal_width  petal_length  petal_width      variety\n",
       "0           5.1          3.5           1.4          0.2  Iris-setosa\n",
       "1           4.9          3.0           1.4          0.2  Iris-setosa\n",
       "2           4.7          3.2           1.3          0.2  Iris-setosa\n",
       "3           4.6          3.1           1.5          0.2  Iris-setosa\n",
       "4           5.0          3.6           1.4          0.2  Iris-setosa"
      ]
     },
     "execution_count": 81,
     "metadata": {},
     "output_type": "execute_result"
    }
   ],
   "source": [
    "import pandas as pd\n",
    "import numpy as np\n",
    "\n",
    "data = pd.read_csv(\"iris.csv\")\n",
    "data.head()"
   ]
  },
  {
   "cell_type": "markdown",
   "metadata": {},
   "source": [
    "#### 1. (25 pontos) Utilizando o classicador Naive Bayes para dados categóricos e metade dos exemplos de cada classe como conjunto de treino e o resante como conjunto de teste, avalie o classicador utilizando discretização de variáveis. Experimente diferene quantidades de intervalos por variável e escolha o mais adequado."
   ]
  },
  {
   "cell_type": "code",
   "execution_count": 82,
   "metadata": {},
   "outputs": [
    {
     "name": "stderr",
     "output_type": "stream",
     "text": [
      "/tmp/ipykernel_457/4036210145.py:14: FutureWarning: The frame.append method is deprecated and will be removed from pandas in a future version. Use pandas.concat instead.\n",
      "  first_half = first_half.append(datasets[\"Iris-versicolor\"][:len(datasets[\"Iris-versicolor\"])//2], ignore_index=True)\n",
      "/tmp/ipykernel_457/4036210145.py:15: FutureWarning: The frame.append method is deprecated and will be removed from pandas in a future version. Use pandas.concat instead.\n",
      "  second_half = second_half.append(datasets[\"Iris-versicolor\"][len(datasets[\"Iris-versicolor\"])//2:], ignore_index=True)\n",
      "/tmp/ipykernel_457/4036210145.py:18: FutureWarning: The frame.append method is deprecated and will be removed from pandas in a future version. Use pandas.concat instead.\n",
      "  first_half = first_half.append(datasets[\"Iris-virginica\"][:len(datasets[\"Iris-virginica\"])//2], ignore_index=True)\n",
      "/tmp/ipykernel_457/4036210145.py:19: FutureWarning: The frame.append method is deprecated and will be removed from pandas in a future version. Use pandas.concat instead.\n",
      "  second_half = second_half.append(datasets[\"Iris-virginica\"][len(datasets[\"Iris-virginica\"])//2:], ignore_index=True)\n"
     ]
    },
    {
     "data": {
      "text/html": [
       "<div>\n",
       "<style scoped>\n",
       "    .dataframe tbody tr th:only-of-type {\n",
       "        vertical-align: middle;\n",
       "    }\n",
       "\n",
       "    .dataframe tbody tr th {\n",
       "        vertical-align: top;\n",
       "    }\n",
       "\n",
       "    .dataframe thead th {\n",
       "        text-align: right;\n",
       "    }\n",
       "</style>\n",
       "<table border=\"1\" class=\"dataframe\">\n",
       "  <thead>\n",
       "    <tr style=\"text-align: right;\">\n",
       "      <th></th>\n",
       "      <th>sepal_length</th>\n",
       "      <th>sepal_width</th>\n",
       "      <th>petal_length</th>\n",
       "      <th>petal_width</th>\n",
       "      <th>variety</th>\n",
       "    </tr>\n",
       "  </thead>\n",
       "  <tbody>\n",
       "    <tr>\n",
       "      <th>0</th>\n",
       "      <td>5.0</td>\n",
       "      <td>3.0</td>\n",
       "      <td>1.6</td>\n",
       "      <td>0.2</td>\n",
       "      <td>Iris-setosa</td>\n",
       "    </tr>\n",
       "    <tr>\n",
       "      <th>1</th>\n",
       "      <td>5.0</td>\n",
       "      <td>3.4</td>\n",
       "      <td>1.6</td>\n",
       "      <td>0.4</td>\n",
       "      <td>Iris-setosa</td>\n",
       "    </tr>\n",
       "    <tr>\n",
       "      <th>2</th>\n",
       "      <td>5.2</td>\n",
       "      <td>3.5</td>\n",
       "      <td>1.5</td>\n",
       "      <td>0.2</td>\n",
       "      <td>Iris-setosa</td>\n",
       "    </tr>\n",
       "    <tr>\n",
       "      <th>3</th>\n",
       "      <td>5.2</td>\n",
       "      <td>3.4</td>\n",
       "      <td>1.4</td>\n",
       "      <td>0.2</td>\n",
       "      <td>Iris-setosa</td>\n",
       "    </tr>\n",
       "    <tr>\n",
       "      <th>4</th>\n",
       "      <td>4.7</td>\n",
       "      <td>3.2</td>\n",
       "      <td>1.6</td>\n",
       "      <td>0.2</td>\n",
       "      <td>Iris-setosa</td>\n",
       "    </tr>\n",
       "    <tr>\n",
       "      <th>...</th>\n",
       "      <td>...</td>\n",
       "      <td>...</td>\n",
       "      <td>...</td>\n",
       "      <td>...</td>\n",
       "      <td>...</td>\n",
       "    </tr>\n",
       "    <tr>\n",
       "      <th>70</th>\n",
       "      <td>6.7</td>\n",
       "      <td>3.0</td>\n",
       "      <td>5.2</td>\n",
       "      <td>2.3</td>\n",
       "      <td>Iris-virginica</td>\n",
       "    </tr>\n",
       "    <tr>\n",
       "      <th>71</th>\n",
       "      <td>6.3</td>\n",
       "      <td>2.5</td>\n",
       "      <td>5.0</td>\n",
       "      <td>1.9</td>\n",
       "      <td>Iris-virginica</td>\n",
       "    </tr>\n",
       "    <tr>\n",
       "      <th>72</th>\n",
       "      <td>6.5</td>\n",
       "      <td>3.0</td>\n",
       "      <td>5.2</td>\n",
       "      <td>2.0</td>\n",
       "      <td>Iris-virginica</td>\n",
       "    </tr>\n",
       "    <tr>\n",
       "      <th>73</th>\n",
       "      <td>6.2</td>\n",
       "      <td>3.4</td>\n",
       "      <td>5.4</td>\n",
       "      <td>2.3</td>\n",
       "      <td>Iris-virginica</td>\n",
       "    </tr>\n",
       "    <tr>\n",
       "      <th>74</th>\n",
       "      <td>5.9</td>\n",
       "      <td>3.0</td>\n",
       "      <td>5.1</td>\n",
       "      <td>1.8</td>\n",
       "      <td>Iris-virginica</td>\n",
       "    </tr>\n",
       "  </tbody>\n",
       "</table>\n",
       "<p>75 rows × 5 columns</p>\n",
       "</div>"
      ],
      "text/plain": [
       "    sepal_length  sepal_width  petal_length  petal_width         variety\n",
       "0            5.0          3.0           1.6          0.2     Iris-setosa\n",
       "1            5.0          3.4           1.6          0.4     Iris-setosa\n",
       "2            5.2          3.5           1.5          0.2     Iris-setosa\n",
       "3            5.2          3.4           1.4          0.2     Iris-setosa\n",
       "4            4.7          3.2           1.6          0.2     Iris-setosa\n",
       "..           ...          ...           ...          ...             ...\n",
       "70           6.7          3.0           5.2          2.3  Iris-virginica\n",
       "71           6.3          2.5           5.0          1.9  Iris-virginica\n",
       "72           6.5          3.0           5.2          2.0  Iris-virginica\n",
       "73           6.2          3.4           5.4          2.3  Iris-virginica\n",
       "74           5.9          3.0           5.1          1.8  Iris-virginica\n",
       "\n",
       "[75 rows x 5 columns]"
      ]
     },
     "execution_count": 82,
     "metadata": {},
     "output_type": "execute_result"
    }
   ],
   "source": [
    "from sklearn.datasets import load_iris\n",
    "from sklearn.model_selection import train_test_split\n",
    "from sklearn.naive_bayes import GaussianNB\n",
    "\n",
    "datasets = {}\n",
    "by_class = data.groupby('variety')\n",
    "\n",
    "for groups, data2 in by_class:\n",
    "    datasets[groups] = data2\n",
    "\n",
    "first_half = datasets[\"Iris-setosa\"][:len(datasets[\"Iris-setosa\"])//2]\n",
    "second_half = datasets[\"Iris-setosa\"][len(datasets[\"Iris-setosa\"])//2:]\n",
    "\n",
    "first_half = first_half.append(datasets[\"Iris-versicolor\"][:len(datasets[\"Iris-versicolor\"])//2], ignore_index=True)\n",
    "second_half = second_half.append(datasets[\"Iris-versicolor\"][len(datasets[\"Iris-versicolor\"])//2:], ignore_index=True)\n",
    "\n",
    "\n",
    "first_half = first_half.append(datasets[\"Iris-virginica\"][:len(datasets[\"Iris-virginica\"])//2], ignore_index=True)\n",
    "second_half = second_half.append(datasets[\"Iris-virginica\"][len(datasets[\"Iris-virginica\"])//2:], ignore_index=True)\n",
    "\n",
    "second_half\n"
   ]
  },
  {
   "cell_type": "code",
   "execution_count": 83,
   "metadata": {},
   "outputs": [
    {
     "name": "stderr",
     "output_type": "stream",
     "text": [
      "/tmp/ipykernel_457/1033233223.py:1: FutureWarning: The frame.append method is deprecated and will be removed from pandas in a future version. Use pandas.concat instead.\n",
      "  reorganized_df = first_half.append(second_half, ignore_index=True)\n"
     ]
    }
   ],
   "source": [
    "reorganized_df = first_half.append(second_half, ignore_index=True)\n",
    "\n",
    "target = reorganized_df[\"variety\"]\n",
    "\n",
    "reorganized_df_wt_class = reorganized_df.drop([\"variety\"], axis=1)\n",
    "\n",
    "reorganized_df_wt_class_2_i = reorganized_df_wt_class.copy()\n",
    "\n",
    "reorganized_df_wt_class_3_i = reorganized_df_wt_class.copy()\n",
    "\n",
    "reorganized_df_wt_class_4_i = reorganized_df_wt_class.copy()\n",
    "\n",
    "reorganized_df_wt_class_5_i = reorganized_df_wt_class.copy()\n",
    "\n",
    "reorganized_df_wt_class_6_i = reorganized_df_wt_class.copy()\n",
    "\n",
    "reorganized_df_wt_class_7_i = reorganized_df_wt_class.copy()\n",
    "\n",
    "for x in reorganized_df_wt_class:\n",
    "    reorganized_df_wt_class_2_i[x] = pd.cut(x=reorganized_df_wt_class[x], bins=2, labels=[1, 2], retbins=False,\n",
    "                                            right=False, duplicates='raise', ordered=True)\n",
    "\n",
    "for x in reorganized_df_wt_class:\n",
    "    reorganized_df_wt_class_3_i[x] = pd.cut(x=reorganized_df_wt_class[x], bins=3, labels=[1, 2, 3], retbins=False,\n",
    "                                            right=False, duplicates='raise', ordered=True)\n",
    "\n",
    "for x in reorganized_df_wt_class:\n",
    "    reorganized_df_wt_class_4_i[x] = pd.cut(x=reorganized_df_wt_class[x], bins=4, labels=[1, 2, 3, 4], retbins=False,\n",
    "                                            right=False, duplicates='raise', ordered=True)\n",
    "\n",
    "for x in reorganized_df_wt_class:\n",
    "    reorganized_df_wt_class_5_i[x] = pd.cut(x=reorganized_df_wt_class[x], bins=5, labels=[1, 2, 3, 4, 5], retbins=False,\n",
    "                                            right=False, duplicates='raise', ordered=True)\n",
    "\n",
    "for x in reorganized_df_wt_class:\n",
    "    reorganized_df_wt_class_6_i[x] = pd.cut(x=reorganized_df_wt_class[x], bins=6, labels=[1, 2, 3, 4, 5, 6], retbins=False,\n",
    "                                            right=False, duplicates='raise', ordered=True)\n",
    "\n",
    "for x in reorganized_df_wt_class:\n",
    "    reorganized_df_wt_class_7_i[x] = pd.cut(x=reorganized_df_wt_class[x], bins=7, labels=[1, 2, 3, 4, 5, 6, 7], retbins=False,\n",
    "                                            right=False, duplicates='raise', ordered=True)\n",
    "\n",
    "X_train_2, X_test_2, y_train_2, y_test_2 = train_test_split(reorganized_df_wt_class_2_i, target, test_size=0.5, random_state=0)\n",
    "\n",
    "X_train_3, X_test_3, y_train_3, y_test_3 = train_test_split(reorganized_df_wt_class_3_i, target, test_size=0.5, random_state=0)\n",
    "\n",
    "X_train_4, X_test_4, y_train_4, y_test_4 = train_test_split(reorganized_df_wt_class_4_i, target, test_size=0.5, random_state=0)\n",
    "\n",
    "X_train_5, X_test_5, y_train_5, y_test_5 = train_test_split(reorganized_df_wt_class_5_i, target, test_size=0.5, random_state=0)\n",
    "\n",
    "X_train_6, X_test_6, y_train_6, y_test_6 = train_test_split(reorganized_df_wt_class_6_i, target, test_size=0.5, random_state=0)\n",
    "\n",
    "X_train_7, X_test_7, y_train_7, y_test_7 = train_test_split(reorganized_df_wt_class_7_i, target, test_size=0.5, random_state=0)\n"
   ]
  },
  {
   "cell_type": "code",
   "execution_count": 84,
   "metadata": {},
   "outputs": [
    {
     "data": {
      "text/plain": [
       "Iris-versicolor    28\n",
       "Iris-setosa        24\n",
       "Iris-virginica     23\n",
       "Name: variety, dtype: int64"
      ]
     },
     "execution_count": 84,
     "metadata": {},
     "output_type": "execute_result"
    }
   ],
   "source": [
    "cont = y_train_3.value_counts()\n",
    "\n",
    "cont"
   ]
  },
  {
   "cell_type": "code",
   "execution_count": 85,
   "metadata": {},
   "outputs": [
    {
     "data": {
      "text/plain": [
       "Iris-virginica     27\n",
       "Iris-setosa        26\n",
       "Iris-versicolor    22\n",
       "Name: variety, dtype: int64"
      ]
     },
     "execution_count": 85,
     "metadata": {},
     "output_type": "execute_result"
    }
   ],
   "source": [
    "cont = y_test_3.value_counts()\n",
    "\n",
    "cont"
   ]
  },
  {
   "cell_type": "code",
   "execution_count": 86,
   "metadata": {},
   "outputs": [
    {
     "data": {
      "text/plain": [
       "0.7333333333333333"
      ]
     },
     "execution_count": 86,
     "metadata": {},
     "output_type": "execute_result"
    }
   ],
   "source": [
    "from sklearn.naive_bayes import GaussianNB\n",
    "from sklearn import metrics\n",
    "\n",
    "cnb = GaussianNB()\n",
    "cnb.fit(X_train_2, y_train_2)\n",
    "predict = cnb.predict(X_test_2)\n",
    "\n",
    "metrics.accuracy_score(y_test_2, predict)"
   ]
  },
  {
   "cell_type": "code",
   "execution_count": 87,
   "metadata": {},
   "outputs": [
    {
     "data": {
      "text/plain": [
       "0.96"
      ]
     },
     "execution_count": 87,
     "metadata": {},
     "output_type": "execute_result"
    }
   ],
   "source": [
    "cnb = GaussianNB()\n",
    "cnb.fit(X_train_3, y_train_3)\n",
    "predict = cnb.predict(X_test_3)\n",
    "\n",
    "metrics.accuracy_score(y_test_3, predict)"
   ]
  },
  {
   "cell_type": "code",
   "execution_count": 88,
   "metadata": {},
   "outputs": [
    {
     "data": {
      "text/plain": [
       "0.9066666666666666"
      ]
     },
     "execution_count": 88,
     "metadata": {},
     "output_type": "execute_result"
    }
   ],
   "source": [
    "cnb = GaussianNB()\n",
    "cnb.fit(X_train_4, y_train_4)\n",
    "predict = cnb.predict(X_test_4)\n",
    "\n",
    "metrics.accuracy_score(y_test_4, predict)"
   ]
  },
  {
   "cell_type": "code",
   "execution_count": 89,
   "metadata": {},
   "outputs": [
    {
     "data": {
      "text/plain": [
       "0.88"
      ]
     },
     "execution_count": 89,
     "metadata": {},
     "output_type": "execute_result"
    }
   ],
   "source": [
    "cnb = GaussianNB()\n",
    "cnb.fit(X_train_5, y_train_5)\n",
    "predict = cnb.predict(X_test_5)\n",
    "\n",
    "metrics.accuracy_score(y_test_5, predict)"
   ]
  },
  {
   "cell_type": "code",
   "execution_count": 90,
   "metadata": {},
   "outputs": [
    {
     "data": {
      "text/plain": [
       "0.8933333333333333"
      ]
     },
     "execution_count": 90,
     "metadata": {},
     "output_type": "execute_result"
    }
   ],
   "source": [
    "cnb = GaussianNB()\n",
    "cnb.fit(X_train_6, y_train_6)\n",
    "predict = cnb.predict(X_test_6)\n",
    "\n",
    "metrics.accuracy_score(y_test_6, predict)"
   ]
  },
  {
   "cell_type": "code",
   "execution_count": 91,
   "metadata": {},
   "outputs": [
    {
     "data": {
      "text/plain": [
       "0.8"
      ]
     },
     "execution_count": 91,
     "metadata": {},
     "output_type": "execute_result"
    }
   ],
   "source": [
    "cnb = GaussianNB()\n",
    "cnb.fit(X_train_7, y_train_7)\n",
    "predict = cnb.predict(X_test_7)\n",
    "\n",
    "metrics.accuracy_score(y_test_7, predict)"
   ]
  },
  {
   "cell_type": "markdown",
   "metadata": {},
   "source": [
    "<font color='#ebaf09'>Verificamos que com 3 intervalos obtivemos o melhor resultado</font>"
   ]
  },
  {
   "cell_type": "markdown",
   "metadata": {},
   "source": [
    "#### 2. (25 pontos) Faça sua própria implementação da Janela de Parzen retangular e mostre o gráfico da densidade a posteriori de cada variável por classe. Experimente diferente larguras de janelas e escolha a mais adequada."
   ]
  },
  {
   "cell_type": "code",
   "execution_count": null,
   "metadata": {},
   "outputs": [],
   "source": []
  },
  {
   "cell_type": "markdown",
   "metadata": {},
   "source": [
    "#### 3. (25 pontos) Faça sua própria implementação da Janela de Parzen gaussiana e mostre o grácoda densidade a posteriori de cada variável por classe. Experimente diferente larguras de janelas e escolha a mais adequada."
   ]
  },
  {
   "cell_type": "code",
   "execution_count": null,
   "metadata": {},
   "outputs": [],
   "source": []
  },
  {
   "cell_type": "markdown",
   "metadata": {},
   "source": [
    "#### 4. (25 pontos) Faça sua própria implementação do classicador Naive Bayes utilizando estimação de densidade por Janela de Parzen. Avalie o classicador utilizando metade de todos os"
   ]
  },
  {
   "cell_type": "code",
   "execution_count": null,
   "metadata": {},
   "outputs": [],
   "source": []
  }
 ],
 "metadata": {
  "kernelspec": {
   "display_name": "Python 3.8.10 64-bit",
   "language": "python",
   "name": "python3"
  },
  "language_info": {
   "codemirror_mode": {
    "name": "ipython",
    "version": 3
   },
   "file_extension": ".py",
   "mimetype": "text/x-python",
   "name": "python",
   "nbconvert_exporter": "python",
   "pygments_lexer": "ipython3",
   "version": "3.8.10"
  },
  "orig_nbformat": 4,
  "vscode": {
   "interpreter": {
    "hash": "916dbcbb3f70747c44a77c7bcd40155683ae19c65e1c03b4aa3499c5328201f1"
   }
  }
 },
 "nbformat": 4,
 "nbformat_minor": 2
}
